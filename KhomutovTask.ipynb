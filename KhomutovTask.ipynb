{
 "cells": [
  {
   "cell_type": "code",
   "execution_count": 12,
   "metadata": {},
   "outputs": [],
   "source": [
    "import numpy as np\n",
    "from generator import Croupier"
   ]
  },
  {
   "cell_type": "markdown",
   "metadata": {},
   "source": [
    "Импортируем класс Croupier, который отвечает за генерацию данных и создадим экземпляр класса с заданными значениями вероятности для нечестного кубика, а так же вероятности перехода с честного кубика на нечестный и на себя самого, и вероятности перехода с нечестного кубика на себя и на честный. Проверим что получаем выпавшие знаечение кубика, а так же метку кубика"
   ]
  },
  {
   "cell_type": "code",
   "execution_count": 16,
   "metadata": {
    "scrolled": true
   },
   "outputs": [
    {
     "name": "stdout",
     "output_type": "stream",
     "text": [
      "(1, 'F')\n",
      "(3, 'F')\n",
      "(3, 'U')\n",
      "(1, 'U')\n",
      "(4, 'U')\n",
      "(5, 'F')\n",
      "(3, 'F')\n",
      "(3, 'F')\n",
      "(1, 'F')\n",
      "(2, 'F')\n"
     ]
    }
   ],
   "source": [
    "casino = Croupier([0.1,0.1,0.1,0.1,0.1,1/2],[0.05,0.95],[0.9,0.1])\n",
    "for i in range(10):\n",
    "    print(casino())"
   ]
  },
  {
   "cell_type": "markdown",
   "metadata": {},
   "source": [
    "Сгенерируем датасеты размером 1 000, 10 000 и 100 000"
   ]
  },
  {
   "cell_type": "code",
   "execution_count": 182,
   "metadata": {},
   "outputs": [],
   "source": [
    "dataset100 = []\n",
    "dataset100Labels = []\n",
    "\n",
    "for i in range(100):\n",
    "    data, label = casino()\n",
    "    dataset100.append(data)\n",
    "    dataset100Labels.append(label)"
   ]
  },
  {
   "cell_type": "code",
   "execution_count": 17,
   "metadata": {},
   "outputs": [],
   "source": [
    "dataset300 = []\n",
    "dataset300Labels = []\n",
    "\n",
    "for i in range(300):\n",
    "    data, label = casino()\n",
    "    dataset300.append(data)\n",
    "    dataset300Labels.append(label)"
   ]
  },
  {
   "cell_type": "code",
   "execution_count": 98,
   "metadata": {},
   "outputs": [],
   "source": [
    "dataset1000 = []\n",
    "dataset1000Labels = []\n",
    "\n",
    "for i in range(1000):\n",
    "    data, label = casino()\n",
    "    dataset1000.append(data)\n",
    "    dataset1000Labels.append(label)"
   ]
  },
  {
   "cell_type": "code",
   "execution_count": 30,
   "metadata": {},
   "outputs": [],
   "source": [
    "dataset10000 = []\n",
    "dataset10000Labels = []\n",
    "\n",
    "for i in range(10000):\n",
    "    data, label = casino()\n",
    "    dataset10000.append(data)\n",
    "    dataset10000Labels.append(label)"
   ]
  },
  {
   "cell_type": "code",
   "execution_count": 31,
   "metadata": {},
   "outputs": [],
   "source": [
    "dataset100000 = []\n",
    "dataset100000Labels = []\n",
    "\n",
    "for i in range(100000):\n",
    "    data, label = casino()\n",
    "    dataset100000.append(data)\n",
    "    dataset100000Labels.append(label)"
   ]
  },
  {
   "cell_type": "markdown",
   "metadata": {},
   "source": [
    "Определим базовый класс алгоритма"
   ]
  },
  {
   "cell_type": "code",
   "execution_count": 152,
   "metadata": {},
   "outputs": [],
   "source": [
    "class baseAlgo():\n",
    "    def __init__(self, data, fairDiceStateProbability,\n",
    "                 unfairDiceStateProbability, unfairDice, fairDice = None):\n",
    "        self.data = data\n",
    "        self.L = len(data)\n",
    "        \n",
    "        #if fairDice == None: self.fairDice = np.log([1/6 for i in range(6)])\n",
    "        #else: self.fairDice = np.log(fairDice)\n",
    "        #self.unfairDice = np.log(unfairDice)\n",
    "         \n",
    "        #self.toFairState = np.log([fairDiceStateProbability[0],unfairDiceStateProbability[0]])\n",
    "        #self.toUnfariState = np.log([fairDiceStateProbability[1],unfairDiceStateProbability[1]])\n",
    "        \n",
    "        #self.fairDiceStateProbability = np.log(fairDiceStateProbability)\n",
    "        #self.unfairDiceStateProbability = np.log(unfairDiceStateProbability)\n",
    "        \n",
    "        if fairDice == None: self.fairDice = np.array([1/6 for i in range(6)])\n",
    "        else: self.fairDice = np.array(fairDice)\n",
    "        self.unfairDice = np.array(unfairDice)\n",
    "         \n",
    "        self.toFairState = np.array([fairDiceStateProbability[0],unfairDiceStateProbability[0]])\n",
    "        self.toUnfariState = np.array([fairDiceStateProbability[1],unfairDiceStateProbability[1]])\n",
    "        \n",
    "        self.fairDiceStateProbability = np.array(fairDiceStateProbability)\n",
    "        self.unfairDiceStateProbability = np.array(unfairDiceStateProbability)\n",
    "        \n",
    "        self.states = ['Fair','Unfair']\n",
    "        self.dices = [self.fairDice,self.unfairDice]\n",
    "        self.transitions = [self.toFairState, self.toUnfariState]"
   ]
  },
  {
   "cell_type": "code",
   "execution_count": 187,
   "metadata": {},
   "outputs": [],
   "source": [
    "class algorithmViterbi(baseAlgo):\n",
    "    def __init__(self, data, fairDiceStateProbability,\n",
    "                 unfairDiceStateProbability, unfairDice, fairDice = None):\n",
    "        baseAlgo.__init__(self, data, fairDiceStateProbability,\n",
    "                 unfairDiceStateProbability, unfairDice, fairDice = None)\n",
    "        \n",
    "        self.v = None\n",
    "        self.ptr = None\n",
    "        self.path = None\n",
    "\n",
    "    def step(self,index):\n",
    "        self.v.append([])\n",
    "        self.ptr.append([])\n",
    "        previuosState = self.v[index-1]\n",
    "        for transitionProbability, probability in zip(self.transitions, self.dices):\n",
    "            observedProbability = probability[self.data[index]-1]\n",
    "            #print(\"PROBABILITY IN CURRENT STATE {}\".format(probability))\n",
    "            #print(\"DATA {} :PROBABILITY IN CURRENT STATE {}\".format(self.data[index],observedProbability))\n",
    "            \n",
    "            thisProbability = observedProbability * np.max(previuosState*transitionProbability)\n",
    "            ptr = 'F' if np.argmax(previuosState*transitionProbability) == 0 else 'U'\n",
    "            \n",
    "            #print(\"TRANSITION PROBABILITY: {}\".format(transitionProbability))\n",
    "            \n",
    "            #thisProbability = observedProbability + np.max(previuosState + transitionProbability)\n",
    "            #ptr = 'F' if np.argmax(previuosState + transitionProbability) == 0 else 'U'\n",
    "            #print('PTR: {}'.format(previuosState + transitionProbability))\n",
    "            \n",
    "            self.v[-1].append(thisProbability)\n",
    "            self.ptr[-1].append(ptr)\n",
    "            \n",
    "    def __call__(self):\n",
    "        if self.path == None: self.initialization()\n",
    "        return self.path\n",
    "        \n",
    "        \n",
    "    def initialization(self):\n",
    "        \n",
    "        self.ptr = []\n",
    "        self.v = []\n",
    "        self.path = []\n",
    "        \n",
    "        self.v.append([1,0]) # Не уверен\n",
    "        \n",
    "        # Рекурсия\n",
    "        for i in range(1,self.L):\n",
    "            self.step(i)\n",
    "            #print('PTR, V: {} _ {}'.format(self.ptr[i-1], self.v[i]))\n",
    "                \n",
    "        # Завершение\n",
    "        self.Probability = max(self.v[-1])\n",
    "        ptr, index = ('F', 0) if np.argmax(self.v[-1]) == 0 else ('U', 1)\n",
    "        #print(\"PTR,INDEX: {} _ {}\".format(ptr, index))\n",
    "        self.path.append(ptr)\n",
    "        \n",
    "        # Обратный ход\n",
    "        for step in range(self.L - 2,0,-1):\n",
    "            ptr, index = ('F', 0) if self.ptr[step][index] == 'F' else ('U', 1)\n",
    "            #print(self.ptr[step])\n",
    "            #print(self.v[step])\n",
    "            #print(\"Step {} : PTR,INDEX: {} _ {}\".format(step,ptr, index))\n",
    "            self.path.append(ptr)\n",
    "        self.path = self.path[::-1]\n",
    "        \n",
    "    def probability(self):\n",
    "        return np.e**self.Probability"
   ]
  },
  {
   "cell_type": "code",
   "execution_count": 168,
   "metadata": {},
   "outputs": [],
   "source": [
    "testData = [1,2,4,2,6,6,6,1,6] # F,F,F,F,U,U,U,U,U"
   ]
  },
  {
   "cell_type": "code",
   "execution_count": 169,
   "metadata": {},
   "outputs": [
    {
     "name": "stdout",
     "output_type": "stream",
     "text": [
      "PTR, V: ['F', 'F'] _ [0.15833333333333333, 0.005000000000000001]\n",
      "PTR, V: ['F', 'F'] _ [0.02506944444444444, 0.0007916666666666668]\n",
      "PTR, V: ['F', 'F'] _ [0.003969328703703702, 0.0001253472222222222]\n",
      "PTR, V: ['F', 'F'] _ [0.0006284770447530861, 9.923321759259256e-05]\n",
      "PTR, V: ['F', 'U'] _ [9.950886541923863e-05, 4.465494791666665e-05]\n",
      "PTR, V: ['F', 'U'] _ [1.5755570358046112e-05, 2.0094726562499995e-05]\n",
      "PTR, V: ['F', 'U'] _ [2.494631973357301e-06, 1.8085253906249997e-06]\n",
      "PTR, V: ['F', 'U'] _ [3.9498339578157264e-07, 8.138364257812499e-07]\n"
     ]
    },
    {
     "data": {
      "text/plain": [
       "['F', 'F', 'F', 'U', 'U', 'U', 'U', 'U']"
      ]
     },
     "execution_count": 169,
     "metadata": {},
     "output_type": "execute_result"
    }
   ],
   "source": [
    "hackCasinoViterbi = algorithmViterbi(testData, [0.95,0.05],[0.1,0.9],[0.1,0.1,0.1,0.1,0.1,1/2])\n",
    "result = hackCasinoViterbi()\n",
    "hackCasinoViterbi.probability()\n",
    "result"
   ]
  },
  {
   "cell_type": "code",
   "execution_count": 176,
   "metadata": {
    "scrolled": true
   },
   "outputs": [
    {
     "name": "stdout",
     "output_type": "stream",
     "text": [
      "PTR, V: ['F', 'F'] _ [0.15833333333333333, 0.005000000000000001]\n",
      "PTR, V: ['F', 'F'] _ [0.02506944444444444, 0.0007916666666666668]\n",
      "PTR, V: ['F', 'F'] _ [0.003969328703703702, 0.0001253472222222222]\n",
      "PTR, V: ['F', 'F'] _ [0.0006284770447530861, 9.923321759259256e-05]\n",
      "PTR, V: ['F', 'U'] _ [9.950886541923863e-05, 4.465494791666665e-05]\n",
      "PTR, V: ['F', 'U'] _ [1.5755570358046112e-05, 2.0094726562499995e-05]\n",
      "PTR, V: ['F', 'U'] _ [2.494631973357301e-06, 1.8085253906249997e-06]\n",
      "PTR, V: ['F', 'U'] _ [3.9498339578157264e-07, 8.138364257812499e-07]\n",
      "PTR, V: ['F', 'U'] _ [6.253903766541567e-08, 7.324527832031249e-08]\n",
      "PTR, V: ['F', 'U'] _ [9.902014297024146e-09, 6.5920750488281245e-09]\n",
      "PTR, V: ['F', 'U'] _ [1.5678189303621563e-09, 2.966433771972656e-09]\n",
      "PTR, V: ['F', 'U'] _ [2.4823799730734135e-10, 1.3348951973876951e-09]\n",
      "PTR, V: ['F', 'U'] _ [3.9304349573662375e-11, 6.007028388244629e-10]\n",
      "PTR, V: ['U', 'U'] _ [1.0011713980407714e-11, 2.703162774710083e-10]\n",
      "PTR, V: ['U', 'U'] _ [4.505271291183472e-12, 1.2164232486195374e-10]\n",
      "PTR, V: ['U', 'U'] _ [2.027372081032562e-12, 5.473904618787918e-11]\n",
      "PTR, V: ['U', 'U'] _ [9.12317436464653e-13, 2.4632570784545634e-11]\n"
     ]
    },
    {
     "data": {
      "text/plain": [
       "['F',\n",
       " 'F',\n",
       " 'F',\n",
       " 'U',\n",
       " 'U',\n",
       " 'U',\n",
       " 'U',\n",
       " 'U',\n",
       " 'U',\n",
       " 'U',\n",
       " 'U',\n",
       " 'U',\n",
       " 'U',\n",
       " 'U',\n",
       " 'U',\n",
       " 'U',\n",
       " 'U']"
      ]
     },
     "execution_count": 176,
     "metadata": {},
     "output_type": "execute_result"
    }
   ],
   "source": [
    "testData2 = [1,2,4,2,6,6,6,1,6,2,5,6,6,6,6,6,6,6] # F,F,F,F,U,U,U,U,U,F,U,U,U\n",
    "hackCasinoViterbi = algorithmViterbi(testData2, [0.95,0.05],[0.1,0.9],[0.1,0.1,0.1,0.1,0.1,1/2])\n",
    "result = hackCasinoViterbi()\n",
    "hackCasinoViterbi.probability()\n",
    "result"
   ]
  },
  {
   "cell_type": "code",
   "execution_count": 188,
   "metadata": {},
   "outputs": [
    {
     "name": "stdout",
     "output_type": "stream",
     "text": [
      "['F', 'F', 'F', 'F', 'F', 'F', 'F', 'F', 'F', 'F', 'F', 'F', 'F', 'F', 'F', 'F', 'F', 'F', 'F', 'F', 'F', 'F', 'F', 'F', 'F', 'F', 'F', 'F', 'F', 'F', 'F', 'F', 'F', 'F', 'F', 'F', 'F', 'F', 'F', 'F', 'F', 'F', 'F', 'F', 'F', 'F', 'F', 'F', 'F', 'F', 'F', 'F', 'F', 'F', 'F', 'F', 'F', 'F', 'F', 'F', 'F', 'F', 'F', 'F', 'F', 'F', 'F', 'F', 'F', 'F', 'F', 'F', 'F', 'F', 'F', 'F', 'F', 'F', 'F', 'F', 'F', 'F', 'F', 'F', 'F', 'F', 'F', 'F', 'F', 'F', 'F', 'F', 'F', 'F', 'F', 'F', 'F', 'F', 'F', 'F', 'F', 'F', 'F', 'F', 'F', 'F', 'F', 'F', 'F', 'F', 'F', 'F', 'F', 'F', 'F', 'F', 'F', 'F', 'F', 'F', 'F', 'F', 'F', 'F', 'F', 'F', 'F', 'F', 'F', 'F', 'F', 'F', 'F', 'F', 'F', 'F', 'F', 'F', 'F', 'F', 'F', 'F', 'F', 'F', 'F', 'F', 'F', 'F', 'F', 'F', 'F', 'F', 'F', 'F', 'F', 'F', 'F', 'F', 'F', 'F', 'F', 'F', 'F', 'F', 'F', 'F', 'F', 'F', 'F', 'F', 'F', 'F', 'F', 'F', 'F', 'F', 'F', 'F', 'F', 'F', 'U', 'U', 'U', 'U', 'U', 'U', 'U', 'U', 'U', 'U', 'F', 'F', 'F', 'F', 'F', 'F', 'F', 'F', 'F', 'F', 'F', 'F', 'F', 'F', 'F', 'F', 'F', 'F', 'F', 'F', 'F', 'F', 'F', 'F', 'F', 'F', 'F', 'F', 'F', 'F', 'F', 'F', 'F', 'F', 'F', 'F', 'F', 'F', 'F', 'F', 'F', 'F', 'F', 'F', 'F', 'F', 'F', 'F', 'F', 'F', 'F', 'F', 'F', 'F', 'F', 'F', 'F', 'F', 'F', 'F', 'F', 'F', 'F', 'F', 'F', 'F', 'F', 'F', 'F', 'F', 'F', 'F', 'F', 'F', 'F', 'F', 'F', 'F', 'F', 'F', 'F', 'F', 'F', 'F', 'F', 'F', 'F', 'F', 'F', 'F', 'F', 'F', 'F', 'F', 'F', 'F', 'F', 'F', 'F', 'F', 'F', 'F', 'F', 'F', 'F', 'F', 'F', 'F', 'F', 'F', 'F', 'F', 'F', 'F', 'F', 'F', 'F', 'F', 'F', 'F', 'F', 'F', 'F', 'F', 'F', 'F', 'F', 'F', 'F', 'F', 'F', 'F', 'F', 'F', 'F', 'F', 'F', 'F', 'F', 'F', 'F', 'F', 'F', 'F', 'F', 'F', 'F', 'F', 'F', 'F', 'F', 'F', 'F', 'F', 'F', 'F', 'F', 'F', 'F', 'F', 'F', 'F', 'F', 'F', 'F', 'F', 'F', 'F', 'F', 'F', 'F', 'F', 'F', 'F', 'F', 'F', 'F', 'F', 'F', 'F', 'F', 'F', 'F', 'F', 'F', 'F', 'F', 'F', 'F', 'F', 'F', 'F', 'F', 'F', 'F', 'F', 'F', 'F', 'F', 'F', 'F', 'F', 'F', 'F', 'F', 'F', 'F', 'F', 'F', 'F', 'F', 'F', 'F', 'F', 'F', 'F', 'F', 'F', 'F', 'F', 'F', 'F', 'F', 'F', 'F', 'F', 'F', 'F', 'F', 'F', 'F', 'F', 'F', 'F', 'F', 'F', 'F', 'F', 'F', 'F', 'F', 'F', 'F', 'F', 'F', 'F', 'F', 'F', 'F', 'F', 'F', 'F', 'F', 'F', 'F', 'F', 'F', 'F', 'F', 'F', 'F', 'F', 'F', 'F', 'F', 'F', 'F', 'F', 'F', 'F', 'F', 'F', 'F', 'F', 'F', 'F', 'F', 'F', 'F', 'F', 'F', 'F', 'F', 'F', 'F', 'F', 'F', 'F', 'F', 'F', 'F', 'F', 'F', 'F', 'F', 'F', 'F', 'F', 'F', 'F', 'F', 'F', 'F', 'F', 'F', 'F', 'F', 'F', 'F', 'F', 'F', 'F', 'F', 'F', 'F', 'F', 'F', 'F', 'F', 'F', 'F', 'F', 'F', 'F', 'F', 'F', 'F', 'F', 'F', 'F', 'F', 'F', 'F', 'F', 'F', 'F', 'F', 'F', 'F', 'F', 'F', 'F', 'F', 'F', 'F', 'F', 'F', 'F', 'F', 'F', 'F', 'F', 'F', 'F', 'F', 'F', 'F', 'F', 'F', 'F', 'F', 'F', 'F', 'F', 'F', 'F', 'F', 'F', 'F', 'F', 'F', 'F', 'F', 'F', 'F', 'F', 'F', 'F', 'F', 'F', 'F', 'F', 'F', 'F', 'F', 'F', 'F', 'F', 'F', 'F', 'F', 'F', 'F', 'F', 'F', 'F', 'F', 'F', 'F', 'F', 'F', 'F', 'F', 'F', 'F', 'F', 'F', 'F', 'F', 'F', 'F', 'F', 'F', 'F', 'F', 'F', 'F', 'F', 'F', 'F', 'F', 'F', 'F', 'F', 'F', 'F', 'F', 'F', 'F', 'F', 'F', 'F', 'F', 'F', 'F', 'F', 'F', 'F', 'F', 'F', 'F', 'F', 'F', 'F', 'F', 'F', 'F', 'F', 'F', 'F', 'F', 'F', 'F', 'F', 'F', 'F', 'F', 'F', 'F', 'F', 'F', 'F', 'F', 'F', 'F', 'F', 'F', 'F', 'F', 'F', 'F', 'F', 'F', 'F', 'F', 'F', 'F', 'F', 'F', 'F', 'F', 'F', 'F', 'F', 'F', 'F', 'F', 'F', 'F', 'F', 'F', 'F', 'F', 'F', 'F', 'F', 'F', 'F', 'F', 'F', 'F', 'F', 'F', 'F', 'F', 'F', 'F', 'F', 'F', 'F', 'F', 'F', 'F', 'F', 'F', 'F', 'F', 'F', 'F', 'F', 'F', 'F', 'F', 'F', 'F', 'F', 'F', 'F', 'F', 'F', 'F', 'F', 'F', 'F', 'F', 'F', 'F', 'F', 'F', 'F', 'F', 'F', 'F', 'F', 'F', 'F', 'F', 'F', 'F', 'F', 'F', 'F', 'F', 'F', 'F', 'F', 'F', 'F', 'F', 'F', 'F', 'F', 'F', 'F', 'F', 'F', 'F', 'F', 'F', 'F', 'F', 'F', 'F', 'F', 'F', 'F', 'F', 'F', 'F', 'F', 'F', 'F', 'F', 'F', 'F', 'F', 'F', 'F', 'F', 'F', 'F', 'F', 'F', 'F', 'F', 'F', 'F', 'F', 'F', 'F', 'F', 'F', 'F', 'F', 'F', 'F', 'F', 'F', 'F', 'F', 'F', 'F', 'F', 'F', 'F', 'F', 'F', 'F', 'F', 'F', 'F', 'F', 'F', 'F', 'F', 'F', 'F', 'F', 'F', 'F', 'F', 'F', 'F', 'F', 'F', 'F', 'F', 'F', 'F', 'F', 'F', 'F', 'F', 'F', 'F', 'F', 'F', 'F', 'F', 'F', 'F', 'F', 'F', 'F', 'F', 'F', 'F', 'F', 'F', 'F', 'F', 'F', 'F', 'F', 'F', 'F', 'F', 'F', 'F', 'F', 'F', 'F', 'F', 'F', 'F', 'F', 'F', 'F', 'F', 'F', 'F', 'F', 'F', 'F', 'F', 'F', 'F', 'F', 'F', 'F', 'F', 'F', 'F', 'F', 'F', 'F', 'F', 'F', 'F', 'F', 'F', 'F', 'F', 'F', 'F', 'F', 'F', 'F', 'F', 'F', 'F', 'F', 'F', 'F', 'F', 'F', 'F', 'F', 'F', 'F', 'F', 'F', 'F', 'F', 'F', 'F', 'F', 'F', 'F', 'F', 'F', 'F', 'F', 'F', 'F', 'F', 'F', 'F', 'F', 'F', 'F', 'F', 'F', 'F', 'F', 'F', 'F', 'F', 'F', 'F', 'F', 'F', 'F', 'F', 'F', 'F', 'F', 'F', 'F', 'F', 'F', 'F', 'F', 'F', 'F', 'F', 'F', 'F', 'F', 'F', 'F', 'F', 'F', 'F', 'F', 'F', 'F', 'F', 'F', 'F', 'F', 'F', 'F', 'F', 'F', 'F', 'F', 'F', 'F', 'F', 'F', 'F', 'F', 'F', 'F', 'F', 'F', 'F', 'F', 'F', 'F', 'F', 'F', 'F', 'F', 'F', 'F', 'F', 'F']\n"
     ]
    }
   ],
   "source": [
    "hackCasinoViterbi = algorithmViterbi(dataset1000, [0.95,0.05],[0.1,0.9],[0.1,0.1,0.1,0.1,0.1,1/2])\n",
    "result = hackCasinoViterbi()\n",
    "hackCasinoViterbi.probability()\n",
    "print(result)"
   ]
  },
  {
   "cell_type": "code",
   "execution_count": 189,
   "metadata": {},
   "outputs": [
    {
     "name": "stdout",
     "output_type": "stream",
     "text": [
      "['U', 'F', 'F', 'F', 'F', 'F', 'F', 'F', 'F', 'F', 'F', 'F', 'F', 'F', 'F', 'F', 'F', 'F', 'F', 'F', 'F', 'F', 'F', 'F', 'F', 'F', 'F', 'F', 'F', 'F', 'F', 'F', 'F', 'F', 'F', 'U', 'U', 'U', 'U', 'U', 'U', 'U', 'U', 'U', 'U', 'F', 'F', 'F', 'F', 'U', 'F', 'F', 'F', 'F', 'U', 'U', 'U', 'F', 'F', 'F', 'F', 'F', 'F', 'F', 'F', 'F', 'F', 'F', 'F', 'F', 'F', 'F', 'F', 'U', 'U', 'U', 'U', 'U', 'F', 'F', 'F', 'F', 'F', 'F', 'F', 'F', 'F', 'F', 'F', 'F', 'F', 'F', 'F', 'F', 'F', 'F', 'F', 'F', 'F', 'F', 'F', 'F', 'F', 'F', 'F', 'F', 'F', 'F', 'F', 'U', 'U', 'F', 'F', 'F', 'F', 'F', 'F', 'F', 'F', 'F', 'U', 'U', 'U', 'F', 'F', 'F', 'F', 'F', 'F', 'F', 'F', 'F', 'F', 'F', 'F', 'F', 'F', 'F', 'F', 'F', 'F', 'F', 'F', 'F', 'F', 'F', 'F', 'F', 'F', 'F', 'F', 'F', 'F', 'F', 'F', 'F', 'F', 'F', 'F', 'F', 'F', 'F', 'U', 'U', 'U', 'U', 'U', 'U', 'U', 'U', 'F', 'F', 'F', 'F', 'F', 'F', 'F', 'F', 'F', 'F', 'F', 'F', 'F', 'F', 'F', 'F', 'F', 'F', 'U', 'U', 'F', 'F', 'F', 'F', 'F', 'F', 'F', 'F', 'F', 'F', 'F', 'F', 'F', 'F', 'U', 'U', 'U', 'U', 'F', 'F', 'F', 'F', 'F', 'F', 'F', 'U', 'U', 'U', 'U', 'U', 'U', 'U', 'U', 'U', 'F', 'F', 'F', 'F', 'U', 'U', 'U', 'U', 'U', 'U', 'U', 'U', 'U', 'U', 'U', 'F', 'F', 'F', 'F', 'F', 'F', 'F', 'F', 'F', 'F', 'F', 'F', 'F', 'F', 'F', 'F', 'F', 'F', 'F', 'F', 'F', 'F', 'F', 'F', 'F', 'F', 'F', 'F', 'F', 'F', 'F', 'F', 'F', 'F', 'U', 'U', 'U', 'F', 'F', 'F', 'F', 'F', 'F', 'F', 'F', 'F', 'F', 'F', 'F', 'F', 'U', 'F', 'F', 'F', 'F', 'F', 'F', 'F', 'F', 'F', 'F', 'F', 'F', 'F', 'F', 'F', 'F', 'F', 'F', 'F', 'F', 'F', 'F', 'F', 'F', 'F', 'F', 'F', 'F', 'F', 'F', 'F', 'F', 'U', 'U', 'U', 'U', 'U', 'U', 'F', 'F', 'F', 'F', 'F', 'F', 'F', 'F', 'F', 'F', 'F', 'F', 'F', 'F', 'F', 'F', 'F', 'F', 'F', 'F', 'F', 'F', 'F', 'F', 'F', 'F', 'F', 'U', 'U', 'U', 'U', 'U', 'U', 'U', 'U', 'U', 'F', 'F', 'F', 'F', 'U', 'U', 'U', 'U', 'U', 'U', 'U', 'F', 'F', 'F', 'F', 'F', 'F', 'F', 'F', 'F', 'F', 'F', 'F', 'F', 'F', 'F', 'F', 'F', 'F', 'F', 'F', 'U', 'U', 'U', 'U', 'U', 'U', 'U', 'U', 'U', 'U', 'U', 'U', 'U', 'F', 'F', 'F', 'U', 'U', 'U', 'U', 'U', 'U', 'U', 'F', 'F', 'F', 'F', 'F', 'F', 'U', 'U', 'U', 'U', 'F', 'F', 'F', 'U', 'U', 'U', 'U', 'U', 'U', 'U', 'U', 'U', 'U', 'U', 'U', 'U', 'U', 'U', 'U', 'F', 'F', 'F', 'F', 'F', 'F', 'F', 'F', 'F', 'F', 'F', 'F', 'F', 'F', 'F', 'F', 'U', 'U', 'U', 'U', 'U', 'U', 'U', 'U', 'U', 'U', 'U', 'U', 'U', 'U', 'U', 'F', 'F', 'F', 'F', 'F', 'F', 'F', 'F', 'F', 'F', 'F', 'F', 'F', 'F', 'F', 'F', 'F', 'F', 'F', 'F', 'F', 'F', 'F', 'F', 'F', 'F', 'F', 'F', 'F', 'F', 'F', 'F', 'U', 'U', 'U', 'U', 'U', 'U', 'U', 'U', 'F', 'F', 'U', 'U', 'U', 'U', 'U', 'U', 'U', 'U', 'U', 'U', 'U', 'U', 'U', 'U', 'U', 'U', 'U', 'U', 'U', 'U', 'U', 'U', 'U', 'U', 'U', 'U', 'U', 'U', 'U', 'U', 'U', 'U', 'U', 'U', 'U', 'U', 'F', 'F', 'F', 'F', 'U', 'U', 'U', 'U', 'U', 'U', 'F', 'F', 'F', 'F', 'F', 'F', 'F', 'F', 'F', 'F', 'F', 'F', 'F', 'F', 'F', 'F', 'F', 'F', 'F', 'F', 'F', 'F', 'F', 'F', 'F', 'F', 'F', 'F', 'F', 'F', 'U', 'U', 'U', 'U', 'U', 'U', 'U', 'U', 'U', 'U', 'U', 'U', 'U', 'U', 'U', 'U', 'U', 'U', 'U', 'U', 'U', 'F', 'F', 'F', 'F', 'F', 'F', 'F', 'F', 'F', 'F', 'F', 'F', 'F', 'F', 'F', 'F', 'F', 'F', 'F', 'F', 'U', 'U', 'U', 'U', 'U', 'U', 'F', 'F', 'F', 'F', 'U', 'U', 'U', 'F', 'F', 'F', 'F', 'F', 'F', 'F', 'F', 'F', 'F', 'F', 'F', 'F', 'F', 'F', 'F', 'F', 'F', 'F', 'F', 'F', 'F', 'F', 'F', 'F', 'F', 'F', 'F', 'F', 'F', 'F', 'U', 'U', 'U', 'U', 'F', 'F', 'F', 'F', 'F', 'F', 'F', 'F', 'F', 'F', 'F', 'F', 'F', 'F', 'F', 'F', 'F', 'F', 'F', 'F', 'F', 'F', 'F', 'F', 'F', 'F', 'F', 'F', 'F', 'F', 'U', 'U', 'U', 'U', 'U', 'U', 'U', 'U', 'U', 'U', 'U', 'F', 'F', 'F', 'F', 'F', 'F', 'F', 'U', 'U', 'U', 'F', 'F', 'F', 'F', 'F', 'F', 'F', 'F', 'F', 'F', 'F', 'F', 'F', 'F', 'F', 'F', 'F', 'F', 'F', 'F', 'F', 'F', 'F', 'F', 'F', 'F', 'F', 'F', 'F', 'F', 'F', 'F', 'F', 'F', 'F', 'F', 'F', 'F', 'F', 'F', 'F', 'F', 'F', 'F', 'F', 'F', 'F', 'F', 'U', 'U', 'U', 'U', 'U', 'U', 'U', 'U', 'U', 'U', 'F', 'F', 'F', 'F', 'F', 'F', 'F', 'F', 'F', 'F', 'F', 'F', 'F', 'F', 'U', 'U', 'U', 'F', 'F', 'F', 'F', 'F', 'F', 'F', 'F', 'F', 'F', 'F', 'F', 'F', 'F', 'F', 'F', 'F', 'F', 'F', 'F', 'F', 'F', 'F', 'F', 'F', 'F', 'F', 'F', 'F', 'F', 'F', 'F', 'F', 'F', 'F', 'F', 'F', 'F', 'F', 'F', 'F', 'F', 'F', 'F', 'F', 'F', 'U', 'U', 'U', 'U', 'U', 'U', 'U', 'U', 'U', 'U', 'F', 'F', 'F', 'F', 'F', 'F', 'F', 'F', 'F', 'F', 'F', 'F', 'F', 'U', 'U', 'F', 'F', 'F', 'F', 'F', 'F', 'F', 'F', 'F', 'F', 'F', 'F', 'F', 'F', 'F', 'F', 'F', 'F', 'F', 'F', 'F', 'F', 'F', 'F', 'F', 'U', 'U', 'U', 'U', 'U', 'U', 'U', 'U', 'U', 'U', 'U', 'U', 'U', 'U', 'U', 'U', 'U', 'U', 'U', 'U', 'F', 'F', 'F', 'F', 'F', 'F', 'F', 'F', 'F', 'F', 'F', 'F', 'F', 'F', 'F', 'F', 'F', 'F', 'F', 'F', 'F', 'F', 'F', 'F', 'F', 'F', 'F', 'F', 'U', 'U', 'U', 'U', 'U', 'U', 'U', 'U', 'U', 'U', 'U', 'U', 'U', 'U', 'U', 'U', 'U', 'U', 'U', 'U', 'U', 'U', 'U', 'U', 'U', 'U', 'U', 'U', 'U', 'U', 'U', 'U', 'U', 'U', 'U', 'U', 'U', 'U', 'U', 'U', 'U', 'U', 'U', 'U', 'U']\n"
     ]
    }
   ],
   "source": [
    "print(dataset1000Labels)"
   ]
  },
  {
   "cell_type": "code",
   "execution_count": null,
   "metadata": {},
   "outputs": [],
   "source": []
  },
  {
   "cell_type": "code",
   "execution_count": null,
   "metadata": {},
   "outputs": [],
   "source": []
  },
  {
   "cell_type": "code",
   "execution_count": null,
   "metadata": {},
   "outputs": [],
   "source": []
  },
  {
   "cell_type": "code",
   "execution_count": null,
   "metadata": {},
   "outputs": [],
   "source": []
  },
  {
   "cell_type": "code",
   "execution_count": null,
   "metadata": {},
   "outputs": [],
   "source": []
  },
  {
   "cell_type": "code",
   "execution_count": null,
   "metadata": {},
   "outputs": [],
   "source": []
  },
  {
   "cell_type": "code",
   "execution_count": null,
   "metadata": {},
   "outputs": [],
   "source": []
  },
  {
   "cell_type": "code",
   "execution_count": 26,
   "metadata": {},
   "outputs": [],
   "source": [
    "class forwardAlgorithm(baseAlgo):\n",
    "    def __init__(self, data, fairDiceStateProbability,\n",
    "                 unfairDiceStateProbability, unfairDice, fairDice = None):\n",
    "        baseAlgo.__init__(self, data, fairDiceStateProbability,\n",
    "                 unfairDiceStateProbability, unfairDice, fairDice = None)\n",
    "        \n",
    "        self.f = np.array([])\n",
    "        self.pathProbability = None\n",
    "    \n",
    "    def step(self, index):\n",
    "        self.f.append([])\n",
    "        for transitionProbability, probability in zip(self.transitions, self.dices):\n",
    "            observedProbability = probability[self.data[index]]\n",
    "            previuosState = self.f[index-1]\n",
    "            \"\"\"\n",
    "            observedProbability: вероятсность наблюдения при текущем состояние\n",
    "            transitionProbability: вероятность перехода с кубика на кубик\n",
    "            \"\"\"\n",
    "            probability = observedProbability * sum(previuosState * transitionProbability)\n",
    "            self.f[-1].append(probability)\n",
    "    \n",
    "    def __call__(self):\n",
    "        if self.pathProbability == None: self.initialization()\n",
    "        return self.pathProbability\n",
    "    \n",
    "    def initialization(self):\n",
    "        # Init\n",
    "        self.f.append([1,0]) # Не уверен\n",
    "        # Recursion\n",
    "        for i in range(1,self.L):\n",
    "            self.step(i)\n",
    "        self.pathProbability = sum(self.f[-1])"
   ]
  },
  {
   "cell_type": "code",
   "execution_count": null,
   "metadata": {},
   "outputs": [],
   "source": [
    "hackCasino = "
   ]
  },
  {
   "cell_type": "code",
   "execution_count": null,
   "metadata": {},
   "outputs": [],
   "source": []
  },
  {
   "cell_type": "code",
   "execution_count": null,
   "metadata": {},
   "outputs": [],
   "source": []
  },
  {
   "cell_type": "code",
   "execution_count": null,
   "metadata": {},
   "outputs": [],
   "source": []
  },
  {
   "cell_type": "code",
   "execution_count": null,
   "metadata": {},
   "outputs": [],
   "source": []
  },
  {
   "cell_type": "code",
   "execution_count": 27,
   "metadata": {},
   "outputs": [],
   "source": [
    "class backwardAlgorithm(baseAlgo):\n",
    "    def __init__(self, data, fairDiceStateProbability,\n",
    "                 unfairDiceStateProbability, unfairDice, fairDice = None):\n",
    "        baseAlgo.__init__(self, data, fairDiceStateProbability,\n",
    "                 unfairDiceStateProbability, unfairDice, fairDice = None)\n",
    "        \n",
    "        self.b = np.array([])\n",
    "        self.pathProbability = None\n",
    "    \n",
    "    def step(self, index):\n",
    "        self.b.append([])\n",
    "        for transitionProbability in self.transitions: # first fair then unfair\n",
    "            observedProbability = np.array([])\n",
    "            for probability in self.dices\n",
    "                observedProbability.append(probability[self.data[index]])\n",
    "            nextState = self.b[index-1]\n",
    "            \n",
    "            probability = sum(transitionProbability * observedProbability * nextState)\n",
    "            self.b[-1].append(probability)\n",
    "    \n",
    "    def __call__(self):\n",
    "        if self.pathProbability == None: self.initialization()\n",
    "        return self.pathProbability\n",
    "    \n",
    "    def initialization(self):\n",
    "        #Init self.L - 1 КАК ИНИЦИАОИЗИРОВАТЬ?\n",
    "        pass\n",
    "        #Recursion\n",
    "        for i in range(2,self.L): # С двойки?\n",
    "            self.step(i)\n",
    "        # Finish # перевернуть b\n",
    "        self.b = self.b[::-1]\n",
    "        pass"
   ]
  },
  {
   "cell_type": "code",
   "execution_count": 11,
   "metadata": {},
   "outputs": [
    {
     "data": {
      "text/plain": [
       "array([-0.69314718, -0.69314718])"
      ]
     },
     "execution_count": 11,
     "metadata": {},
     "output_type": "execute_result"
    }
   ],
   "source": [
    "a = np.array([,1/2])\n",
    "np.log(a)"
   ]
  },
  {
   "cell_type": "code",
   "execution_count": null,
   "metadata": {},
   "outputs": [],
   "source": []
  },
  {
   "cell_type": "code",
   "execution_count": null,
   "metadata": {},
   "outputs": [],
   "source": []
  },
  {
   "cell_type": "code",
   "execution_count": null,
   "metadata": {},
   "outputs": [],
   "source": []
  },
  {
   "cell_type": "code",
   "execution_count": null,
   "metadata": {},
   "outputs": [],
   "source": []
  },
  {
   "cell_type": "code",
   "execution_count": null,
   "metadata": {},
   "outputs": [],
   "source": []
  },
  {
   "cell_type": "code",
   "execution_count": null,
   "metadata": {},
   "outputs": [],
   "source": []
  },
  {
   "cell_type": "code",
   "execution_count": null,
   "metadata": {},
   "outputs": [],
   "source": []
  },
  {
   "cell_type": "code",
   "execution_count": null,
   "metadata": {},
   "outputs": [],
   "source": []
  },
  {
   "cell_type": "code",
   "execution_count": null,
   "metadata": {},
   "outputs": [],
   "source": []
  }
 ],
 "metadata": {
  "kernelspec": {
   "display_name": "Python 3",
   "language": "python",
   "name": "python3"
  },
  "language_info": {
   "codemirror_mode": {
    "name": "ipython",
    "version": 3
   },
   "file_extension": ".py",
   "mimetype": "text/x-python",
   "name": "python",
   "nbconvert_exporter": "python",
   "pygments_lexer": "ipython3",
   "version": "3.6.4"
  }
 },
 "nbformat": 4,
 "nbformat_minor": 2
}
