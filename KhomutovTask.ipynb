{
 "cells": [
  {
   "cell_type": "code",
   "execution_count": 12,
   "metadata": {},
   "outputs": [],
   "source": [
    "import numpy as np\n",
    "from generator import Croupier"
   ]
  },
  {
   "cell_type": "markdown",
   "metadata": {},
   "source": [
    "Импортируем класс Croupier, который отвечает за генерацию данных и создадим экземпляр класса с заданными значениями вероятности для нечестного кубика, а так же вероятности перехода с честного кубика на нечестный и на себя самого, и вероятности перехода с нечестного кубика на себя и на честный. Проверим что получаем выпавшие знаечение кубика, а так же метку кубика"
   ]
  },
  {
   "cell_type": "code",
   "execution_count": 16,
   "metadata": {
    "scrolled": true
   },
   "outputs": [
    {
     "name": "stdout",
     "output_type": "stream",
     "text": [
      "(1, 'F')\n",
      "(3, 'F')\n",
      "(3, 'U')\n",
      "(1, 'U')\n",
      "(4, 'U')\n",
      "(5, 'F')\n",
      "(3, 'F')\n",
      "(3, 'F')\n",
      "(1, 'F')\n",
      "(2, 'F')\n"
     ]
    }
   ],
   "source": [
    "casino = Croupier([0.1,0.1,0.1,0.1,0.1,1/2],[0.05,0.95],[0.9,0.1])\n",
    "for i in range(10):\n",
    "    print(casino())"
   ]
  },
  {
   "cell_type": "markdown",
   "metadata": {},
   "source": [
    "Сгенерируем датасеты размером 1 000, 10 000 и 100 000"
   ]
  },
  {
   "cell_type": "code",
   "execution_count": 172,
   "metadata": {},
   "outputs": [],
   "source": [
    "dataset100 = []\n",
    "dataset100Labels = []\n",
    "\n",
    "for i in range(100):\n",
    "    data, label = casino()\n",
    "    dataset100.append(data)\n",
    "    dataset100Labels.append(label)"
   ]
  },
  {
   "cell_type": "code",
   "execution_count": 17,
   "metadata": {},
   "outputs": [],
   "source": [
    "dataset300 = []\n",
    "dataset300Labels = []\n",
    "\n",
    "for i in range(300):\n",
    "    data, label = casino()\n",
    "    dataset300.append(data)\n",
    "    dataset300Labels.append(label)"
   ]
  },
  {
   "cell_type": "code",
   "execution_count": 98,
   "metadata": {},
   "outputs": [],
   "source": [
    "dataset1000 = []\n",
    "dataset1000Labels = []\n",
    "\n",
    "for i in range(1000):\n",
    "    data, label = casino()\n",
    "    dataset1000.append(data)\n",
    "    dataset1000Labels.append(label)"
   ]
  },
  {
   "cell_type": "code",
   "execution_count": 30,
   "metadata": {},
   "outputs": [],
   "source": [
    "dataset10000 = []\n",
    "dataset10000Labels = []\n",
    "\n",
    "for i in range(10000):\n",
    "    data, label = casino()\n",
    "    dataset10000.append(data)\n",
    "    dataset10000Labels.append(label)"
   ]
  },
  {
   "cell_type": "code",
   "execution_count": 31,
   "metadata": {},
   "outputs": [],
   "source": [
    "dataset100000 = []\n",
    "dataset100000Labels = []\n",
    "\n",
    "for i in range(100000):\n",
    "    data, label = casino()\n",
    "    dataset100000.append(data)\n",
    "    dataset100000Labels.append(label)"
   ]
  },
  {
   "cell_type": "markdown",
   "metadata": {},
   "source": [
    "Определим базовый класс алгоритма"
   ]
  },
  {
   "cell_type": "code",
   "execution_count": 152,
   "metadata": {},
   "outputs": [],
   "source": [
    "class baseAlgo():\n",
    "    def __init__(self, data, fairDiceStateProbability,\n",
    "                 unfairDiceStateProbability, unfairDice, fairDice = None):\n",
    "        self.data = data\n",
    "        self.L = len(data)\n",
    "        \n",
    "        #if fairDice == None: self.fairDice = np.log([1/6 for i in range(6)])\n",
    "        #else: self.fairDice = np.log(fairDice)\n",
    "        #self.unfairDice = np.log(unfairDice)\n",
    "         \n",
    "        #self.toFairState = np.log([fairDiceStateProbability[0],unfairDiceStateProbability[0]])\n",
    "        #self.toUnfariState = np.log([fairDiceStateProbability[1],unfairDiceStateProbability[1]])\n",
    "        \n",
    "        #self.fairDiceStateProbability = np.log(fairDiceStateProbability)\n",
    "        #self.unfairDiceStateProbability = np.log(unfairDiceStateProbability)\n",
    "        \n",
    "        if fairDice == None: self.fairDice = np.array([1/6 for i in range(6)])\n",
    "        else: self.fairDice = np.array(fairDice)\n",
    "        self.unfairDice = np.array(unfairDice)\n",
    "         \n",
    "        self.toFairState = np.array([fairDiceStateProbability[0],unfairDiceStateProbability[0]])\n",
    "        self.toUnfariState = np.array([fairDiceStateProbability[1],unfairDiceStateProbability[1]])\n",
    "        \n",
    "        self.fairDiceStateProbability = np.array(fairDiceStateProbability)\n",
    "        self.unfairDiceStateProbability = np.array(unfairDiceStateProbability)\n",
    "        \n",
    "        self.states = ['Fair','Unfair']\n",
    "        self.dices = [self.fairDice,self.unfairDice]\n",
    "        self.transitions = [self.toFairState, self.toUnfariState]"
   ]
  },
  {
   "cell_type": "code",
   "execution_count": 167,
   "metadata": {},
   "outputs": [],
   "source": [
    "class algorithmViterbi(baseAlgo):\n",
    "    def __init__(self, data, fairDiceStateProbability,\n",
    "                 unfairDiceStateProbability, unfairDice, fairDice = None):\n",
    "        baseAlgo.__init__(self, data, fairDiceStateProbability,\n",
    "                 unfairDiceStateProbability, unfairDice, fairDice = None)\n",
    "        \n",
    "        self.v = None\n",
    "        self.ptr = None\n",
    "        self.path = None\n",
    "\n",
    "    def step(self,index):\n",
    "        self.v.append([])\n",
    "        self.ptr.append([])\n",
    "        previuosState = self.v[index-1]\n",
    "        for transitionProbability, probability in zip(self.transitions, self.dices):\n",
    "            observedProbability = probability[self.data[index]-1]\n",
    "            #print(\"PROBABILITY IN CURRENT STATE {}\".format(probability))\n",
    "            #print(\"DATA {} :PROBABILITY IN CURRENT STATE {}\".format(self.data[index],observedProbability))\n",
    "            \n",
    "            thisProbability = observedProbability * np.max(previuosState*transitionProbability)\n",
    "            ptr = 'F' if np.argmax(previuosState*transitionProbability) == 0 else 'U'\n",
    "            \n",
    "            #print(\"TRANSITION PROBABILITY: {}\".format(transitionProbability))\n",
    "            \n",
    "            #thisProbability = observedProbability + np.max(previuosState + transitionProbability)\n",
    "            #ptr = 'F' if np.argmax(previuosState + transitionProbability) == 0 else 'U'\n",
    "            #print('PTR: {}'.format(previuosState + transitionProbability))\n",
    "            \n",
    "            self.v[-1].append(thisProbability)\n",
    "            self.ptr[-1].append(ptr)\n",
    "            \n",
    "    def __call__(self):\n",
    "        if self.path == None: self.initialization()\n",
    "        return self.path\n",
    "        \n",
    "        \n",
    "    def initialization(self):\n",
    "        \n",
    "        self.ptr = []\n",
    "        self.v = []\n",
    "        self.path = []\n",
    "        \n",
    "        self.v.append([1,0]) # Не уверен\n",
    "        \n",
    "        # Рекурсия\n",
    "        for i in range(1,self.L):\n",
    "            self.step(i)\n",
    "            print('PTR, V: {} _ {}'.format(self.ptr[i-1], self.v[i]))\n",
    "                \n",
    "        # Завершение\n",
    "        self.Probability = max(self.v[-1])\n",
    "        ptr, index = ('F', 0) if np.argmax(self.v[-1]) == 0 else ('U', 1)\n",
    "        #print(\"PTR,INDEX: {} _ {}\".format(ptr, index))\n",
    "        self.path.append(ptr)\n",
    "        \n",
    "        # Обратный ход\n",
    "        for step in range(self.L - 2,0,-1):\n",
    "            ptr, index = ('F', 0) if self.ptr[step][index] == 'F' else ('U', 1)\n",
    "            #print(self.ptr[step])\n",
    "            #print(self.v[step])\n",
    "            #print(\"Step {} : PTR,INDEX: {} _ {}\".format(step,ptr, index))\n",
    "            self.path.append(ptr)\n",
    "        self.path = self.path[::-1]\n",
    "        \n",
    "    def probability(self):\n",
    "        return np.e**self.Probability"
   ]
  },
  {
   "cell_type": "code",
   "execution_count": 168,
   "metadata": {},
   "outputs": [],
   "source": [
    "testData = [1,2,4,2,6,6,6,1,6] # F,F,F,F,U,U,U,U,U"
   ]
  },
  {
   "cell_type": "code",
   "execution_count": 169,
   "metadata": {},
   "outputs": [
    {
     "name": "stdout",
     "output_type": "stream",
     "text": [
      "PTR, V: ['F', 'F'] _ [0.15833333333333333, 0.005000000000000001]\n",
      "PTR, V: ['F', 'F'] _ [0.02506944444444444, 0.0007916666666666668]\n",
      "PTR, V: ['F', 'F'] _ [0.003969328703703702, 0.0001253472222222222]\n",
      "PTR, V: ['F', 'F'] _ [0.0006284770447530861, 9.923321759259256e-05]\n",
      "PTR, V: ['F', 'U'] _ [9.950886541923863e-05, 4.465494791666665e-05]\n",
      "PTR, V: ['F', 'U'] _ [1.5755570358046112e-05, 2.0094726562499995e-05]\n",
      "PTR, V: ['F', 'U'] _ [2.494631973357301e-06, 1.8085253906249997e-06]\n",
      "PTR, V: ['F', 'U'] _ [3.9498339578157264e-07, 8.138364257812499e-07]\n"
     ]
    },
    {
     "data": {
      "text/plain": [
       "['F', 'F', 'F', 'U', 'U', 'U', 'U', 'U']"
      ]
     },
     "execution_count": 169,
     "metadata": {},
     "output_type": "execute_result"
    }
   ],
   "source": [
    "hackCasinoViterbi = algorithmViterbi(testData, [0.95,0.05],[0.1,0.9],[0.1,0.1,0.1,0.1,0.1,1/2])\n",
    "result = hackCasinoViterbi()\n",
    "hackCasinoViterbi.probability()\n",
    "result"
   ]
  },
  {
   "cell_type": "code",
   "execution_count": 176,
   "metadata": {
    "scrolled": true
   },
   "outputs": [
    {
     "name": "stdout",
     "output_type": "stream",
     "text": [
      "PTR, V: ['F', 'F'] _ [0.15833333333333333, 0.005000000000000001]\n",
      "PTR, V: ['F', 'F'] _ [0.02506944444444444, 0.0007916666666666668]\n",
      "PTR, V: ['F', 'F'] _ [0.003969328703703702, 0.0001253472222222222]\n",
      "PTR, V: ['F', 'F'] _ [0.0006284770447530861, 9.923321759259256e-05]\n",
      "PTR, V: ['F', 'U'] _ [9.950886541923863e-05, 4.465494791666665e-05]\n",
      "PTR, V: ['F', 'U'] _ [1.5755570358046112e-05, 2.0094726562499995e-05]\n",
      "PTR, V: ['F', 'U'] _ [2.494631973357301e-06, 1.8085253906249997e-06]\n",
      "PTR, V: ['F', 'U'] _ [3.9498339578157264e-07, 8.138364257812499e-07]\n",
      "PTR, V: ['F', 'U'] _ [6.253903766541567e-08, 7.324527832031249e-08]\n",
      "PTR, V: ['F', 'U'] _ [9.902014297024146e-09, 6.5920750488281245e-09]\n",
      "PTR, V: ['F', 'U'] _ [1.5678189303621563e-09, 2.966433771972656e-09]\n",
      "PTR, V: ['F', 'U'] _ [2.4823799730734135e-10, 1.3348951973876951e-09]\n",
      "PTR, V: ['F', 'U'] _ [3.9304349573662375e-11, 6.007028388244629e-10]\n",
      "PTR, V: ['U', 'U'] _ [1.0011713980407714e-11, 2.703162774710083e-10]\n",
      "PTR, V: ['U', 'U'] _ [4.505271291183472e-12, 1.2164232486195374e-10]\n",
      "PTR, V: ['U', 'U'] _ [2.027372081032562e-12, 5.473904618787918e-11]\n",
      "PTR, V: ['U', 'U'] _ [9.12317436464653e-13, 2.4632570784545634e-11]\n"
     ]
    },
    {
     "data": {
      "text/plain": [
       "['F',\n",
       " 'F',\n",
       " 'F',\n",
       " 'U',\n",
       " 'U',\n",
       " 'U',\n",
       " 'U',\n",
       " 'U',\n",
       " 'U',\n",
       " 'U',\n",
       " 'U',\n",
       " 'U',\n",
       " 'U',\n",
       " 'U',\n",
       " 'U',\n",
       " 'U',\n",
       " 'U']"
      ]
     },
     "execution_count": 176,
     "metadata": {},
     "output_type": "execute_result"
    }
   ],
   "source": [
    "testData2 = [1,2,4,2,6,6,6,1,6,2,5,6,6,6,6,6,6,6] # F,F,F,F,U,U,U,U,U,F,U,U,U\n",
    "hackCasinoViterbi = algorithmViterbi(testData2, [0.95,0.05],[0.1,0.9],[0.1,0.1,0.1,0.1,0.1,1/2])\n",
    "result = hackCasinoViterbi()\n",
    "hackCasinoViterbi.probability()\n",
    "result"
   ]
  },
  {
   "cell_type": "code",
   "execution_count": 173,
   "metadata": {},
   "outputs": [
    {
     "name": "stdout",
     "output_type": "stream",
     "text": [
      "PTR, V: ['F', 'F'] _ [0.15833333333333333, 0.005000000000000001]\n",
      "PTR, V: ['F', 'F'] _ [0.02506944444444444, 0.0007916666666666668]\n",
      "PTR, V: ['F', 'F'] _ [0.003969328703703702, 0.0001253472222222222]\n",
      "PTR, V: ['F', 'F'] _ [0.0006284770447530861, 1.9846643518518515e-05]\n",
      "PTR, V: ['F', 'F'] _ [9.950886541923863e-05, 3.142385223765431e-06]\n",
      "PTR, V: ['F', 'F'] _ [1.5755570358046112e-05, 4.975443270961932e-07]\n",
      "PTR, V: ['F', 'F'] _ [2.494631973357301e-06, 7.877785179023057e-08]\n",
      "PTR, V: ['F', 'F'] _ [3.9498339578157264e-07, 1.2473159866786506e-08]\n",
      "PTR, V: ['F', 'F'] _ [6.253903766541567e-08, 1.9749169789078633e-09]\n",
      "PTR, V: ['F', 'F'] _ [9.902014297024146e-09, 3.1269518832707833e-10]\n",
      "PTR, V: ['F', 'F'] _ [1.5678189303621563e-09, 4.951007148512074e-11]\n",
      "PTR, V: ['F', 'F'] _ [2.4823799730734135e-10, 3.919547325905391e-11]\n",
      "PTR, V: ['F', 'U'] _ [3.9304349573662375e-11, 3.5275925933148525e-12]\n",
      "PTR, V: ['F', 'U'] _ [6.223188682496543e-12, 3.1748333339833677e-13]\n",
      "PTR, V: ['F', 'F'] _ [9.853382080619524e-13, 3.1115943412482716e-14]\n",
      "PTR, V: ['F', 'F'] _ [1.5601188294314244e-13, 4.926691040309762e-15]\n",
      "PTR, V: ['F', 'F'] _ [2.4701881465997552e-14, 7.800594147157123e-16]\n",
      "PTR, V: ['F', 'F'] _ [3.911131232116279e-15, 1.2350940732998777e-16]\n",
      "PTR, V: ['F', 'F'] _ [6.192624450850773e-16, 9.777828080290697e-17]\n",
      "PTR, V: ['F', 'U'] _ [9.804988713847058e-17, 8.800045272261628e-18]\n",
      "PTR, V: ['F', 'U'] _ [1.5524565463591172e-17, 3.9600203725177324e-18]\n",
      "PTR, V: ['F', 'U'] _ [2.458056198401935e-18, 3.56401833526596e-19]\n",
      "PTR, V: ['F', 'U'] _ [3.891922314136397e-19, 1.603808250869682e-19]\n",
      "PTR, V: ['F', 'U'] _ [6.162210330715961e-20, 1.443427425782714e-20]\n",
      "PTR, V: ['F', 'U'] _ [9.756833023633604e-21, 1.2990846832044427e-21]\n",
      "PTR, V: ['F', 'U'] _ [1.5448318954086537e-21, 1.1691762148839986e-22]\n",
      "PTR, V: ['F', 'U'] _ [2.4459838343970345e-22, 1.0522585933955988e-23]\n",
      "PTR, V: ['F', 'F'] _ [3.8728077377953044e-23, 1.2229919171985174e-24]\n",
      "PTR, V: ['F', 'F'] _ [6.131945584842565e-24, 9.682019344488262e-25]\n",
      "PTR, V: ['F', 'U'] _ [9.708913842667393e-25, 8.713817410039438e-26]\n",
      "PTR, V: ['F', 'U'] _ [1.5372446917556704e-25, 7.842435669035495e-27]\n",
      "PTR, V: ['F', 'F'] _ [2.4339707619464778e-26, 7.686223458778352e-28]\n",
      "PTR, V: ['F', 'F'] _ [3.853787039748589e-27, 1.216985380973239e-28]\n",
      "PTR, V: ['F', 'F'] _ [6.101829479601932e-28, 1.9268935198742947e-29]\n",
      "PTR, V: ['F', 'F'] _ [9.661230009369724e-29, 3.0509147398009662e-30]\n",
      "PTR, V: ['F', 'F'] _ [1.5296947514835395e-29, 4.830615004684863e-31]\n",
      "PTR, V: ['F', 'F'] _ [2.422016689848937e-30, 7.648473757417699e-32]\n",
      "PTR, V: ['F', 'F'] _ [3.834859758927483e-31, 1.2110083449244688e-32]\n",
      "PTR, V: ['F', 'F'] _ [6.071861284968514e-32, 1.9174298794637418e-33]\n",
      "PTR, V: ['F', 'F'] _ [9.613780367866812e-33, 3.0359306424842576e-34]\n",
      "PTR, V: ['F', 'F'] _ [1.5221818915789118e-33, 4.8068901839334065e-35]\n",
      "PTR, V: ['F', 'F'] _ [2.410121328333277e-34, 7.61090945789456e-36]\n",
      "PTR, V: ['F', 'F'] _ [3.8160254365276887e-35, 1.2050606641666384e-36]\n",
      "PTR, V: ['F', 'F'] _ [6.042040274502173e-36, 1.9080127182638443e-37]\n",
      "PTR, V: ['F', 'F'] _ [9.566563767961772e-37, 3.021020137251087e-38]\n",
      "PTR, V: ['F', 'F'] _ [1.5147059299272802e-37, 4.783281883980886e-39]\n",
      "PTR, V: ['F', 'F'] _ [2.398284389051527e-38, 7.573529649636403e-40]\n",
      "PTR, V: ['F', 'F'] _ [3.7972836159982504e-39, 1.1991421945257636e-40]\n",
      "PTR, V: ['F', 'F'] _ [6.0123657253305625e-40, 1.8986418079991255e-41]\n",
      "PTR, V: ['F', 'F'] _ [9.519579065106722e-41, 1.5030914313326408e-41]\n",
      "PTR, V: ['F', 'U'] _ [1.5072666853085642e-41, 1.352782288199377e-42]\n",
      "PTR, V: ['F', 'U'] _ [2.386505585071893e-42, 1.2175040593794394e-43]\n",
      "PTR, V: ['F', 'F'] _ [3.778633843030497e-43, 1.1932527925359467e-44]\n",
      "PTR, V: ['F', 'F'] _ [5.982836918131619e-44, 1.8893169215152487e-45]\n",
      "PTR, V: ['F', 'F'] _ [9.472825120375063e-45, 2.99141845906581e-46]\n",
      "PTR, V: ['F', 'F'] _ [1.4998639773927182e-45, 4.736412560187532e-47]\n",
      "PTR, V: ['F', 'F'] _ [2.3747846308718033e-46, 7.499319886963592e-48]\n",
      "PTR, V: ['F', 'F'] _ [3.7600756655470213e-47, 1.1873923154359017e-48]\n",
      "PTR, V: ['F', 'F'] _ [5.953453137116116e-48, 1.880037832773511e-49]\n",
      "PTR, V: ['F', 'F'] _ [9.42630080043385e-49, 2.976726568558058e-50]\n",
      "PTR, V: ['F', 'F'] _ [1.4924976267353594e-49, 4.713150400216926e-51]\n",
      "PTR, V: ['F', 'F'] _ [2.3631212423309855e-50, 7.462488133676798e-52]\n",
      "PTR, V: ['F', 'F'] _ [3.741608633690727e-51, 1.1815606211654929e-52]\n",
      "PTR, V: ['F', 'F'] _ [5.924213670010317e-52, 1.8708043168453637e-53]\n",
      "PTR, V: ['F', 'F'] _ [9.380004977516334e-53, 2.9621068350051585e-54]\n",
      "PTR, V: ['F', 'F'] _ [1.4851674547734195e-53, 4.6900024887581675e-55]\n",
      "PTR, V: ['F', 'F'] _ [2.3515151367245807e-54, 7.425837273867098e-56]\n",
      "PTR, V: ['F', 'F'] _ [3.723232299813919e-55, 1.1757575683622905e-56]\n",
      "PTR, V: ['F', 'F'] _ [5.8951178080387045e-56, 9.308080749534798e-57]\n",
      "PTR, V: ['F', 'U'] _ [9.333936529394615e-57, 8.37727267458132e-58]\n",
      "PTR, V: ['F', 'U'] _ [1.4778732838208138e-57, 3.769772703561594e-58]\n",
      "PTR, V: ['F', 'U'] _ [2.3399660327162884e-58, 3.3927954332054345e-59]\n",
      "PTR, V: ['F', 'U'] _ [3.7049462184674564e-59, 3.053515889884891e-60]\n",
      "PTR, V: ['F', 'U'] _ [5.866164845906805e-60, 2.7481643008964022e-61]\n",
      "PTR, V: ['F', 'F'] _ [9.28809433935244e-61, 2.9330824229534026e-62]\n",
      "PTR, V: ['F', 'F'] _ [1.4706149370641362e-61, 4.6440471696762204e-63]\n",
      "PTR, V: ['F', 'F'] _ [2.3284736503515486e-62, 7.353074685320682e-64]\n",
      "PTR, V: ['F', 'F'] _ [3.686749946389952e-63, 5.8211841258788715e-64]\n",
      "PTR, V: ['F', 'U'] _ [5.83735408178409e-64, 5.239065713290985e-65]\n",
      "PTR, V: ['F', 'U'] _ [9.242477296158142e-65, 4.715159141961887e-66]\n",
      "PTR, V: ['F', 'F'] _ [1.4633922385583724e-65, 4.621238648079072e-67]\n",
      "PTR, V: ['F', 'F'] _ [2.317037711050756e-66, 7.316961192791863e-68]\n",
      "PTR, V: ['F', 'F'] _ [3.66864304249703e-67, 5.79259427762689e-68]\n",
      "PTR, V: ['F', 'U'] _ [5.8086848172869635e-68, 5.213334849864202e-69]\n",
      "PTR, V: ['F', 'U'] _ [9.197084294037691e-69, 4.6920013648777816e-70]\n",
      "PTR, V: ['F', 'F'] _ [1.4562050132226342e-69, 4.598542147018846e-71]\n",
      "PTR, V: ['F', 'F'] _ [2.305657937602504e-70, 7.281025066113172e-72]\n",
      "PTR, V: ['F', 'F'] _ [3.650625067870631e-71, 5.76414484400626e-72]\n",
      "PTR, V: ['F', 'U'] _ [5.780156357461832e-72, 5.187730359605635e-73]\n",
      "PTR, V: ['F', 'U'] _ [9.151914232647901e-73, 4.6689573236450714e-74]\n",
      "PTR, V: ['F', 'F'] _ [1.4490530868359173e-73, 4.575957116323951e-75]\n",
      "PTR, V: ['F', 'F'] _ [2.2943340541568687e-74, 7.245265434179587e-76]\n",
      "PTR, V: ['F', 'F'] _ [3.6326955857483755e-75, 1.1471670270784345e-76]\n",
      "PTR, V: ['F', 'F'] _ [5.751768010768261e-76, 1.816347792874188e-77]\n",
      "PTR, V: ['F', 'F'] _ [9.106966017049746e-77, 1.4379420026920654e-77]\n",
      "PTR, V: ['F', 'U'] _ [1.4419362860328764e-77, 1.294147802422859e-78]\n",
      "PTR, V: ['F', 'U'] _ [2.2830657862187204e-78, 1.1647330221805733e-79]\n",
      "PTR, V: ['F', 'F'] _ [3.6148541615129737e-79, 1.1415328931093603e-80]\n",
      "PTR, V: ['F', 'F'] _ [5.723519089062208e-80, 1.807427080756487e-81]\n"
     ]
    },
    {
     "data": {
      "text/plain": [
       "['F',\n",
       " 'F',\n",
       " 'F',\n",
       " 'F',\n",
       " 'F',\n",
       " 'F',\n",
       " 'F',\n",
       " 'F',\n",
       " 'F',\n",
       " 'F',\n",
       " 'F',\n",
       " 'F',\n",
       " 'F',\n",
       " 'F',\n",
       " 'F',\n",
       " 'F',\n",
       " 'F',\n",
       " 'F',\n",
       " 'F',\n",
       " 'F',\n",
       " 'F',\n",
       " 'F',\n",
       " 'F',\n",
       " 'F',\n",
       " 'F',\n",
       " 'F',\n",
       " 'F',\n",
       " 'F',\n",
       " 'F',\n",
       " 'F',\n",
       " 'F',\n",
       " 'F',\n",
       " 'F',\n",
       " 'F',\n",
       " 'F',\n",
       " 'F',\n",
       " 'F',\n",
       " 'F',\n",
       " 'F',\n",
       " 'F',\n",
       " 'F',\n",
       " 'F',\n",
       " 'F',\n",
       " 'F',\n",
       " 'F',\n",
       " 'F',\n",
       " 'F',\n",
       " 'F',\n",
       " 'F',\n",
       " 'F',\n",
       " 'F',\n",
       " 'F',\n",
       " 'F',\n",
       " 'F',\n",
       " 'F',\n",
       " 'F',\n",
       " 'F',\n",
       " 'F',\n",
       " 'F',\n",
       " 'F',\n",
       " 'F',\n",
       " 'F',\n",
       " 'F',\n",
       " 'F',\n",
       " 'F',\n",
       " 'F',\n",
       " 'F',\n",
       " 'F',\n",
       " 'F',\n",
       " 'F',\n",
       " 'F',\n",
       " 'F',\n",
       " 'F',\n",
       " 'F',\n",
       " 'F',\n",
       " 'F',\n",
       " 'F',\n",
       " 'F',\n",
       " 'F',\n",
       " 'F',\n",
       " 'F',\n",
       " 'F',\n",
       " 'F',\n",
       " 'F',\n",
       " 'F',\n",
       " 'F',\n",
       " 'F',\n",
       " 'F',\n",
       " 'F',\n",
       " 'F',\n",
       " 'F',\n",
       " 'F',\n",
       " 'F',\n",
       " 'F',\n",
       " 'F',\n",
       " 'F',\n",
       " 'F',\n",
       " 'F',\n",
       " 'F']"
      ]
     },
     "execution_count": 173,
     "metadata": {},
     "output_type": "execute_result"
    }
   ],
   "source": [
    "hackCasinoViterbi = algorithmViterbi(dataset100, [0.95,0.05],[0.1,0.9],[0.1,0.1,0.1,0.1,0.1,1/2])\n",
    "result = hackCasinoViterbi()\n",
    "hackCasinoViterbi.probability()\n",
    "result"
   ]
  },
  {
   "cell_type": "code",
   "execution_count": 177,
   "metadata": {},
   "outputs": [
    {
     "name": "stdout",
     "output_type": "stream",
     "text": [
      "['F', 'F', 'F', 'F', 'F', 'F', 'F', 'F', 'F', 'F', 'F', 'F', 'F', 'F', 'F', 'F', 'F', 'F', 'F', 'F', 'F', 'F', 'F', 'F', 'F', 'F', 'F', 'F', 'F', 'F', 'U', 'U', 'U', 'U', 'U', 'U', 'U', 'U', 'U', 'U', 'U', 'U', 'F', 'F', 'F', 'F', 'F', 'F', 'U', 'U', 'F', 'F', 'F', 'F', 'F', 'F', 'F', 'F', 'F', 'F', 'F', 'F', 'F', 'F', 'F', 'F', 'F', 'F', 'F', 'F', 'F', 'F', 'F', 'F', 'F', 'F', 'F', 'F', 'F', 'F', 'F', 'F', 'F', 'F', 'U', 'F', 'F', 'F', 'F', 'F', 'F', 'F', 'F', 'F', 'F', 'F', 'F', 'F', 'F', 'F']\n"
     ]
    }
   ],
   "source": [
    "print(dataset100Labels)"
   ]
  },
  {
   "cell_type": "code",
   "execution_count": null,
   "metadata": {},
   "outputs": [],
   "source": []
  },
  {
   "cell_type": "code",
   "execution_count": null,
   "metadata": {},
   "outputs": [],
   "source": []
  },
  {
   "cell_type": "code",
   "execution_count": null,
   "metadata": {},
   "outputs": [],
   "source": []
  },
  {
   "cell_type": "code",
   "execution_count": null,
   "metadata": {},
   "outputs": [],
   "source": []
  },
  {
   "cell_type": "code",
   "execution_count": null,
   "metadata": {},
   "outputs": [],
   "source": []
  },
  {
   "cell_type": "code",
   "execution_count": null,
   "metadata": {},
   "outputs": [],
   "source": []
  },
  {
   "cell_type": "code",
   "execution_count": null,
   "metadata": {},
   "outputs": [],
   "source": []
  },
  {
   "cell_type": "code",
   "execution_count": 26,
   "metadata": {},
   "outputs": [],
   "source": [
    "class forwardAlgorithm(baseAlgo):\n",
    "    def __init__(self, data, fairDiceStateProbability,\n",
    "                 unfairDiceStateProbability, unfairDice, fairDice = None):\n",
    "        baseAlgo.__init__(self, data, fairDiceStateProbability,\n",
    "                 unfairDiceStateProbability, unfairDice, fairDice = None)\n",
    "        \n",
    "        self.f = np.array([])\n",
    "        self.pathProbability = None\n",
    "    \n",
    "    def step(self, index):\n",
    "        self.f.append([])\n",
    "        for transitionProbability, probability in zip(self.transitions, self.dices):\n",
    "            observedProbability = probability[self.data[index]]\n",
    "            previuosState = self.f[index-1]\n",
    "            \"\"\"\n",
    "            observedProbability: вероятсность наблюдения при текущем состояние\n",
    "            transitionProbability: вероятность перехода с кубика на кубик\n",
    "            \"\"\"\n",
    "            probability = observedProbability * sum(previuosState * transitionProbability)\n",
    "            self.f[-1].append(probability)\n",
    "    \n",
    "    def __call__(self):\n",
    "        if self.pathProbability == None: self.initialization()\n",
    "        return self.pathProbability\n",
    "    \n",
    "    def initialization(self):\n",
    "        # Init\n",
    "        self.f.append([1,0]) # Не уверен\n",
    "        # Recursion\n",
    "        for i in range(1,self.L):\n",
    "            self.step(i)\n",
    "        self.pathProbability = sum(self.f[-1])"
   ]
  },
  {
   "cell_type": "code",
   "execution_count": null,
   "metadata": {},
   "outputs": [],
   "source": [
    "hackCasino = "
   ]
  },
  {
   "cell_type": "code",
   "execution_count": null,
   "metadata": {},
   "outputs": [],
   "source": []
  },
  {
   "cell_type": "code",
   "execution_count": null,
   "metadata": {},
   "outputs": [],
   "source": []
  },
  {
   "cell_type": "code",
   "execution_count": null,
   "metadata": {},
   "outputs": [],
   "source": []
  },
  {
   "cell_type": "code",
   "execution_count": null,
   "metadata": {},
   "outputs": [],
   "source": []
  },
  {
   "cell_type": "code",
   "execution_count": 27,
   "metadata": {},
   "outputs": [],
   "source": [
    "class backwardAlgorithm(baseAlgo):\n",
    "    def __init__(self, data, fairDiceStateProbability,\n",
    "                 unfairDiceStateProbability, unfairDice, fairDice = None):\n",
    "        baseAlgo.__init__(self, data, fairDiceStateProbability,\n",
    "                 unfairDiceStateProbability, unfairDice, fairDice = None)\n",
    "        \n",
    "        self.b = np.array([])\n",
    "        self.pathProbability = None\n",
    "    \n",
    "    def step(self, index):\n",
    "        self.b.append([])\n",
    "        for transitionProbability in self.transitions: # first fair then unfair\n",
    "            observedProbability = np.array([])\n",
    "            for probability in self.dices\n",
    "                observedProbability.append(probability[self.data[index]])\n",
    "            nextState = self.b[index-1]\n",
    "            \n",
    "            probability = sum(transitionProbability * observedProbability * nextState)\n",
    "            self.b[-1].append(probability)\n",
    "    \n",
    "    def __call__(self):\n",
    "        if self.pathProbability == None: self.initialization()\n",
    "        return self.pathProbability\n",
    "    \n",
    "    def initialization(self):\n",
    "        #Init self.L - 1 КАК ИНИЦИАОИЗИРОВАТЬ?\n",
    "        pass\n",
    "        #Recursion\n",
    "        for i in range(2,self.L): # С двойки?\n",
    "            self.step(i)\n",
    "        # Finish # перевернуть b\n",
    "        self.b = self.b[::-1]\n",
    "        pass"
   ]
  },
  {
   "cell_type": "code",
   "execution_count": 11,
   "metadata": {},
   "outputs": [
    {
     "data": {
      "text/plain": [
       "array([-0.69314718, -0.69314718])"
      ]
     },
     "execution_count": 11,
     "metadata": {},
     "output_type": "execute_result"
    }
   ],
   "source": [
    "a = np.array([,1/2])\n",
    "np.log(a)"
   ]
  },
  {
   "cell_type": "code",
   "execution_count": null,
   "metadata": {},
   "outputs": [],
   "source": []
  },
  {
   "cell_type": "code",
   "execution_count": null,
   "metadata": {},
   "outputs": [],
   "source": []
  },
  {
   "cell_type": "code",
   "execution_count": null,
   "metadata": {},
   "outputs": [],
   "source": []
  },
  {
   "cell_type": "code",
   "execution_count": null,
   "metadata": {},
   "outputs": [],
   "source": []
  },
  {
   "cell_type": "code",
   "execution_count": null,
   "metadata": {},
   "outputs": [],
   "source": []
  },
  {
   "cell_type": "code",
   "execution_count": null,
   "metadata": {},
   "outputs": [],
   "source": []
  },
  {
   "cell_type": "code",
   "execution_count": null,
   "metadata": {},
   "outputs": [],
   "source": []
  },
  {
   "cell_type": "code",
   "execution_count": null,
   "metadata": {},
   "outputs": [],
   "source": []
  },
  {
   "cell_type": "code",
   "execution_count": null,
   "metadata": {},
   "outputs": [],
   "source": []
  }
 ],
 "metadata": {
  "kernelspec": {
   "display_name": "Python 3",
   "language": "python",
   "name": "python3"
  },
  "language_info": {
   "codemirror_mode": {
    "name": "ipython",
    "version": 3
   },
   "file_extension": ".py",
   "mimetype": "text/x-python",
   "name": "python",
   "nbconvert_exporter": "python",
   "pygments_lexer": "ipython3",
   "version": "3.6.4"
  }
 },
 "nbformat": 4,
 "nbformat_minor": 2
}
