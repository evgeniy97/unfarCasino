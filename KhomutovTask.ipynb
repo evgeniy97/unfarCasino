{
 "cells": [
  {
   "cell_type": "code",
   "execution_count": 18,
   "metadata": {},
   "outputs": [],
   "source": [
    "import numpy as np\n",
    "import matplotlib.pyplot as plt\n",
    "from generator import Croupier"
   ]
  },
  {
   "cell_type": "markdown",
   "metadata": {},
   "source": [
    "Импортируем класс Croupier, который отвечает за генерацию данных и создадим экземпляр класса с заданными значениями вероятности для нечестного кубика, а так же вероятности перехода с честного кубика на нечестный и на себя самого, и вероятности перехода с нечестного кубика на себя и на честный. Проверим что получаем выпавшие знаечение кубика, а так же метку кубика"
   ]
  },
  {
   "cell_type": "code",
   "execution_count": 13,
   "metadata": {
    "scrolled": true
   },
   "outputs": [
    {
     "name": "stdout",
     "output_type": "stream",
     "text": [
      "(5, 'F')\n",
      "(1, 'F')\n",
      "(3, 'U')\n",
      "(6, 'U')\n",
      "(5, 'U')\n",
      "(1, 'U')\n",
      "(6, 'U')\n",
      "(6, 'F')\n",
      "(5, 'F')\n",
      "(3, 'F')\n"
     ]
    }
   ],
   "source": [
    "casino = Croupier([0.1,0.1,0.1,0.1,0.1,1/2],[0.05,0.95],[0.9,0.1])\n",
    "for i in range(10):\n",
    "    print(casino())"
   ]
  },
  {
   "cell_type": "markdown",
   "metadata": {},
   "source": [
    "Сгенерируем датасеты размером 1 000, 10 000 и 100 000"
   ]
  },
  {
   "cell_type": "code",
   "execution_count": 182,
   "metadata": {},
   "outputs": [],
   "source": [
    "dataset100 = []\n",
    "dataset100Labels = []\n",
    "\n",
    "for i in range(100):\n",
    "    data, label = casino()\n",
    "    dataset100.append(data)\n",
    "    dataset100Labels.append(label)"
   ]
  },
  {
   "cell_type": "code",
   "execution_count": 14,
   "metadata": {},
   "outputs": [],
   "source": [
    "dataset300 = []\n",
    "dataset300Labels = []\n",
    "\n",
    "casino = Croupier([0.1,0.1,0.1,0.1,0.1,1/2],[0.05,0.95],[0.9,0.1])\n",
    "\n",
    "for i in range(300):\n",
    "    data, label = casino()\n",
    "    dataset300.append(data)\n",
    "    dataset300Labels.append(label)"
   ]
  },
  {
   "cell_type": "code",
   "execution_count": 19,
   "metadata": {},
   "outputs": [
    {
     "data": {
      "text/plain": [
       "[<matplotlib.lines.Line2D at 0x1ef4f37b780>]"
      ]
     },
     "execution_count": 19,
     "metadata": {},
     "output_type": "execute_result"
    },
    {
     "data": {
      "image/png": "[encoded data removed]",
      "text/plain": [
       "<matplotlib.figure.Figure at 0x1ef4f4eb390>"
      ]
     },
     "metadata": {},
     "output_type": "display_data"
    }
   ],
   "source": [
    "lab = [0 if l =='F' else 1 for l in dataset300Labels ]\n",
    "plt.plot(lab)"
   ]
  },
  {
   "cell_type": "code",
   "execution_count": 9,
   "metadata": {},
   "outputs": [],
   "source": [
    "datasetbook3 =  [3,1,5,1,1,6,2,4,6,4,4,6,6,4,4,2,4,5,3,1,1,3,2,1,6,3,1,1,6,4,1,5,2,1,3,3,6,2,5,1,4,4,5,4,3,6,3,1,6,5,6,6,2,6,5,6,6,6,6,6,6,5,1,1,6,6,4,5,3,2,1,3,2,6,5,1,2,4,5,6,3,6,6,6,4,6,3,1,6,6,6,3,1,6,2,3,2,6,5,4,5,2,3,6,2,6,6,6,6,6,6,2,5,1,5,1,6,3,1,2,2,2,5,5,5,4,4,1,6,6,6,5,6,6,5,6,3,5,6,4,3,2,4,3,6,4,1,3,1,5,1,3,4,6,5,1,4,6,3,5,3,4,1,1,1,1,2,6,4,1,4,6,2,6,2,5,3,3,5,6,3,6,6,1,6,3,6,6,6,4,6,6,2,3,2,5,3,4,4,1,3,6,6,1,6,6,1,1,6,3,2,5,2,5,6,2,4,6,2,2,5,5,2,6,2,5,2,2,6,6,4,3,5,3,5,3,5,3,3,3,3,6,1,2,2,1,2,1,6,2,5,3,6,4,4,1,4,4,3,2,3,3,5,1,6,3,2,4,3,6,3,3,3,6,6,6,5,5,6,2,4,6,6,6,6,6,6,2,6,6,6,1,2,3,5,4,5,2,4,2]"
   ]
  },
  {
   "cell_type": "code",
   "execution_count": 98,
   "metadata": {},
   "outputs": [],
   "source": [
    "dataset1000 = []\n",
    "dataset1000Labels = []\n",
    "\n",
    "for i in range(1000):\n",
    "    data, label = casino()\n",
    "    dataset1000.append(data)\n",
    "    dataset1000Labels.append(label)"
   ]
  },
  {
   "cell_type": "code",
   "execution_count": 30,
   "metadata": {},
   "outputs": [],
   "source": [
    "dataset10000 = []\n",
    "dataset10000Labels = []\n",
    "\n",
    "for i in range(10000):\n",
    "    data, label = casino()\n",
    "    dataset10000.append(data)\n",
    "    dataset10000Labels.append(label)"
   ]
  },
  {
   "cell_type": "code",
   "execution_count": 31,
   "metadata": {},
   "outputs": [],
   "source": [
    "dataset100000 = []\n",
    "dataset100000Labels = []\n",
    "\n",
    "for i in range(100000):\n",
    "    data, label = casino()\n",
    "    dataset100000.append(data)\n",
    "    dataset100000Labels.append(label)"
   ]
  },
  {
   "cell_type": "markdown",
   "metadata": {},
   "source": [
    "Определим базовый класс алгоритма"
   ]
  },
  {
   "cell_type": "code",
   "execution_count": 34,
   "metadata": {},
   "outputs": [],
   "source": [
    "class baseAlgo():\n",
    "    def __init__(self, data, fairDiceStateProbability,\n",
    "                 unfairDiceStateProbability, unfairDice, fairDice = None):\n",
    "        self.data = data\n",
    "        self.L = len(data)\n",
    "        \n",
    "        #if fairDice == None: self.fairDice = np.log([1/6 for i in range(6)])\n",
    "        #else: self.fairDice = np.log(fairDice)\n",
    "        #self.unfairDice = np.log(unfairDice)\n",
    "         \n",
    "        #self.toFairState = np.log([fairDiceStateProbability[0],unfairDiceStateProbability[0]])\n",
    "        #self.toUnfariState = np.log([fairDiceStateProbability[1],unfairDiceStateProbability[1]])\n",
    "        \n",
    "        #self.fairDiceStateProbability = np.log(fairDiceStateProbability)\n",
    "        #self.unfairDiceStateProbability = np.log(unfairDiceStateProbability)\n",
    "        \n",
    "        if fairDice == None: self.fairDice = np.array([1/6 for i in range(6)])\n",
    "        else: self.fairDice = np.array(fairDice)\n",
    "        self.unfairDice = np.array(unfairDice)\n",
    "         \n",
    "        self.toFairState = np.array([fairDiceStateProbability[0],unfairDiceStateProbability[0]])\n",
    "        self.toUnfariState = np.array([fairDiceStateProbability[1],unfairDiceStateProbability[1]])\n",
    "        \n",
    "        self.fairDiceStateProbability = np.array(fairDiceStateProbability)\n",
    "        self.unfairDiceStateProbability = np.array(unfairDiceStateProbability)\n",
    "        \n",
    "        self.states = ['Fair','Unfair']\n",
    "        self.dices = [self.fairDice,self.unfairDice]\n",
    "        self.transitions = [self.toFairState, self.toUnfariState]"
   ]
  },
  {
   "cell_type": "code",
   "execution_count": 35,
   "metadata": {},
   "outputs": [],
   "source": [
    "class algorithmViterbi(baseAlgo):\n",
    "    def __init__(self, data, fairDiceStateProbability,\n",
    "                 unfairDiceStateProbability, unfairDice, fairDice = None):\n",
    "        baseAlgo.__init__(self, data, fairDiceStateProbability,\n",
    "                 unfairDiceStateProbability, unfairDice, fairDice = None)\n",
    "        \n",
    "        self.v = None\n",
    "        self.ptr = None\n",
    "        self.path = None\n",
    "\n",
    "    def step(self,index):\n",
    "        self.v.append([])\n",
    "        self.ptr.append([])\n",
    "        previuosState = self.v[index-1]\n",
    "        for transitionProbability, probability in zip(self.transitions, self.dices):\n",
    "            observedProbability = probability[self.data[index]-1]\n",
    "            #print(\"PROBABILITY IN CURRENT STATE {}\".format(probability))\n",
    "            #print(\"DATA {} :PROBABILITY IN CURRENT STATE {}\".format(self.data[index],observedProbability))\n",
    "            \n",
    "            thisProbability = observedProbability * np.max(previuosState*transitionProbability)\n",
    "            ptr = 'F' if np.argmax(previuosState*transitionProbability) == 0 else 'U'\n",
    "            \n",
    "            #print(\"TRANSITION PROBABILITY: {}\".format(transitionProbability))\n",
    "            \n",
    "            #thisProbability = observedProbability + np.max(previuosState + transitionProbability)\n",
    "            #ptr = 'F' if np.argmax(previuosState + transitionProbability) == 0 else 'U'\n",
    "            #print('PTR: {}'.format(previuosState + transitionProbability))\n",
    "            \n",
    "            self.v[-1].append(thisProbability)\n",
    "            self.ptr[-1].append(ptr)\n",
    "            \n",
    "    def __call__(self):\n",
    "        if self.path == None: self.initialization()\n",
    "        return self.path\n",
    "        \n",
    "        \n",
    "    def initialization(self):\n",
    "        \n",
    "        self.ptr = []\n",
    "        self.v = []\n",
    "        self.path = []\n",
    "        \n",
    "        self.v.append([1,0]) # Не уверен\n",
    "        \n",
    "        # Рекурсия\n",
    "        for i in range(1,self.L):\n",
    "            self.step(i)\n",
    "            #print('PTR, V: {} _ {}'.format(self.ptr[i-1], self.v[i]))\n",
    "                \n",
    "        # Завершение\n",
    "        self.Probability = max(self.v[-1])\n",
    "        ptr, index = ('F', 0) if np.argmax(self.v[-1]) == 0 else ('U', 1)\n",
    "        #print(\"PTR,INDEX: {} _ {}\".format(ptr, index))\n",
    "        self.path.append(ptr)\n",
    "        \n",
    "        # Обратный ход\n",
    "        for step in range(self.L - 2,0,-1):\n",
    "            ptr, index = ('F', 0) if self.ptr[step][index] == 'F' else ('U', 1)\n",
    "            #print(self.ptr[step])\n",
    "            #print(self.v[step])\n",
    "            #print(\"Step {} : PTR,INDEX: {} _ {}\".format(step,ptr, index))\n",
    "            self.path.append(ptr)\n",
    "        self.path = self.path[::-1]\n",
    "        \n",
    "    def probability(self):\n",
    "        return np.e**self.Probability"
   ]
  },
  {
   "cell_type": "code",
   "execution_count": 36,
   "metadata": {},
   "outputs": [],
   "source": [
    "testData = [1,2,4,2,6,6,6,1,6] # F,F,F,F,U,U,U,U,U"
   ]
  },
  {
   "cell_type": "code",
   "execution_count": 37,
   "metadata": {},
   "outputs": [
    {
     "data": {
      "text/plain": [
       "['F', 'F', 'F', 'U', 'U', 'U', 'U', 'U']"
      ]
     },
     "execution_count": 37,
     "metadata": {},
     "output_type": "execute_result"
    }
   ],
   "source": [
    "hackCasinoViterbi = algorithmViterbi(testData, [0.95,0.05],[0.1,0.9],[0.1,0.1,0.1,0.1,0.1,1/2])\n",
    "result = hackCasinoViterbi()\n",
    "hackCasinoViterbi.probability()\n",
    "result"
   ]
  },
  {
   "cell_type": "code",
   "execution_count": 38,
   "metadata": {
    "scrolled": true
   },
   "outputs": [
    {
     "data": {
      "text/plain": [
       "['F',\n",
       " 'F',\n",
       " 'F',\n",
       " 'U',\n",
       " 'U',\n",
       " 'U',\n",
       " 'U',\n",
       " 'U',\n",
       " 'U',\n",
       " 'U',\n",
       " 'U',\n",
       " 'U',\n",
       " 'U',\n",
       " 'U',\n",
       " 'U',\n",
       " 'U',\n",
       " 'U']"
      ]
     },
     "execution_count": 38,
     "metadata": {},
     "output_type": "execute_result"
    }
   ],
   "source": [
    "testData2 = [1,2,4,2,6,6,6,1,6,2,5,6,6,6,6,6,6,6] # F,F,F,F,U,U,U,U,U,F,U,U,U\n",
    "hackCasinoViterbi = algorithmViterbi(testData2, [0.95,0.05],[0.1,0.9],[0.1,0.1,0.1,0.1,0.1,1/2])\n",
    "result = hackCasinoViterbi()\n",
    "hackCasinoViterbi.probability()\n",
    "result"
   ]
  },
  {
   "cell_type": "code",
   "execution_count": 11,
   "metadata": {},
   "outputs": [
    {
     "data": {
      "text/plain": [
       "1.0"
      ]
     },
     "execution_count": 11,
     "metadata": {},
     "output_type": "execute_result"
    }
   ],
   "source": [
    "hackCasinoViterbi = algorithmViterbi(datasetbook3, [0.95,0.05],[0.1,0.9],[0.1,0.1,0.1,0.1,0.1,1/2])\n",
    "result = hackCasinoViterbi()\n",
    "hackCasinoViterbi.probability()\n",
    "#result"
   ]
  },
  {
   "cell_type": "code",
   "execution_count": 39,
   "metadata": {},
   "outputs": [
    {
     "data": {
      "text/plain": [
       "[<matplotlib.lines.Line2D at 0x1ef52c2bcc0>]"
      ]
     },
     "execution_count": 39,
     "metadata": {},
     "output_type": "execute_result"
    },
    {
     "data": {
      "image/png": "[encoded data removed]",
      "text/plain": [
       "<matplotlib.figure.Figure at 0x1ef4f4aaf60>"
      ]
     },
     "metadata": {},
     "output_type": "display_data"
    }
   ],
   "source": [
    "hackCasinoViterbi = algorithmViterbi(dataset300, [0.95,0.05],[0.1,0.9],[0.1,0.1,0.1,0.1,0.1,0.5])\n",
    "result = hackCasinoViterbi()\n",
    "# hackCasinoViterbi.probability()\n",
    "# print(result)\n",
    "res = [0 if l =='F' else 1 for l in result]\n",
    "res.append(0)\n",
    "plt.plot(lab)\n",
    "plt.plot(res)"
   ]
  },
  {
   "cell_type": "code",
   "execution_count": 189,
   "metadata": {},
   "outputs": [
    {
     "name": "stdout",
     "output_type": "stream",
     "text": [
      "['U', 'F', 'F', 'F', 'F', 'F', 'F', 'F', 'F', 'F', 'F', 'F', 'F', 'F', 'F', 'F', 'F', 'F', 'F', 'F', 'F', 'F', 'F', 'F', 'F', 'F', 'F', 'F', 'F', 'F', 'F', 'F', 'F', 'F', 'F', 'U', 'U', 'U', 'U', 'U', 'U', 'U', 'U', 'U', 'U', 'F', 'F', 'F', 'F', 'U', 'F', 'F', 'F', 'F', 'U', 'U', 'U', 'F', 'F', 'F', 'F', 'F', 'F', 'F', 'F', 'F', 'F', 'F', 'F', 'F', 'F', 'F', 'F', 'U', 'U', 'U', 'U', 'U', 'F', 'F', 'F', 'F', 'F', 'F', 'F', 'F', 'F', 'F', 'F', 'F', 'F', 'F', 'F', 'F', 'F', 'F', 'F', 'F', 'F', 'F', 'F', 'F', 'F', 'F', 'F', 'F', 'F', 'F', 'F', 'U', 'U', 'F', 'F', 'F', 'F', 'F', 'F', 'F', 'F', 'F', 'U', 'U', 'U', 'F', 'F', 'F', 'F', 'F', 'F', 'F', 'F', 'F', 'F', 'F', 'F', 'F', 'F', 'F', 'F', 'F', 'F', 'F', 'F', 'F', 'F', 'F', 'F', 'F', 'F', 'F', 'F', 'F', 'F', 'F', 'F', 'F', 'F', 'F', 'F', 'F', 'F', 'F', 'U', 'U', 'U', 'U', 'U', 'U', 'U', 'U', 'F', 'F', 'F', 'F', 'F', 'F', 'F', 'F', 'F', 'F', 'F', 'F', 'F', 'F', 'F', 'F', 'F', 'F', 'U', 'U', 'F', 'F', 'F', 'F', 'F', 'F', 'F', 'F', 'F', 'F', 'F', 'F', 'F', 'F', 'U', 'U', 'U', 'U', 'F', 'F', 'F', 'F', 'F', 'F', 'F', 'U', 'U', 'U', 'U', 'U', 'U', 'U', 'U', 'U', 'F', 'F', 'F', 'F', 'U', 'U', 'U', 'U', 'U', 'U', 'U', 'U', 'U', 'U', 'U', 'F', 'F', 'F', 'F', 'F', 'F', 'F', 'F', 'F', 'F', 'F', 'F', 'F', 'F', 'F', 'F', 'F', 'F', 'F', 'F', 'F', 'F', 'F', 'F', 'F', 'F', 'F', 'F', 'F', 'F', 'F', 'F', 'F', 'F', 'U', 'U', 'U', 'F', 'F', 'F', 'F', 'F', 'F', 'F', 'F', 'F', 'F', 'F', 'F', 'F', 'U', 'F', 'F', 'F', 'F', 'F', 'F', 'F', 'F', 'F', 'F', 'F', 'F', 'F', 'F', 'F', 'F', 'F', 'F', 'F', 'F', 'F', 'F', 'F', 'F', 'F', 'F', 'F', 'F', 'F', 'F', 'F', 'F', 'U', 'U', 'U', 'U', 'U', 'U', 'F', 'F', 'F', 'F', 'F', 'F', 'F', 'F', 'F', 'F', 'F', 'F', 'F', 'F', 'F', 'F', 'F', 'F', 'F', 'F', 'F', 'F', 'F', 'F', 'F', 'F', 'F', 'U', 'U', 'U', 'U', 'U', 'U', 'U', 'U', 'U', 'F', 'F', 'F', 'F', 'U', 'U', 'U', 'U', 'U', 'U', 'U', 'F', 'F', 'F', 'F', 'F', 'F', 'F', 'F', 'F', 'F', 'F', 'F', 'F', 'F', 'F', 'F', 'F', 'F', 'F', 'F', 'U', 'U', 'U', 'U', 'U', 'U', 'U', 'U', 'U', 'U', 'U', 'U', 'U', 'F', 'F', 'F', 'U', 'U', 'U', 'U', 'U', 'U', 'U', 'F', 'F', 'F', 'F', 'F', 'F', 'U', 'U', 'U', 'U', 'F', 'F', 'F', 'U', 'U', 'U', 'U', 'U', 'U', 'U', 'U', 'U', 'U', 'U', 'U', 'U', 'U', 'U', 'U', 'F', 'F', 'F', 'F', 'F', 'F', 'F', 'F', 'F', 'F', 'F', 'F', 'F', 'F', 'F', 'F', 'U', 'U', 'U', 'U', 'U', 'U', 'U', 'U', 'U', 'U', 'U', 'U', 'U', 'U', 'U', 'F', 'F', 'F', 'F', 'F', 'F', 'F', 'F', 'F', 'F', 'F', 'F', 'F', 'F', 'F', 'F', 'F', 'F', 'F', 'F', 'F', 'F', 'F', 'F', 'F', 'F', 'F', 'F', 'F', 'F', 'F', 'F', 'U', 'U', 'U', 'U', 'U', 'U', 'U', 'U', 'F', 'F', 'U', 'U', 'U', 'U', 'U', 'U', 'U', 'U', 'U', 'U', 'U', 'U', 'U', 'U', 'U', 'U', 'U', 'U', 'U', 'U', 'U', 'U', 'U', 'U', 'U', 'U', 'U', 'U', 'U', 'U', 'U', 'U', 'U', 'U', 'U', 'U', 'F', 'F', 'F', 'F', 'U', 'U', 'U', 'U', 'U', 'U', 'F', 'F', 'F', 'F', 'F', 'F', 'F', 'F', 'F', 'F', 'F', 'F', 'F', 'F', 'F', 'F', 'F', 'F', 'F', 'F', 'F', 'F', 'F', 'F', 'F', 'F', 'F', 'F', 'F', 'F', 'U', 'U', 'U', 'U', 'U', 'U', 'U', 'U', 'U', 'U', 'U', 'U', 'U', 'U', 'U', 'U', 'U', 'U', 'U', 'U', 'U', 'F', 'F', 'F', 'F', 'F', 'F', 'F', 'F', 'F', 'F', 'F', 'F', 'F', 'F', 'F', 'F', 'F', 'F', 'F', 'F', 'U', 'U', 'U', 'U', 'U', 'U', 'F', 'F', 'F', 'F', 'U', 'U', 'U', 'F', 'F', 'F', 'F', 'F', 'F', 'F', 'F', 'F', 'F', 'F', 'F', 'F', 'F', 'F', 'F', 'F', 'F', 'F', 'F', 'F', 'F', 'F', 'F', 'F', 'F', 'F', 'F', 'F', 'F', 'F', 'U', 'U', 'U', 'U', 'F', 'F', 'F', 'F', 'F', 'F', 'F', 'F', 'F', 'F', 'F', 'F', 'F', 'F', 'F', 'F', 'F', 'F', 'F', 'F', 'F', 'F', 'F', 'F', 'F', 'F', 'F', 'F', 'F', 'F', 'U', 'U', 'U', 'U', 'U', 'U', 'U', 'U', 'U', 'U', 'U', 'F', 'F', 'F', 'F', 'F', 'F', 'F', 'U', 'U', 'U', 'F', 'F', 'F', 'F', 'F', 'F', 'F', 'F', 'F', 'F', 'F', 'F', 'F', 'F', 'F', 'F', 'F', 'F', 'F', 'F', 'F', 'F', 'F', 'F', 'F', 'F', 'F', 'F', 'F', 'F', 'F', 'F', 'F', 'F', 'F', 'F', 'F', 'F', 'F', 'F', 'F', 'F', 'F', 'F', 'F', 'F', 'F', 'F', 'U', 'U', 'U', 'U', 'U', 'U', 'U', 'U', 'U', 'U', 'F', 'F', 'F', 'F', 'F', 'F', 'F', 'F', 'F', 'F', 'F', 'F', 'F', 'F', 'U', 'U', 'U', 'F', 'F', 'F', 'F', 'F', 'F', 'F', 'F', 'F', 'F', 'F', 'F', 'F', 'F', 'F', 'F', 'F', 'F', 'F', 'F', 'F', 'F', 'F', 'F', 'F', 'F', 'F', 'F', 'F', 'F', 'F', 'F', 'F', 'F', 'F', 'F', 'F', 'F', 'F', 'F', 'F', 'F', 'F', 'F', 'F', 'F', 'U', 'U', 'U', 'U', 'U', 'U', 'U', 'U', 'U', 'U', 'F', 'F', 'F', 'F', 'F', 'F', 'F', 'F', 'F', 'F', 'F', 'F', 'F', 'U', 'U', 'F', 'F', 'F', 'F', 'F', 'F', 'F', 'F', 'F', 'F', 'F', 'F', 'F', 'F', 'F', 'F', 'F', 'F', 'F', 'F', 'F', 'F', 'F', 'F', 'F', 'U', 'U', 'U', 'U', 'U', 'U', 'U', 'U', 'U', 'U', 'U', 'U', 'U', 'U', 'U', 'U', 'U', 'U', 'U', 'U', 'F', 'F', 'F', 'F', 'F', 'F', 'F', 'F', 'F', 'F', 'F', 'F', 'F', 'F', 'F', 'F', 'F', 'F', 'F', 'F', 'F', 'F', 'F', 'F', 'F', 'F', 'F', 'F', 'U', 'U', 'U', 'U', 'U', 'U', 'U', 'U', 'U', 'U', 'U', 'U', 'U', 'U', 'U', 'U', 'U', 'U', 'U', 'U', 'U', 'U', 'U', 'U', 'U', 'U', 'U', 'U', 'U', 'U', 'U', 'U', 'U', 'U', 'U', 'U', 'U', 'U', 'U', 'U', 'U', 'U', 'U', 'U', 'U']\n"
     ]
    }
   ],
   "source": [
    "print(dataset1000Labels)"
   ]
  },
  {
   "cell_type": "code",
   "execution_count": null,
   "metadata": {},
   "outputs": [],
   "source": []
  },
  {
   "cell_type": "code",
   "execution_count": null,
   "metadata": {},
   "outputs": [],
   "source": []
  },
  {
   "cell_type": "code",
   "execution_count": null,
   "metadata": {},
   "outputs": [],
   "source": []
  },
  {
   "cell_type": "code",
   "execution_count": null,
   "metadata": {},
   "outputs": [],
   "source": []
  },
  {
   "cell_type": "code",
   "execution_count": null,
   "metadata": {},
   "outputs": [],
   "source": []
  },
  {
   "cell_type": "code",
   "execution_count": null,
   "metadata": {},
   "outputs": [],
   "source": []
  },
  {
   "cell_type": "code",
   "execution_count": null,
   "metadata": {},
   "outputs": [],
   "source": []
  },
  {
   "cell_type": "code",
   "execution_count": 26,
   "metadata": {},
   "outputs": [],
   "source": [
    "class forwardAlgorithm(baseAlgo):\n",
    "    def __init__(self, data, fairDiceStateProbability,\n",
    "                 unfairDiceStateProbability, unfairDice, fairDice = None):\n",
    "        baseAlgo.__init__(self, data, fairDiceStateProbability,\n",
    "                 unfairDiceStateProbability, unfairDice, fairDice = None)\n",
    "        \n",
    "        self.f = np.array([])\n",
    "        self.pathProbability = None\n",
    "    \n",
    "    def step(self, index):\n",
    "        self.f.append([])\n",
    "        for transitionProbability, probability in zip(self.transitions, self.dices):\n",
    "            observedProbability = probability[self.data[index]]\n",
    "            previuosState = self.f[index-1]\n",
    "            \"\"\"\n",
    "            observedProbability: вероятсность наблюдения при текущем состояние\n",
    "            transitionProbability: вероятность перехода с кубика на кубик\n",
    "            \"\"\"\n",
    "            probability = observedProbability * sum(previuosState * transitionProbability)\n",
    "            self.f[-1].append(probability)\n",
    "    \n",
    "    def __call__(self):\n",
    "        if self.pathProbability == None: self.initialization()\n",
    "        return self.pathProbability\n",
    "    \n",
    "    def initialization(self):\n",
    "        # Init\n",
    "        self.f.append([1,0]) # Не уверен\n",
    "        # Recursion\n",
    "        for i in range(1,self.L):\n",
    "            self.step(i)\n",
    "        self.pathProbability = sum(self.f[-1])"
   ]
  },
  {
   "cell_type": "code",
   "execution_count": null,
   "metadata": {},
   "outputs": [],
   "source": [
    "hackCasino = "
   ]
  },
  {
   "cell_type": "code",
   "execution_count": null,
   "metadata": {},
   "outputs": [],
   "source": []
  },
  {
   "cell_type": "code",
   "execution_count": null,
   "metadata": {},
   "outputs": [],
   "source": []
  },
  {
   "cell_type": "code",
   "execution_count": null,
   "metadata": {},
   "outputs": [],
   "source": []
  },
  {
   "cell_type": "code",
   "execution_count": null,
   "metadata": {},
   "outputs": [],
   "source": []
  },
  {
   "cell_type": "code",
   "execution_count": 27,
   "metadata": {},
   "outputs": [],
   "source": [
    "class backwardAlgorithm(baseAlgo):\n",
    "    def __init__(self, data, fairDiceStateProbability,\n",
    "                 unfairDiceStateProbability, unfairDice, fairDice = None):\n",
    "        baseAlgo.__init__(self, data, fairDiceStateProbability,\n",
    "                 unfairDiceStateProbability, unfairDice, fairDice = None)\n",
    "        \n",
    "        self.b = np.array([])\n",
    "        self.pathProbability = None\n",
    "    \n",
    "    def step(self, index):\n",
    "        self.b.append([])\n",
    "        for transitionProbability in self.transitions: # first fair then unfair\n",
    "            observedProbability = np.array([])\n",
    "            for probability in self.dices\n",
    "                observedProbability.append(probability[self.data[index]])\n",
    "            nextState = self.b[index-1]\n",
    "            \n",
    "            probability = sum(transitionProbability * observedProbability * nextState)\n",
    "            self.b[-1].append(probability)\n",
    "    \n",
    "    def __call__(self):\n",
    "        if self.pathProbability == None: self.initialization()\n",
    "        return self.pathProbability\n",
    "    \n",
    "    def initialization(self):\n",
    "        #Init self.L - 1 КАК ИНИЦИАОИЗИРОВАТЬ?\n",
    "        pass\n",
    "        #Recursion\n",
    "        for i in range(2,self.L): # С двойки?\n",
    "            self.step(i)\n",
    "        # Finish # перевернуть b\n",
    "        self.b = self.b[::-1]\n",
    "        pass"
   ]
  },
  {
   "cell_type": "code",
   "execution_count": 11,
   "metadata": {},
   "outputs": [
    {
     "data": {
      "text/plain": [
       "array([-0.69314718, -0.69314718])"
      ]
     },
     "execution_count": 11,
     "metadata": {},
     "output_type": "execute_result"
    }
   ],
   "source": [
    "a = np.array([,1/2])\n",
    "np.log(a)"
   ]
  },
  {
   "cell_type": "code",
   "execution_count": null,
   "metadata": {},
   "outputs": [],
   "source": []
  },
  {
   "cell_type": "code",
   "execution_count": null,
   "metadata": {},
   "outputs": [],
   "source": []
  },
  {
   "cell_type": "code",
   "execution_count": null,
   "metadata": {},
   "outputs": [],
   "source": []
  },
  {
   "cell_type": "code",
   "execution_count": null,
   "metadata": {},
   "outputs": [],
   "source": []
  },
  {
   "cell_type": "code",
   "execution_count": null,
   "metadata": {},
   "outputs": [],
   "source": []
  },
  {
   "cell_type": "code",
   "execution_count": null,
   "metadata": {},
   "outputs": [],
   "source": []
  },
  {
   "cell_type": "code",
   "execution_count": null,
   "metadata": {},
   "outputs": [],
   "source": []
  },
  {
   "cell_type": "code",
   "execution_count": null,
   "metadata": {},
   "outputs": [],
   "source": []
  },
  {
   "cell_type": "code",
   "execution_count": null,
   "metadata": {},
   "outputs": [],
   "source": []
  }
 ],
 "metadata": {
  "kernelspec": {
   "display_name": "Python 3",
   "language": "python",
   "name": "python3"
  },
  "language_info": {
   "codemirror_mode": {
    "name": "ipython",
    "version": 3
   },
   "file_extension": ".py",
   "mimetype": "text/x-python",
   "name": "python",
   "nbconvert_exporter": "python",
   "pygments_lexer": "ipython3",
   "version": "3.6.4"
  }
 },
 "nbformat": 4,
 "nbformat_minor": 2
}
