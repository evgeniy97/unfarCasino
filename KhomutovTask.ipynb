{
 "cells": [
  {
   "cell_type": "code",
   "execution_count": 5,
   "metadata": {},
   "outputs": [],
   "source": [
    "import numpy as np\n",
    "from generator import Croupier"
   ]
  },
  {
   "cell_type": "markdown",
   "metadata": {},
   "source": [
    "Импортируем класс Croupier, который отвечает за генерацию данных и создадим экземпляр класса с заданными значениями вероятности для нечестного кубика, а так же вероятности перехода с честного кубика на нечестный и на себя самого, и вероятности перехода с нечестного кубика на себя и на честный. Проверим что получаем выпавшие знаечение кубика, а так же метку кубика"
   ]
  },
  {
   "cell_type": "code",
   "execution_count": 24,
   "metadata": {
    "scrolled": true
   },
   "outputs": [
    {
     "name": "stdout",
     "output_type": "stream",
     "text": [
      "(1, 'F')\n",
      "(6, 'F')\n",
      "(2, 'U')\n",
      "(3, 'U')\n",
      "(1, 'U')\n",
      "(2, 'U')\n",
      "(4, 'U')\n",
      "(2, 'F')\n",
      "(3, 'F')\n",
      "(1, 'F')\n"
     ]
    }
   ],
   "source": [
    "casino = Croupier([0.1,0.1,0.1,0.1,0.1,1/2],[0.05,0.95],[0.9,0.1])\n",
    "for i in range(10):\n",
    "    print(casino())"
   ]
  },
  {
   "cell_type": "markdown",
   "metadata": {},
   "source": [
    "Сгенерируем датасеты размером 1 000, 10 000 и 100 000"
   ]
  },
  {
   "cell_type": "code",
   "execution_count": 29,
   "metadata": {},
   "outputs": [],
   "source": [
    "dataset1000 = []\n",
    "dataset1000Labels = []\n",
    "\n",
    "for i in range(1000):\n",
    "    data, label = casino()\n",
    "    dataset1000.append(data)\n",
    "    dataset1000Labels.append(label)"
   ]
  },
  {
   "cell_type": "code",
   "execution_count": 30,
   "metadata": {},
   "outputs": [],
   "source": [
    "dataset10000 = []\n",
    "dataset10000Labels = []\n",
    "\n",
    "for i in range(10000):\n",
    "    data, label = casino()\n",
    "    dataset10000.append(data)\n",
    "    dataset10000Labels.append(label)"
   ]
  },
  {
   "cell_type": "code",
   "execution_count": 31,
   "metadata": {},
   "outputs": [],
   "source": [
    "dataset100000 = []\n",
    "dataset100000Labels = []\n",
    "\n",
    "for i in range(100000):\n",
    "    data, label = casino()\n",
    "    dataset100000.append(data)\n",
    "    dataset100000Labels.append(label)"
   ]
  },
  {
   "cell_type": "markdown",
   "metadata": {},
   "source": [
    "Определим базовый класс алгоритма"
   ]
  },
  {
   "cell_type": "code",
   "execution_count": null,
   "metadata": {},
   "outputs": [],
   "source": [
    "class baseAlgo():\n",
    "    def __init__(self, data, fairDiceStateProbability,\n",
    "                 unfairDiceStateProbability, unfairDice, fairDice = None):\n",
    "        self.data = data\n",
    "        self.L = len(data)\n",
    "        \n",
    "        if fairDice == None: self.fairDice = [1/6 for i in range(6)]\n",
    "        else: self.fairDice = fairDice\n",
    "        self.unfairDice = unfairDice\n",
    "        \n",
    "        # Возможно стоит сделать вида \n",
    "        self.toFairState = np.array([fairDiceStateProbability[0],unfairDiceStateProbability[0]])\n",
    "        self.toUnfariState = np.array([fairDiceStateProbability[1],unfairDiceStateProbability[1]])\n",
    "        \n",
    "        self.fairDiceStateProbability = fairDiceStateProbability\n",
    "        self.unfairDiceStateProbability = unfairDiceStateProbability\n",
    "        \n",
    "        self.states = ['Fair','Unfair']\n",
    "        self.dices = [self.fairDice,self.unfairDice]\n",
    "        self.transitions = [self.toFairState, self.toUnfariState]\n",
    "        \n",
    "        self.path = [] #Вынести, так как прямой и обратной ход для другого"
   ]
  },
  {
   "cell_type": "markdown",
   "metadata": {},
   "source": []
  },
  {
   "cell_type": "code",
   "execution_count": 25,
   "metadata": {},
   "outputs": [],
   "source": [
    "class algorithmViterbi(baseAlgo):\n",
    "    def __init__(self, data, fairDiceStateProbability,\n",
    "                 unfairDiceStateProbability, unfairDice, fairDice = None):\n",
    "        baseAlgo.__init__(self, data, fairDiceStateProbability,\n",
    "                 unfairDiceStateProbability, unfairDice, fairDice = None)\n",
    "        self.v = [0 for i in range(self.L)]\n",
    "        self.v[0] = 1\n",
    "        \n",
    "        self.pathProbabilities = []\n",
    "        self.ptrStates = []\n",
    "        \n",
    "        \n",
    "    def ptr(self,index, Fair2Current, Unfair2Current):\n",
    "        return 'Fair' if self.pathProbabilities[index-1][0]*Fair2Current > self.pathProbabilities[index-1][1]*Unfair2Current else 'Unfar'\n",
    "        \n",
    "    def _stepRecursion(self, index, state, probabilityPerState):\n",
    "        probabilityObservationsInState = probabilityPerState[data[i]-1]\n",
    "        ###\n",
    "        # Определить с помощью state и self.fairDiceStateProbability/self.unfairDiceStateProbability\n",
    "        Fair2Current, Unfair2Current = 0,0 \n",
    "        ###\n",
    "        probability = probabilityPerState * (max(self.pathProbabilities[index-1][0]*Fair2Current,self.pathProbabilities[index-1][1]*Unfair2Current))\n",
    "        argmax = self.ptr(index, Fair2Current, Unfair2Current)\n",
    "        \n",
    "        self.pathProbabilities.append(probability)\n",
    "        self.ptrStates[-1].append(argmax)\n",
    "    \n",
    "    def __call__(self):\n",
    "        # Рекурсия\n",
    "        for i in range(1,self.L):\n",
    "            self.pathProbabilitie.append([])\n",
    "            self.ptrStates.append([])\n",
    "            for state, probability in zip(['Fair','Unfair'],[self.fairDice, self.unfairDice]):\n",
    "                self._stepRecursion(i,state,probability)\n",
    "                \n",
    "        # Завершение\n",
    "        pass\n",
    "        # Обратный ход\n",
    "        pass"
   ]
  },
  {
   "cell_type": "code",
   "execution_count": null,
   "metadata": {},
   "outputs": [],
   "source": []
  },
  {
   "cell_type": "code",
   "execution_count": 26,
   "metadata": {},
   "outputs": [],
   "source": [
    "class forwardAlgorithm(baseAlgo):\n",
    "    def __init__(self, data, fairDiceStateProbability,\n",
    "                 unfairDiceStateProbability, unfairDice, fairDice = None):\n",
    "        baseAlgo.__init__(self, data, fairDiceStateProbability,\n",
    "                 unfairDiceStateProbability, unfairDice, fairDice = None)\n",
    "        \n",
    "        self.f = np.array([])\n",
    "        self.pathProbability = None\n",
    "    \n",
    "    def step(self, index):\n",
    "        self.f.append([])\n",
    "        for transitionProbability, probability in zip(self.transitions, self.dices):\n",
    "            observedProbability = probability[self.data[index]]\n",
    "            previuosState = self.f[index-1]\n",
    "            \"\"\"\n",
    "            observedProbability: вероятсность наблюдения при текущем состояние\n",
    "            transitionProbability: вероятность перехода с кубика на кубик\n",
    "            \"\"\"\n",
    "            probability = observedProbability * sum(previuosState * transitionProbability)\n",
    "            self.f[-1].append(probability)\n",
    "    \n",
    "    def __call__(self):\n",
    "        if self.pathProbability == None: self.initialization()\n",
    "        return self.pathProbability\n",
    "    \n",
    "    def initialization(self):\n",
    "        # Init\n",
    "        self.f.append([1,0]) # Не уверен\n",
    "        # Recursion\n",
    "        for i in range(1,self.L):\n",
    "            self.step(i)\n",
    "        self.pathProbability = sum(self.f[-1])"
   ]
  },
  {
   "cell_type": "code",
   "execution_count": 27,
   "metadata": {},
   "outputs": [],
   "source": [
    "class backwardAlgorithm(baseAlgo):\n",
    "    def __init__(self, data, fairDiceStateProbability,\n",
    "                 unfairDiceStateProbability, unfairDice, fairDice = None):\n",
    "        baseAlgo.__init__(self, data, fairDiceStateProbability,\n",
    "                 unfairDiceStateProbability, unfairDice, fairDice = None)\n",
    "        pass\n",
    "    \n",
    "    def step(self):\n",
    "        pass\n",
    "    \n",
    "    def __call__(self):\n",
    "        pass\n",
    "    \n",
    "    def initialization(self):\n",
    "        pass"
   ]
  },
  {
   "cell_type": "code",
   "execution_count": 28,
   "metadata": {},
   "outputs": [],
   "source": [
    "class BaumWelchTraining():\n",
    "    pass"
   ]
  },
  {
   "cell_type": "code",
   "execution_count": null,
   "metadata": {},
   "outputs": [],
   "source": []
  },
  {
   "cell_type": "code",
   "execution_count": null,
   "metadata": {},
   "outputs": [],
   "source": []
  },
  {
   "cell_type": "code",
   "execution_count": null,
   "metadata": {},
   "outputs": [],
   "source": []
  },
  {
   "cell_type": "code",
   "execution_count": null,
   "metadata": {},
   "outputs": [],
   "source": []
  },
  {
   "cell_type": "code",
   "execution_count": null,
   "metadata": {},
   "outputs": [],
   "source": []
  },
  {
   "cell_type": "code",
   "execution_count": null,
   "metadata": {},
   "outputs": [],
   "source": []
  },
  {
   "cell_type": "code",
   "execution_count": null,
   "metadata": {},
   "outputs": [],
   "source": []
  },
  {
   "cell_type": "code",
   "execution_count": null,
   "metadata": {},
   "outputs": [],
   "source": []
  },
  {
   "cell_type": "code",
   "execution_count": null,
   "metadata": {},
   "outputs": [],
   "source": []
  },
  {
   "cell_type": "code",
   "execution_count": null,
   "metadata": {},
   "outputs": [],
   "source": []
  }
 ],
 "metadata": {
  "kernelspec": {
   "display_name": "Python 3",
   "language": "python",
   "name": "python3"
  },
  "language_info": {
   "codemirror_mode": {
    "name": "ipython",
    "version": 3
   },
   "file_extension": ".py",
   "mimetype": "text/x-python",
   "name": "python",
   "nbconvert_exporter": "python",
   "pygments_lexer": "ipython3",
   "version": "3.6.4"
  }
 },
 "nbformat": 4,
 "nbformat_minor": 2
}
