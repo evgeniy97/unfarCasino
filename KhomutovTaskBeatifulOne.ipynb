{
 "cells": [
  {
   "cell_type": "markdown",
   "metadata": {},
   "source": [
    "## Хомутов Евгений Васильевич, МСКМ-191\n",
    "# Вычислительная геномика"
   ]
  },
  {
   "cell_type": "code",
   "execution_count": 1,
   "metadata": {},
   "outputs": [],
   "source": [
    "import pprint\n",
    "import numpy as np\n",
    "import matplotlib.pyplot as plt"
   ]
  },
  {
   "cell_type": "markdown",
   "metadata": {},
   "source": [
    "Импортируем класс Croupier, который отвечает за генерацию данных и создадим экземпляр класса с заданными значениями вероятности для нечестного кубика, а так же вероятности перехода с честного кубика на нечестный и на себя самого, и вероятности перехода с нечестного кубика на себя и на честный. Проверим что получаем выпавшие знаечение кубика, а так же метку кубика."
   ]
  },
  {
   "cell_type": "markdown",
   "metadata": {},
   "source": [
    "В качестве начального распределения возьмем предельное распределение. Решая систему уравнений и нормировочное уравнение:\n",
    "$$\n",
    "0.95p_1+ 0.05p_2 = p_1\n",
    "$$\n",
    "$$\n",
    "0.01p_1+ 0.9p_2 = p_2\n",
    "$$\n",
    "$$\n",
    "p_1 + p_2 = 1 \n",
    "$$\n",
    "получаем, что искомые вероятности равны (2/3;1/3)"
   ]
  },
  {
   "cell_type": "code",
   "execution_count": 2,
   "metadata": {},
   "outputs": [],
   "source": [
    "class Croupier():\n",
    "    def __init__(self):\n",
    "        print('Croupier init')\n",
    "        self.states = ['F','U'] # F for Fair state, U for Unfair state\n",
    "        self.transitionsProbability = {\n",
    "            'F': [0.95,0.05], # to F, to U\n",
    "            'U': [0.1,0.9] # to F, to U\n",
    "        }\n",
    "        \n",
    "        self.startProbability = [2/3,1/3]\n",
    "\n",
    "        self.currentState = np.random.choice(self.states, p =self.startProbability)\n",
    "        self.diceValues = [1,2,3,4,5,6]\n",
    "        self.diceValueProbability = {\n",
    "            'F': [1/6 for i in range(6)],\n",
    "            'U': [.1,.1,.1,.1,.1,.5]\n",
    "        }\n",
    "\n",
    "\n",
    "    def changeDice(self):\n",
    "        self.currentState = np.random.choice(self.states,p=self.transitionsProbability[self.currentState])\n",
    "\n",
    "    def roll(self):\n",
    "        return np.random.choice(self.diceValues, p=self.diceValueProbability[self.currentState]), self.currentState\n",
    "\n",
    "    def __call__(self):\n",
    "        self.changeDice()\n",
    "        return self.roll()"
   ]
  },
  {
   "cell_type": "code",
   "execution_count": 3,
   "metadata": {
    "scrolled": true
   },
   "outputs": [
    {
     "name": "stdout",
     "output_type": "stream",
     "text": [
      "Croupier init\n",
      "(6, 'U')\n",
      "(6, 'U')\n",
      "(4, 'U')\n",
      "(4, 'U')\n",
      "(1, 'U')\n",
      "(6, 'U')\n",
      "(6, 'U')\n",
      "(4, 'U')\n",
      "(6, 'U')\n",
      "(4, 'U')\n"
     ]
    }
   ],
   "source": [
    "casino = Croupier()\n",
    "for i in range(10):\n",
    "    print(casino())"
   ]
  },
  {
   "cell_type": "markdown",
   "metadata": {},
   "source": [
    "Сгенерируем датасеты размером 300, 1 000 и 10 000"
   ]
  },
  {
   "cell_type": "code",
   "execution_count": 4,
   "metadata": {},
   "outputs": [
    {
     "name": "stdout",
     "output_type": "stream",
     "text": [
      "Croupier init\n"
     ]
    }
   ],
   "source": [
    "dataset300 = []\n",
    "dataset300Labels = []\n",
    "\n",
    "casino = Croupier()\n",
    "\n",
    "for i in range(300):\n",
    "    data, label = casino()\n",
    "    dataset300.append(data)\n",
    "    dataset300Labels.append(label)"
   ]
  },
  {
   "cell_type": "code",
   "execution_count": 5,
   "metadata": {},
   "outputs": [
    {
     "name": "stdout",
     "output_type": "stream",
     "text": [
      "Croupier init\n"
     ]
    }
   ],
   "source": [
    "dataset1000 = []\n",
    "dataset1000Labels = []\n",
    "\n",
    "casino = Croupier()\n",
    "\n",
    "for i in range(1000):\n",
    "    data, label = casino()\n",
    "    dataset1000.append(data)\n",
    "    dataset1000Labels.append(label)"
   ]
  },
  {
   "cell_type": "code",
   "execution_count": 6,
   "metadata": {},
   "outputs": [
    {
     "name": "stdout",
     "output_type": "stream",
     "text": [
      "Croupier init\n"
     ]
    }
   ],
   "source": [
    "dataset10000 = []\n",
    "dataset10000Labels = []\n",
    "\n",
    "casino = Croupier()\n",
    "\n",
    "for i in range(10000):\n",
    "    data, label = casino()\n",
    "    dataset10000.append(data)\n",
    "    dataset10000Labels.append(label)"
   ]
  },
  {
   "cell_type": "markdown",
   "metadata": {},
   "source": [
    "Ноль соответсвует честной кости, единица - нечестной."
   ]
  },
  {
   "cell_type": "code",
   "execution_count": 7,
   "metadata": {},
   "outputs": [
    {
     "data": {
      "text/plain": [
       "[<matplotlib.lines.Line2D at 0x285f765cda0>]"
      ]
     },
     "execution_count": 7,
     "metadata": {},
     "output_type": "execute_result"
    },
    {
     "data": {
      "image/png": "[encoded data removed]",
      "text/plain": [
       "<matplotlib.figure.Figure at 0x285f726fef0>"
      ]
     },
     "metadata": {},
     "output_type": "display_data"
    }
   ],
   "source": [
    "lab300 = [0 if l =='F' else 1 for l in dataset300Labels ]\n",
    "plt.plot(lab300)"
   ]
  },
  {
   "cell_type": "code",
   "execution_count": 8,
   "metadata": {},
   "outputs": [
    {
     "data": {
      "text/plain": [
       "[<matplotlib.lines.Line2D at 0x285f77768d0>]"
      ]
     },
     "execution_count": 8,
     "metadata": {},
     "output_type": "execute_result"
    },
    {
     "data": {
      "image/png": "[encoded data removed]",
      "text/plain": [
       "<matplotlib.figure.Figure at 0x285f7308ef0>"
      ]
     },
     "metadata": {},
     "output_type": "display_data"
    }
   ],
   "source": [
    "lab1000 = [0 if l =='F' else 1 for l in dataset1000Labels ]\n",
    "plt.plot(lab1000)"
   ]
  },
  {
   "cell_type": "code",
   "execution_count": 9,
   "metadata": {
    "scrolled": true
   },
   "outputs": [
    {
     "data": {
      "text/plain": [
       "[<matplotlib.lines.Line2D at 0x285f7be7da0>]"
      ]
     },
     "execution_count": 9,
     "metadata": {},
     "output_type": "execute_result"
    },
    {
     "data": {
      "image/png": "[encoded data removed]",
      "text/plain": [
       "<matplotlib.figure.Figure at 0x285f7752668>"
      ]
     },
     "metadata": {},
     "output_type": "display_data"
    }
   ],
   "source": [
    "lab10000 = [0 if l =='F' else 1 for l in dataset10000Labels ]\n",
    "plt.plot(lab10000)"
   ]
  },
  {
   "cell_type": "markdown",
   "metadata": {},
   "source": [
    "Посчитаем количество раз, когда использоволась какая кость для 10 000 раз"
   ]
  },
  {
   "cell_type": "code",
   "execution_count": 10,
   "metadata": {},
   "outputs": [
    {
     "data": {
      "text/plain": [
       "Counter({'F': 6666, 'U': 3334})"
      ]
     },
     "execution_count": 10,
     "metadata": {},
     "output_type": "execute_result"
    }
   ],
   "source": [
    "from collections import Counter\n",
    "Counter(dataset10000Labels)"
   ]
  },
  {
   "cell_type": "markdown",
   "metadata": {},
   "source": [
    "Все хорошо согласуется с предельным распределением, следовательно сплошная линия на графике для 10 000 ошибка изображения, но не моделирования"
   ]
  },
  {
   "cell_type": "markdown",
   "metadata": {},
   "source": [
    "Определим базовый класс для алгоритмов, в котором будем хранить данные о нашей скрытой марковской цепи"
   ]
  },
  {
   "cell_type": "code",
   "execution_count": 11,
   "metadata": {},
   "outputs": [],
   "source": [
    "class baseAlgo():\n",
    "    def __init__(self, data):\n",
    "        print(\"BaseAlgo init\")\n",
    "        self.data = data\n",
    "        self.L = len(data)\n",
    "        \n",
    "        self.states = ['F','U'] # F for Fair state, U for Unfair state\n",
    "        self.transitionsProbability = {\n",
    "            'F': np.array([0.95,0.05]), # to F, to U\n",
    "            'U': np.array([0.1,0.9]) # to F, to U\n",
    "        }\n",
    "        \n",
    "        self.startProbability = {\n",
    "            'F': 2/3,\n",
    "            'U': 1/3\n",
    "        }\n",
    "        \n",
    "        self.diceValues = [1,2,3,4,5,6]\n",
    "        self.diceValueProbability = {\n",
    "            'F': [1/6 for i in range(6)],\n",
    "            'U': [.1,.1,.1,.1,.1,.5]\n",
    "        }"
   ]
  },
  {
   "cell_type": "markdown",
   "metadata": {},
   "source": [
    "## Алгоритм Витерби"
   ]
  },
  {
   "cell_type": "markdown",
   "metadata": {},
   "source": [
    "Реализуем алгоритм Витерби"
   ]
  },
  {
   "cell_type": "code",
   "execution_count": 12,
   "metadata": {},
   "outputs": [],
   "source": [
    "class algorithmViterbi(baseAlgo):\n",
    "    def __init__(self, data):\n",
    "        print('ViterbiAlgo init')\n",
    "        baseAlgo.__init__(self, data)\n",
    "        \n",
    "        self.v = []\n",
    "        self.ptr = []\n",
    "        \n",
    "        self.path = None\n",
    "        self.probability = None\n",
    "        \n",
    "        \n",
    "    def step(self,index):\n",
    "        self.v.append([])\n",
    "        self.ptr.append([])\n",
    "        for state in self.states:\n",
    "            observedProbability = self.diceValueProbability[state][self.data[index] - 1]\n",
    "            probability = observedProbability*np.max( self.v[index-1] * self.transitionsProbability[state])\n",
    "            ptr = 'F' if np.argmax(self.v[index-1] * self.transitionsProbability[state]) == 0 else 'U'\n",
    "            self.v[-1].append(probability)\n",
    "            self.ptr[-1].append(ptr)\n",
    "            \n",
    "    \n",
    "    def initialization(self):\n",
    "        self.v.append([])\n",
    "        self.ptr.append(['F','U'])\n",
    "        for state in self.states:\n",
    "            observedProbability = self.diceValueProbability[state][self.data[0] - 1]\n",
    "            probability = observedProbability*self.startProbability[state]\n",
    "            self.v[0].append(probability)\n",
    "        \n",
    "        for i in range(1, self.L): \n",
    "            self.step(i)\n",
    "        \n",
    "        self.probability = max(self.v[-1])\n",
    "        self.path = [ 'F' if np.argmax(self.v[-1]) == 0 else 'U' ]\n",
    "        \n",
    "        for i in range(self.L-1,0,-1):\n",
    "            self.path.append(self.ptr[i][0 if self.path[-1] == 'F' else 1])\n",
    "        \n",
    "        self.path = self.path[::-1]\n",
    "    \n",
    "    def returnProbability(self):\n",
    "        if self.probability != None: return self.probability\n",
    "    \n",
    "    def __call__(self):\n",
    "        if self.path == None: self.initialization()\n",
    "        return self.path"
   ]
  },
  {
   "cell_type": "code",
   "execution_count": 13,
   "metadata": {},
   "outputs": [
    {
     "name": "stdout",
     "output_type": "stream",
     "text": [
      "ViterbiAlgo init\n",
      "BaseAlgo init\n",
      "RESULT: 0.87\n",
      "Probability: 7.326364602808543e-230\n"
     ]
    },
    {
     "data": {
      "image/png": "[encoded data removed]",
      "text/plain": [
       "<matplotlib.figure.Figure at 0x285e8930eb8>"
      ]
     },
     "metadata": {},
     "output_type": "display_data"
    }
   ],
   "source": [
    "hackCasinoViterbi = algorithmViterbi(dataset300)\n",
    "result = hackCasinoViterbi()\n",
    "res = [0 if l =='F' else 1 for l in result]\n",
    "res.append(0)\n",
    "plt.plot(lab300)\n",
    "plt.plot(res)\n",
    "print('RESULT: {}'.format( sum([ l == r for l,r in zip(lab300,res)])/len(lab300)))\n",
    "print('Probability: {}'.format(hackCasinoViterbi.returnProbability()))"
   ]
  },
  {
   "cell_type": "code",
   "execution_count": 14,
   "metadata": {},
   "outputs": [
    {
     "name": "stdout",
     "output_type": "stream",
     "text": [
      "ViterbiAlgo init\n",
      "BaseAlgo init\n",
      "RESULT: 0.729\n",
      "Probability: 0.0\n"
     ]
    },
    {
     "data": {
      "image/png": "[encoded data removed]",
      "text/plain": [
       "<matplotlib.figure.Figure at 0x285f7685ef0>"
      ]
     },
     "metadata": {},
     "output_type": "display_data"
    }
   ],
   "source": [
    "hackCasinoViterbi = algorithmViterbi(dataset1000)\n",
    "result = hackCasinoViterbi()\n",
    "lab1000 = [0 if l =='F' else 1 for l in dataset1000Labels ]\n",
    "res = [0 if l =='F' else 1 for l in result]\n",
    "res.append(0)\n",
    "plt.plot(lab1000)\n",
    "plt.plot(res)\n",
    "print('RESULT: {}'.format( sum([ l == r for l,r in zip(lab1000,res)])/len(lab1000)))\n",
    "print('Probability: {}'.format(hackCasinoViterbi.returnProbability()))"
   ]
  },
  {
   "cell_type": "code",
   "execution_count": 15,
   "metadata": {},
   "outputs": [
    {
     "name": "stdout",
     "output_type": "stream",
     "text": [
      "ViterbiAlgo init\n",
      "BaseAlgo init\n",
      "RESULT: 0.6723\n",
      "Probability: 0.0\n"
     ]
    },
    {
     "data": {
      "image/png": "[encoded data removed]",
      "text/plain": [
       "<matplotlib.figure.Figure at 0x285f7685ef0>"
      ]
     },
     "metadata": {},
     "output_type": "display_data"
    }
   ],
   "source": [
    "hackCasinoViterbi = algorithmViterbi(dataset10000)\n",
    "result = hackCasinoViterbi()\n",
    "lab1000 = [0 if l =='F' else 1 for l in dataset10000Labels ]\n",
    "res = [0 if l =='F' else 1 for l in result]\n",
    "res.append(0)\n",
    "plt.plot(lab1000)\n",
    "plt.plot(res)\n",
    "print('RESULT: {}'.format( sum([ l == r for l,r in zip(lab10000,res)])/len(lab10000)))\n",
    "print('Probability: {}'.format(hackCasinoViterbi.returnProbability()))"
   ]
  },
  {
   "cell_type": "markdown",
   "metadata": {},
   "source": [
    "Из графиков икачетсва работы с 1000 и 10 000 экземпляров видно, что накапление машинной ошибки ведет к тому, что алгоритм уже не в состояние выдавать ненулевые значения. Чтобы избежать этого, перейдем в логарифмический масштаб"
   ]
  },
  {
   "cell_type": "code",
   "execution_count": 16,
   "metadata": {},
   "outputs": [],
   "source": [
    "class baseAlgoLog():\n",
    "    def __init__(self, data):\n",
    "        self.data = data\n",
    "        self.L = len(data)\n",
    "        \n",
    "        self.states = ['F','U'] # F for Fair state, U for Unfair state\n",
    "        self.transitionsProbability = {\n",
    "            'F': np.log([0.95,0.05]), # to F, to U\n",
    "            'U': np.log([0.1,0.9]) # to F, to U\n",
    "        }\n",
    "        \n",
    "        self.startProbability = {\n",
    "            'F': np.log(2/3),\n",
    "            'U': np.log(1/3)\n",
    "        }\n",
    "        \n",
    "        self.diceValues = [1,2,3,4,5,6]\n",
    "        self.diceValueProbability = {\n",
    "            'F': np.log([1/6 for i in range(6)]),\n",
    "            'U': np.log([.1,.1,.1,.1,.1,.5])\n",
    "        }"
   ]
  },
  {
   "cell_type": "code",
   "execution_count": 17,
   "metadata": {},
   "outputs": [],
   "source": [
    "class algorithmViterbiLog(baseAlgoLog):\n",
    "    def __init__(self, data):\n",
    "        baseAlgoLog.__init__(self, data)\n",
    "        \n",
    "        self.v = []\n",
    "        self.ptr = []\n",
    "        \n",
    "        self.path = None\n",
    "        self.probability = None\n",
    "        \n",
    "        \n",
    "    def step(self,index):\n",
    "        self.v.append([])\n",
    "        self.ptr.append([])\n",
    "        for state in self.states:\n",
    "            observedProbability = self.diceValueProbability[state][self.data[index] - 1]\n",
    "            probability = observedProbability + np.max( self.v[index-1] + self.transitionsProbability[state])\n",
    "            ptr = 'F' if np.argmax(self.v[index-1] + self.transitionsProbability[state]) == 0 else 'U'\n",
    "            self.v[-1].append(probability)\n",
    "            self.ptr[-1].append(ptr)\n",
    "            \n",
    "    \n",
    "    def initialization(self):\n",
    "        self.v.append([])\n",
    "        self.ptr.append(['F','U'])\n",
    "        for state in self.states:\n",
    "            observedProbability = self.diceValueProbability[state][self.data[0] - 1]\n",
    "            probability = observedProbability + self.startProbability[state]\n",
    "            self.v[0].append(probability)\n",
    "        \n",
    "        for i in range(1, self.L): \n",
    "            self.step(i)\n",
    "        \n",
    "        self.probability = np.e**max(self.v[-1])\n",
    "        self.path = [ 'F' if np.argmax(self.v[-1]) == 0 else 'U' ]\n",
    "        \n",
    "        for i in range(self.L-1,0,-1):\n",
    "            self.path.append(self.ptr[i][0 if self.path[-1] == 'F' else 1])\n",
    "        \n",
    "        self.path = self.path[::-1]\n",
    "    \n",
    "    def returnProbability(self):\n",
    "        if self.probability != None: return self.probability\n",
    "    \n",
    "    def __call__(self):\n",
    "        if self.path == None: self.initialization()\n",
    "        return self.path\n",
    "        "
   ]
  },
  {
   "cell_type": "code",
   "execution_count": 18,
   "metadata": {
    "scrolled": true
   },
   "outputs": [
    {
     "name": "stdout",
     "output_type": "stream",
     "text": [
      "RESULT: 0.87\n",
      "Probability: 7.326364602803177e-230\n"
     ]
    },
    {
     "data": {
      "image/png": "[encoded data removed]",
      "text/plain": [
       "<matplotlib.figure.Figure at 0x285f7c85860>"
      ]
     },
     "metadata": {},
     "output_type": "display_data"
    }
   ],
   "source": [
    "hackCasinoViterbiLog = algorithmViterbiLog(dataset300)\n",
    "result = hackCasinoViterbiLog()\n",
    "res = [0 if l =='F' else 1 for l in result]\n",
    "res.append(0)\n",
    "plt.plot(lab300)\n",
    "plt.plot(res)\n",
    "print('RESULT: {}'.format( sum([ l == r for l,r in zip(lab300,res)])/len(lab300)))\n",
    "print('Probability: {}'.format(hackCasinoViterbiLog.returnProbability()))"
   ]
  },
  {
   "cell_type": "code",
   "execution_count": 19,
   "metadata": {},
   "outputs": [
    {
     "name": "stdout",
     "output_type": "stream",
     "text": [
      "RESULT: 0.823\n",
      "Probability: 7.326364602803177e-230\n"
     ]
    },
    {
     "data": {
      "image/png": "[encoded data removed]",
      "text/plain": [
       "<matplotlib.figure.Figure at 0x285f7bffda0>"
      ]
     },
     "metadata": {},
     "output_type": "display_data"
    }
   ],
   "source": [
    "hackCasinoViterbi = algorithmViterbiLog(dataset1000)\n",
    "result = hackCasinoViterbi()\n",
    "lab1000 = [0 if l =='F' else 1 for l in dataset1000Labels ]\n",
    "res = [0 if l =='F' else 1 for l in result]\n",
    "res.append(0)\n",
    "plt.plot(lab1000)\n",
    "plt.plot(res)\n",
    "print('RESULT: {}'.format( sum([ l == r for l,r in zip(lab1000,res)])/len(lab1000)))\n",
    "print('Probability: {}'.format(hackCasinoViterbiLog.returnProbability()))"
   ]
  },
  {
   "cell_type": "code",
   "execution_count": 20,
   "metadata": {},
   "outputs": [
    {
     "name": "stdout",
     "output_type": "stream",
     "text": [
      "RESULT: 0.8039\n",
      "Probability: 7.326364602803177e-230\n"
     ]
    },
    {
     "data": {
      "image/png": "[encoded data removed]",
      "text/plain": [
       "<matplotlib.figure.Figure at 0x285f7ba6b38>"
      ]
     },
     "metadata": {},
     "output_type": "display_data"
    }
   ],
   "source": [
    "hackCasinoViterbi = algorithmViterbiLog(dataset10000)\n",
    "result = hackCasinoViterbi()\n",
    "lab1000 = [0 if l =='F' else 1 for l in dataset10000Labels ]\n",
    "res = [0 if l =='F' else 1 for l in result]\n",
    "res.append(0)\n",
    "plt.plot(lab10000)\n",
    "plt.plot(res)\n",
    "print('RESULT: {}'.format( sum([ l == r for l,r in zip(lab10000,res)])/len(lab10000)))\n",
    "print('Probability: {}'.format(hackCasinoViterbiLog.returnProbability()))"
   ]
  },
  {
   "cell_type": "markdown",
   "metadata": {},
   "source": [
    "Использование логарифмического масштаба улучшило работы алгоритма, что видно как гарфически так и численно, в сравнение с правильными лейблами для костей."
   ]
  },
  {
   "cell_type": "markdown",
   "metadata": {},
   "source": [
    "## Алгорит прямого и обратного хода, апостериорное дешифрование"
   ]
  },
  {
   "cell_type": "code",
   "execution_count": 21,
   "metadata": {},
   "outputs": [],
   "source": [
    "class forwardAlgorithm(baseAlgo):\n",
    "    def __init__(self, data):\n",
    "        #baseAlgo.__init__(self, data)\n",
    "        super().__init__(data)\n",
    "        print('Forward init')\n",
    "        \n",
    "        self.f = []\n",
    "        self.pathProbability = None\n",
    "    \n",
    "    def stepForward(self, index):\n",
    "        self.f.append([])\n",
    "        previuosState = self.f[-2]\n",
    "        for i,state in enumerate(self.states):\n",
    "            transitionProbability = np.array([val[i] for val in self.transitionsProbability.values()])\n",
    "            observedProbability = self.diceValueProbability[state][self.data[index] - 1]\n",
    "            \n",
    "            \"\"\"\n",
    "            observedProbability: вероятсность наблюдения при текущем состояние\n",
    "            transitionProbability: вероятность перехода с кубика на кубик\n",
    "            \"\"\"\n",
    "            probability = observedProbability * sum(previuosState * transitionProbability)\n",
    "            self.f[-1].append(probability)\n",
    "    \n",
    "    def __call__(self):\n",
    "        if self.pathProbability == None: self.initialization()\n",
    "        return self.pathProbability\n",
    "    \n",
    "    def initialization(self):\n",
    "        # Init\n",
    "        self.f.append([self.startProbability[state] for state in self.states] * \n",
    "                      np.array([self.diceValueProbability[state][self.data[0] - 1] for state in self.states]))\n",
    "        # Recursion\n",
    "        for i in range(1,self.L):\n",
    "            self.stepForward(i)\n",
    "        self.pathProbability = sum(self.f[-1])"
   ]
  },
  {
   "cell_type": "code",
   "execution_count": 22,
   "metadata": {},
   "outputs": [],
   "source": [
    "class backwardAlgorithm(baseAlgo):\n",
    "    def __init__(self, data):\n",
    "        #baseAlgo.__init__(self, data)\n",
    "        super().__init__(data)\n",
    "        print('Backward init')\n",
    "        \n",
    "        self.b = []\n",
    "        self.pathProbabilityB = None\n",
    "    \n",
    "    def stepBackward(self, index):\n",
    "        self.b.append([])\n",
    "        observedProbability =  np.array([val[self.data[index]-1] for val in self.diceValueProbability.values()])\n",
    "        nextState = self.b[-2]\n",
    "        for state in self.states: # first fair then unfair\n",
    "            transitionProbability = self.transitionsProbability[state]            \n",
    "            probability = sum(transitionProbability * observedProbability * nextState)\n",
    "            self.b[-1].append(probability)\n",
    "    \n",
    "    def __call__(self):\n",
    "        if self.pathProbabilityB == None: self.initialization()\n",
    "        return self.pathProbabilityB\n",
    "    \n",
    "    def initialization(self):\n",
    "        self.b.append([1 for state in self.states])\n",
    "        #Recursion\n",
    "        for i in range(self.L-1,0,-1):\n",
    "            self.stepBackward(i)\n",
    "            \n",
    "        # Finish # перевернуть b\n",
    "        self.b = self.b[::-1]\n",
    "        self.pathProbabilityB = sum(self.b[0])"
   ]
  },
  {
   "cell_type": "code",
   "execution_count": 23,
   "metadata": {},
   "outputs": [
    {
     "name": "stdout",
     "output_type": "stream",
     "text": [
      "BaseAlgo init\n",
      "Backward init\n",
      "BaseAlgo init\n",
      "Forward init\n",
      "FORWARD: 9.433403237665489e-221\n",
      "BACKWARD: 1.71354416464525e-219\n",
      "\n"
     ]
    }
   ],
   "source": [
    "backwardHack = backwardAlgorithm(dataset300)\n",
    "b=backwardHack()\n",
    "forwardHack = forwardAlgorithm(dataset300)\n",
    "f=forwardHack()\n",
    "\n",
    "print('FORWARD: {}\\nBACKWARD: {}\\n'.format(f,b))"
   ]
  },
  {
   "cell_type": "markdown",
   "metadata": {},
   "source": [
    "Проверим, что все считается верно: перемножим f и b в каждом столбце"
   ]
  },
  {
   "cell_type": "code",
   "execution_count": 24,
   "metadata": {
    "scrolled": true
   },
   "outputs": [
    {
     "name": "stdout",
     "output_type": "stream",
     "text": [
      "[9.433403237665595e-221,\n",
      " 9.433403237665595e-221,\n",
      " 9.433403237665595e-221,\n",
      " 9.433403237665595e-221,\n",
      " 9.433403237665593e-221,\n",
      " 9.433403237665591e-221,\n",
      " 9.433403237665591e-221,\n",
      " 9.433403237665591e-221,\n",
      " 9.433403237665593e-221,\n",
      " 9.433403237665591e-221,\n",
      " 9.433403237665591e-221,\n",
      " 9.433403237665591e-221,\n",
      " 9.433403237665591e-221,\n",
      " 9.433403237665591e-221,\n",
      " 9.433403237665591e-221,\n",
      " 9.43340323766559e-221,\n",
      " 9.43340323766559e-221,\n",
      " 9.43340323766559e-221,\n",
      " 9.43340323766559e-221,\n",
      " 9.433403237665591e-221,\n",
      " 9.433403237665587e-221,\n",
      " 9.433403237665587e-221,\n",
      " 9.433403237665587e-221,\n",
      " 9.433403237665587e-221,\n",
      " 9.433403237665587e-221,\n",
      " 9.433403237665587e-221,\n",
      " 9.433403237665585e-221,\n",
      " 9.433403237665585e-221,\n",
      " 9.433403237665583e-221,\n",
      " 9.433403237665583e-221,\n",
      " 9.433403237665583e-221,\n",
      " 9.433403237665583e-221,\n",
      " 9.433403237665581e-221,\n",
      " 9.433403237665583e-221,\n",
      " 9.433403237665583e-221,\n",
      " 9.433403237665581e-221,\n",
      " 9.433403237665581e-221,\n",
      " 9.433403237665581e-221,\n",
      " 9.433403237665583e-221,\n",
      " 9.43340323766558e-221,\n",
      " 9.433403237665577e-221,\n",
      " 9.43340323766558e-221,\n",
      " 9.433403237665577e-221,\n",
      " 9.433403237665575e-221,\n",
      " 9.433403237665575e-221,\n",
      " 9.433403237665575e-221,\n",
      " 9.433403237665575e-221,\n",
      " 9.433403237665575e-221,\n",
      " 9.433403237665575e-221,\n",
      " 9.433403237665575e-221,\n",
      " 9.433403237665575e-221,\n",
      " 9.433403237665573e-221,\n",
      " 9.433403237665573e-221,\n",
      " 9.433403237665573e-221,\n",
      " 9.433403237665573e-221,\n",
      " 9.433403237665573e-221,\n",
      " 9.433403237665573e-221,\n",
      " 9.433403237665572e-221,\n",
      " 9.433403237665573e-221,\n",
      " 9.433403237665573e-221,\n",
      " 9.433403237665573e-221,\n",
      " 9.433403237665572e-221,\n",
      " 9.433403237665572e-221,\n",
      " 9.43340323766557e-221,\n",
      " 9.433403237665572e-221,\n",
      " 9.43340323766557e-221,\n",
      " 9.43340323766557e-221,\n",
      " 9.433403237665572e-221,\n",
      " 9.433403237665572e-221,\n",
      " 9.433403237665572e-221,\n",
      " 9.433403237665572e-221,\n",
      " 9.433403237665572e-221,\n",
      " 9.433403237665572e-221,\n",
      " 9.43340323766557e-221,\n",
      " 9.43340323766557e-221,\n",
      " 9.433403237665568e-221,\n",
      " 9.433403237665568e-221,\n",
      " 9.433403237665568e-221,\n",
      " 9.433403237665568e-221,\n",
      " 9.433403237665566e-221,\n",
      " 9.433403237665564e-221,\n",
      " 9.433403237665564e-221,\n",
      " 9.43340323766556e-221,\n",
      " 9.433403237665562e-221,\n",
      " 9.43340323766556e-221,\n",
      " 9.433403237665558e-221,\n",
      " 9.433403237665556e-221,\n",
      " 9.433403237665556e-221,\n",
      " 9.433403237665556e-221,\n",
      " 9.433403237665556e-221,\n",
      " 9.433403237665558e-221,\n",
      " 9.433403237665556e-221,\n",
      " 9.43340323766556e-221,\n",
      " 9.433403237665558e-221,\n",
      " 9.433403237665558e-221,\n",
      " 9.433403237665558e-221,\n",
      " 9.433403237665556e-221,\n",
      " 9.433403237665558e-221,\n",
      " 9.433403237665558e-221,\n",
      " 9.433403237665554e-221,\n",
      " 9.433403237665556e-221,\n",
      " 9.433403237665556e-221,\n",
      " 9.433403237665556e-221,\n",
      " 9.433403237665556e-221,\n",
      " 9.433403237665556e-221,\n",
      " 9.433403237665556e-221,\n",
      " 9.433403237665556e-221,\n",
      " 9.433403237665556e-221,\n",
      " 9.433403237665556e-221,\n",
      " 9.433403237665556e-221,\n",
      " 9.433403237665556e-221,\n",
      " 9.433403237665556e-221,\n",
      " 9.433403237665556e-221,\n",
      " 9.433403237665554e-221,\n",
      " 9.433403237665554e-221,\n",
      " 9.433403237665554e-221,\n",
      " 9.433403237665552e-221,\n",
      " 9.433403237665556e-221,\n",
      " 9.433403237665556e-221,\n",
      " 9.433403237665556e-221,\n",
      " 9.433403237665554e-221,\n",
      " 9.433403237665554e-221,\n",
      " 9.433403237665552e-221,\n",
      " 9.433403237665552e-221,\n",
      " 9.433403237665552e-221,\n",
      " 9.433403237665552e-221,\n",
      " 9.433403237665552e-221,\n",
      " 9.43340323766555e-221,\n",
      " 9.43340323766555e-221,\n",
      " 9.43340323766555e-221,\n",
      " 9.433403237665548e-221,\n",
      " 9.433403237665548e-221,\n",
      " 9.433403237665548e-221,\n",
      " 9.433403237665546e-221,\n",
      " 9.433403237665548e-221,\n",
      " 9.433403237665548e-221,\n",
      " 9.43340323766555e-221,\n",
      " 9.43340323766555e-221,\n",
      " 9.433403237665546e-221,\n",
      " 9.433403237665548e-221,\n",
      " 9.433403237665548e-221,\n",
      " 9.433403237665548e-221,\n",
      " 9.433403237665548e-221,\n",
      " 9.433403237665548e-221,\n",
      " 9.433403237665546e-221,\n",
      " 9.433403237665548e-221,\n",
      " 9.433403237665548e-221,\n",
      " 9.433403237665548e-221,\n",
      " 9.433403237665548e-221,\n",
      " 9.433403237665548e-221,\n",
      " 9.433403237665548e-221,\n",
      " 9.433403237665548e-221,\n",
      " 9.433403237665548e-221,\n",
      " 9.433403237665548e-221,\n",
      " 9.433403237665548e-221,\n",
      " 9.433403237665546e-221,\n",
      " 9.433403237665546e-221,\n",
      " 9.433403237665546e-221,\n",
      " 9.433403237665546e-221,\n",
      " 9.433403237665546e-221,\n",
      " 9.433403237665544e-221,\n",
      " 9.433403237665544e-221,\n",
      " 9.433403237665542e-221,\n",
      " 9.433403237665542e-221,\n",
      " 9.43340323766554e-221,\n",
      " 9.43340323766554e-221,\n",
      " 9.43340323766554e-221,\n",
      " 9.433403237665538e-221,\n",
      " 9.433403237665538e-221,\n",
      " 9.433403237665538e-221,\n",
      " 9.433403237665536e-221,\n",
      " 9.433403237665536e-221,\n",
      " 9.433403237665534e-221,\n",
      " 9.433403237665534e-221,\n",
      " 9.433403237665532e-221,\n",
      " 9.433403237665532e-221,\n",
      " 9.433403237665532e-221,\n",
      " 9.433403237665532e-221,\n",
      " 9.433403237665532e-221,\n",
      " 9.43340323766553e-221,\n",
      " 9.433403237665532e-221,\n",
      " 9.43340323766553e-221,\n",
      " 9.43340323766553e-221,\n",
      " 9.43340323766553e-221,\n",
      " 9.433403237665532e-221,\n",
      " 9.43340323766553e-221,\n",
      " 9.433403237665532e-221,\n",
      " 9.433403237665528e-221,\n",
      " 9.433403237665528e-221,\n",
      " 9.433403237665528e-221,\n",
      " 9.433403237665528e-221,\n",
      " 9.433403237665528e-221,\n",
      " 9.433403237665528e-221,\n",
      " 9.433403237665526e-221,\n",
      " 9.433403237665526e-221,\n",
      " 9.433403237665524e-221,\n",
      " 9.433403237665524e-221,\n",
      " 9.433403237665524e-221,\n",
      " 9.433403237665524e-221,\n",
      " 9.433403237665524e-221,\n",
      " 9.433403237665524e-221,\n",
      " 9.433403237665524e-221,\n",
      " 9.433403237665524e-221,\n",
      " 9.433403237665522e-221,\n",
      " 9.43340323766552e-221,\n",
      " 9.433403237665524e-221,\n",
      " 9.43340323766552e-221,\n",
      " 9.43340323766552e-221,\n",
      " 9.433403237665522e-221,\n",
      " 9.433403237665522e-221,\n",
      " 9.43340323766552e-221,\n",
      " 9.43340323766552e-221,\n",
      " 9.433403237665522e-221,\n",
      " 9.43340323766552e-221,\n",
      " 9.43340323766552e-221,\n",
      " 9.43340323766552e-221,\n",
      " 9.43340323766552e-221,\n",
      " 9.43340323766552e-221,\n",
      " 9.43340323766552e-221,\n",
      " 9.43340323766552e-221,\n",
      " 9.43340323766552e-221,\n",
      " 9.433403237665518e-221,\n",
      " 9.433403237665518e-221,\n",
      " 9.433403237665518e-221,\n",
      " 9.433403237665518e-221,\n",
      " 9.433403237665516e-221,\n",
      " 9.433403237665516e-221,\n",
      " 9.433403237665518e-221,\n",
      " 9.433403237665516e-221,\n",
      " 9.433403237665515e-221,\n",
      " 9.433403237665515e-221,\n",
      " 9.433403237665513e-221,\n",
      " 9.433403237665513e-221,\n",
      " 9.433403237665513e-221,\n",
      " 9.433403237665513e-221,\n",
      " 9.433403237665513e-221,\n",
      " 9.433403237665513e-221,\n",
      " 9.433403237665513e-221,\n",
      " 9.433403237665513e-221,\n",
      " 9.43340323766551e-221,\n",
      " 9.43340323766551e-221,\n",
      " 9.43340323766551e-221,\n",
      " 9.433403237665509e-221,\n",
      " 9.433403237665509e-221,\n",
      " 9.433403237665509e-221,\n",
      " 9.433403237665509e-221,\n",
      " 9.433403237665509e-221,\n",
      " 9.433403237665509e-221,\n",
      " 9.433403237665507e-221,\n",
      " 9.433403237665507e-221,\n",
      " 9.433403237665507e-221,\n",
      " 9.433403237665509e-221,\n",
      " 9.433403237665507e-221,\n",
      " 9.433403237665505e-221,\n",
      " 9.433403237665505e-221,\n",
      " 9.433403237665505e-221,\n",
      " 9.433403237665505e-221,\n",
      " 9.433403237665505e-221,\n",
      " 9.433403237665505e-221,\n",
      " 9.433403237665505e-221,\n",
      " 9.433403237665505e-221,\n",
      " 9.433403237665505e-221,\n",
      " 9.433403237665505e-221,\n",
      " 9.433403237665505e-221,\n",
      " 9.433403237665503e-221,\n",
      " 9.433403237665503e-221,\n",
      " 9.433403237665505e-221,\n",
      " 9.433403237665503e-221,\n",
      " 9.433403237665503e-221,\n",
      " 9.433403237665503e-221,\n",
      " 9.433403237665503e-221,\n",
      " 9.4334032376655e-221,\n",
      " 9.4334032376655e-221,\n",
      " 9.4334032376655e-221,\n",
      " 9.433403237665499e-221,\n",
      " 9.433403237665499e-221,\n",
      " 9.433403237665497e-221,\n",
      " 9.433403237665497e-221,\n",
      " 9.433403237665497e-221,\n",
      " 9.433403237665495e-221,\n",
      " 9.433403237665493e-221,\n",
      " 9.433403237665493e-221,\n",
      " 9.433403237665493e-221,\n",
      " 9.43340323766549e-221,\n",
      " 9.433403237665493e-221,\n",
      " 9.43340323766549e-221,\n",
      " 9.43340323766549e-221,\n",
      " 9.43340323766549e-221,\n",
      " 9.43340323766549e-221,\n",
      " 9.43340323766549e-221,\n",
      " 9.43340323766549e-221,\n",
      " 9.43340323766549e-221,\n",
      " 9.433403237665489e-221,\n",
      " 9.433403237665487e-221,\n",
      " 9.433403237665487e-221,\n",
      " 9.433403237665487e-221,\n",
      " 9.433403237665485e-221,\n",
      " 9.433403237665487e-221,\n",
      " 9.433403237665487e-221,\n",
      " 9.433403237665489e-221]\n"
     ]
    }
   ],
   "source": [
    "pprint.pprint([sum(f*np.array(b)) for f, b in zip(forwardHack.f, backwardHack.b)])"
   ]
  },
  {
   "cell_type": "markdown",
   "metadata": {},
   "source": [
    "Так как на каждом шаге у нас выдается одна и таже величина, то прямой и обратный ход работfют корректно"
   ]
  },
  {
   "cell_type": "code",
   "execution_count": 25,
   "metadata": {},
   "outputs": [],
   "source": [
    "class PosteriorDecoding(forwardAlgorithm, backwardAlgorithm):\n",
    "    def __init__(self, data):\n",
    "        #baseAlgo.__init__(self, data)\n",
    "        #forwardAlgorithm.__init__(self, data)\n",
    "        #backwardAlgorithm.__init__(self, data)\n",
    "        super().__init__(data)\n",
    "        # For decoding\n",
    "        self.conditionalProbability = None\n",
    "            \n",
    "    def __call__(self):\n",
    "        if self.conditionalProbability == None: self.initialization()\n",
    "        return self.conditionalProbability\n",
    "    \n",
    "    def initialization(self):\n",
    "        ### Forward part ###\n",
    "        self.pathProbability = 0.0\n",
    "        # Init\n",
    "        self.f.append([self.startProbability[state] for state in self.states] * \n",
    "                      np.array([self.diceValueProbability[state][self.data[0] - 1] for state in self.states]))\n",
    "        # Recursion\n",
    "        for i in range(1,self.L):\n",
    "            self.stepForward(i)\n",
    "        self.pathProbability = sum(self.f[-1])\n",
    "        ### ____________ ###\n",
    "        \n",
    "        ### Backward and decoding ###\n",
    "        self.conditionalProbability = []\n",
    "        \n",
    "        self.b.append([1 for state in self.states])\n",
    "        for i in range(self.L-1,0,-1):\n",
    "            self.stepBackward(i)\n",
    "            \n",
    "        self.b = self.b[::-1]\n",
    "        for i in range(self.L):\n",
    "            conProb = self.f[i][0]*self.b[i][0] / self.pathProbability\n",
    "            self.conditionalProbability.append(conProb)"
   ]
  },
  {
   "cell_type": "code",
   "execution_count": 26,
   "metadata": {},
   "outputs": [
    {
     "name": "stdout",
     "output_type": "stream",
     "text": [
      "BaseAlgo init\n",
      "Backward init\n",
      "Forward init\n"
     ]
    },
    {
     "data": {
      "text/plain": [
       "[<matplotlib.lines.Line2D at 0x285fb2c5940>]"
      ]
     },
     "execution_count": 26,
     "metadata": {},
     "output_type": "execute_result"
    },
    {
     "data": {
      "image/png": "[encoded data removed]",
      "text/plain": [
       "<matplotlib.figure.Figure at 0x285fb23b588>"
      ]
     },
     "metadata": {},
     "output_type": "display_data"
    }
   ],
   "source": [
    "PosteriorHack = PosteriorDecoding(dataset300)\n",
    "conditionsProbs = PosteriorHack()\n",
    "fig,ax = plt.subplots()\n",
    "ax.grid(True, which='both')\n",
    "ax.axis('on')\n",
    "ax.plot(conditionsProbs)\n",
    "labelColor = ['b' if l == 'F' else 'r' for l in dataset300Labels]\n",
    "ax.scatter(range(len(conditionsProbs)),[0 for i in conditionsProbs],color=labelColor)\n",
    "ax.plot([.50 for i in conditionsProbs])\n",
    "ax.plot([1 for i in conditionsProbs])"
   ]
  },
  {
   "cell_type": "code",
   "execution_count": 27,
   "metadata": {},
   "outputs": [
    {
     "name": "stdout",
     "output_type": "stream",
     "text": [
      "BaseAlgo init\n",
      "Backward init\n",
      "Forward init\n"
     ]
    },
    {
     "name": "stderr",
     "output_type": "stream",
     "text": [
      "C:\\ProgramData\\Anaconda3\\lib\\site-packages\\ipykernel_launcher.py:35: RuntimeWarning: invalid value encountered in double_scalars\n"
     ]
    },
    {
     "data": {
      "text/plain": [
       "[<matplotlib.lines.Line2D at 0x285fb36d518>]"
      ]
     },
     "execution_count": 27,
     "metadata": {},
     "output_type": "execute_result"
    },
    {
     "data": {
      "image/png": "[encoded data removed]",
      "text/plain": [
       "<matplotlib.figure.Figure at 0x285fb29d748>"
      ]
     },
     "metadata": {},
     "output_type": "display_data"
    }
   ],
   "source": [
    "PosteriorHack = PosteriorDecoding(dataset1000)\n",
    "conditionsProbs = PosteriorHack()\n",
    "fig,ax = plt.subplots()\n",
    "ax.grid(True, which='both')\n",
    "ax.axis('on')\n",
    "ax.plot(conditionsProbs)\n",
    "labelColor = ['b' if l == 'F' else 'r' for l in dataset1000Labels]\n",
    "ax.scatter(range(len(conditionsProbs)),[0 for i in conditionsProbs],color=labelColor)\n",
    "ax.plot([.50 for i in conditionsProbs])\n",
    "ax.plot([1 for i in conditionsProbs])"
   ]
  },
  {
   "cell_type": "code",
   "execution_count": 28,
   "metadata": {},
   "outputs": [
    {
     "name": "stdout",
     "output_type": "stream",
     "text": [
      "BaseAlgo init\n",
      "Backward init\n",
      "Forward init\n"
     ]
    },
    {
     "name": "stderr",
     "output_type": "stream",
     "text": [
      "C:\\ProgramData\\Anaconda3\\lib\\site-packages\\ipykernel_launcher.py:35: RuntimeWarning: invalid value encountered in double_scalars\n"
     ]
    },
    {
     "data": {
      "text/plain": [
       "[<matplotlib.lines.Line2D at 0x285f7cec3c8>]"
      ]
     },
     "execution_count": 28,
     "metadata": {},
     "output_type": "execute_result"
    },
    {
     "data": {
      "image/png": "[encoded data removed]",
      "text/plain": [
       "<matplotlib.figure.Figure at 0x285fb29f080>"
      ]
     },
     "metadata": {},
     "output_type": "display_data"
    }
   ],
   "source": [
    "PosteriorHack = PosteriorDecoding(dataset10000)\n",
    "conditionsProbs = PosteriorHack()\n",
    "fig,ax = plt.subplots()\n",
    "ax.grid(True, which='both')\n",
    "ax.axis('on')\n",
    "ax.plot(conditionsProbs)\n",
    "labelColor = ['b' if l == 'F' else 'r' for l in dataset10000Labels]\n",
    "ax.scatter(range(len(conditionsProbs)),[0 for i in conditionsProbs],color=labelColor)\n",
    "ax.plot([.50 for i in conditionsProbs])\n",
    "ax.plot([1 for i in conditionsProbs])"
   ]
  },
  {
   "cell_type": "markdown",
   "metadata": {},
   "source": [
    "Из-за потери машиной точности, графики на последовательностях 1000 и 10 000 построить не получилось. Чтобы исправить эту проблему применим масштабирование для алгоритма декодирования"
   ]
  },
  {
   "cell_type": "code",
   "execution_count": 29,
   "metadata": {},
   "outputs": [],
   "source": [
    "class PosteriorDecodingScaled(PosteriorDecoding):\n",
    "    def __init__(self, data):\n",
    "        PosteriorDecoding.__init__(self,data)\n",
    "        # For scaling\n",
    "        self.scaledConstF = []\n",
    "        self.scaledConstB = []\n",
    "        \n",
    "    def stepForward(self, index):\n",
    "        super().stepForward(index)\n",
    "        \n",
    "        self.scaledConstF.append(max(self.f[-1]))\n",
    "        self.f[-1] = self.f[-1]/self.scaledConstF[-1]\n",
    "        \n",
    "    def stepBackward(self, index):\n",
    "        super().stepBackward(index)\n",
    "        \n",
    "        self.scaledConstB.append(max(self.b[-1]))\n",
    "        self.b[-1] = self.b[-1]/self.scaledConstB[-1]        \n",
    "        \n",
    "    def initialization(self): # Тоже следует красиво переписать\n",
    "        ### Forward part ###\n",
    "        # Init\n",
    "        self.f.append([self.startProbability[state] for state in self.states] * \n",
    "                      np.array([self.diceValueProbability[state][self.data[0] - 1] for state in self.states]))\n",
    "        \n",
    "        self.scaledConstF.append(max(self.f[-1]))\n",
    "        self.f[-1] = self.f[-1]/self.scaledConstF[-1]\n",
    "        # Recursion\n",
    "        for i in range(1,self.L):\n",
    "            self.stepForward(i)\n",
    "        self.pathProbability = sum(self.f[-1])\n",
    "        ### ____________ ###\n",
    "        \n",
    "        ### Backward and decoding ###\n",
    "        self.conditionalProbability = []\n",
    "        \n",
    "        self.b.append([1 for state in self.states])\n",
    "        self.scaledConstB.append(1)\n",
    "        for i in range(self.L-1,0,-1):\n",
    "            self.stepBackward(i)\n",
    "            \n",
    "        self.b = self.b[::-1]\n",
    "        self.scaledConstB = self.scaledConstB[::-1]\n",
    "        for i in range(self.L):\n",
    "            # трюк чтобы не терять точность\n",
    "            ###\n",
    "            coeff = 1\n",
    "            for backCoeff, forwardCoeff in zip(self.scaledConstB[i:],self.scaledConstF[i+1:]):\n",
    "                coeff *= backCoeff/forwardCoeff\n",
    "                \n",
    "            conProb = self.f[i][0]*self.b[i][0] / self.pathProbability * coeff\n",
    "            self.conditionalProbability.append(conProb)"
   ]
  },
  {
   "cell_type": "code",
   "execution_count": 30,
   "metadata": {},
   "outputs": [
    {
     "name": "stdout",
     "output_type": "stream",
     "text": [
      "BaseAlgo init\n",
      "Backward init\n",
      "Forward init\n"
     ]
    },
    {
     "data": {
      "text/plain": [
       "[<matplotlib.lines.Line2D at 0x285f7c7a198>]"
      ]
     },
     "execution_count": 30,
     "metadata": {},
     "output_type": "execute_result"
    },
    {
     "data": {
      "image/png": "[encoded data removed]",
      "text/plain": [
       "<matplotlib.figure.Figure at 0x285faf4e358>"
      ]
     },
     "metadata": {},
     "output_type": "display_data"
    }
   ],
   "source": [
    "PosteriorHack = PosteriorDecodingScaled(dataset300)\n",
    "conditionsProbs = PosteriorHack()\n",
    "fig,ax = plt.subplots()\n",
    "ax.grid(True, which='both')\n",
    "ax.axis('on')\n",
    "ax.plot(conditionsProbs)\n",
    "labelColor = ['b' if l == 'F' else 'r' for l in dataset300Labels]\n",
    "ax.scatter(range(len(conditionsProbs)),[0 for i in conditionsProbs],color=labelColor)\n",
    "\n",
    "ax.plot([.5 for i in conditionsProbs])\n",
    "ax.plot([1 for i in conditionsProbs])"
   ]
  },
  {
   "cell_type": "code",
   "execution_count": 31,
   "metadata": {
    "scrolled": true
   },
   "outputs": [
    {
     "name": "stdout",
     "output_type": "stream",
     "text": [
      "BaseAlgo init\n",
      "Backward init\n",
      "Forward init\n"
     ]
    },
    {
     "data": {
      "text/plain": [
       "[<matplotlib.lines.Line2D at 0x285fafdd7f0>]"
      ]
     },
     "execution_count": 31,
     "metadata": {},
     "output_type": "execute_result"
    },
    {
     "data": {
      "image/png": "[encoded data removed]",
      "text/plain": [
       "<matplotlib.figure.Figure at 0x285f7d3a160>"
      ]
     },
     "metadata": {},
     "output_type": "display_data"
    }
   ],
   "source": [
    "PosteriorHack = PosteriorDecodingScaled(dataset1000)\n",
    "conditionsProbs = PosteriorHack()\n",
    "fig,ax = plt.subplots()\n",
    "ax.grid(True, which='both')\n",
    "ax.axis('on')\n",
    "ax.plot(conditionsProbs)\n",
    "labelColor = ['b' if l == 'F' else 'r' for l in dataset1000Labels]\n",
    "ax.scatter(range(len(conditionsProbs)),[0 for i in conditionsProbs],color=labelColor)\n",
    "ax.plot([.50 for i in conditionsProbs])\n",
    "ax.plot([1 for i in conditionsProbs])"
   ]
  },
  {
   "cell_type": "code",
   "execution_count": 32,
   "metadata": {},
   "outputs": [
    {
     "name": "stdout",
     "output_type": "stream",
     "text": [
      "BaseAlgo init\n",
      "Backward init\n",
      "Forward init\n"
     ]
    },
    {
     "data": {
      "text/plain": [
       "[<matplotlib.lines.Line2D at 0x285fb4faa58>]"
      ]
     },
     "execution_count": 32,
     "metadata": {},
     "output_type": "execute_result"
    },
    {
     "data": {
      "image/png": "[encoded data removed]",
      "text/plain": [
       "<matplotlib.figure.Figure at 0x285fb201278>"
      ]
     },
     "metadata": {},
     "output_type": "display_data"
    }
   ],
   "source": [
    "PosteriorHack = PosteriorDecodingScaled(dataset10000)\n",
    "conditionsProbs = PosteriorHack()\n",
    "fig,ax = plt.subplots()\n",
    "ax.grid(True, which='both')\n",
    "ax.axis('on')\n",
    "ax.plot(conditionsProbs)\n",
    "labelColor = ['b' if l == 'F' else 'r' for l in dataset10000Labels]\n",
    "ax.scatter(range(len(conditionsProbs)),[0 for i in conditionsProbs],color=labelColor)\n",
    "ax.plot([.50 for i in conditionsProbs])\n",
    "ax.plot([1 for i in conditionsProbs])"
   ]
  },
  {
   "cell_type": "markdown",
   "metadata": {},
   "source": [
    "## Алгоритм Баума-Велша"
   ]
  },
  {
   "cell_type": "markdown",
   "metadata": {},
   "source": [
    "Реализуем класс с параметрами, которые не совпадают с параметрами используемой марковской цепи."
   ]
  },
  {
   "cell_type": "code",
   "execution_count": 34,
   "metadata": {},
   "outputs": [],
   "source": [
    "class parametrs:\n",
    "    def __init__(self, data):\n",
    "        \n",
    "        self.isFitted = False\n",
    "        \n",
    "        self.data = data\n",
    "        self.L = len(data)\n",
    "        \n",
    "        self.states = ['F','U'] # F for Fair state, U for Unfair state\n",
    "        self.transitionsProbability = {\n",
    "            'F': np.array([0.95,0.05]), # to F, to U\n",
    "            'U': np.array([0.1,0.9]) # to F, to U\n",
    "        }\n",
    "        \n",
    "        self.startProbability = {\n",
    "            'F': 2/3,\n",
    "            'U': 1/3\n",
    "        }\n",
    "        \n",
    "        self.diceValues = [1,2,3,4,5,6]\n",
    "        self.diceValueProbability = {\n",
    "            'F': [1/6,1/6,1/6,1/6,1/6,1/6],\n",
    "            'U': [1/10,1/10,1/10,1/10,1/10,1/2]\n",
    "        }"
   ]
  },
  {
   "cell_type": "code",
   "execution_count": 50,
   "metadata": {},
   "outputs": [],
   "source": [
    "class parametrs:\n",
    "    def __init__(self, data):\n",
    "        \n",
    "        self.isFitted = False\n",
    "        \n",
    "        self.data = data\n",
    "        self.L = len(data)\n",
    "        \n",
    "        self.states = ['F','U'] # F for Fair state, U for Unfair state\n",
    "        self.transitionsProbability = {\n",
    "            'F': np.array([0.8,0.2]), # to F, to U\n",
    "            'U': np.array([0.1,0.9]) # to F, to U\n",
    "        }\n",
    "        \n",
    "        self.startProbability = {\n",
    "            'F': 2/3,\n",
    "            'U': 1/3\n",
    "        }\n",
    "        \n",
    "        self.diceValues = [1,2,3,4,5,6]\n",
    "        self.diceValueProbability = {\n",
    "            'F': [2/12,2/12,2/12,3/12,2/12,1/12],\n",
    "            'U': [2/20,4/20,1/20,3/20,2/20,8/20]\n",
    "        }"
   ]
  },
  {
   "cell_type": "code",
   "execution_count": 59,
   "metadata": {},
   "outputs": [
    {
     "name": "stdout",
     "output_type": "stream",
     "text": [
      "LOG: -517.8419711362919\n",
      "LOG: -534.2693481762228\n",
      "LOG: -536.2865500547379\n",
      "LOG: -536.9966471983307\n",
      "LOG: -539.0151245500069\n",
      "LOG: -541.2584581842523\n",
      "LOG: -544.2637412502152\n",
      "LOG: -545.1245792168296\n",
      "LOG: -542.2456534270603\n",
      "LOG: -539.0361603129195\n",
      "LOG: -537.3583182521209\n",
      "LOG: -536.6945032328451\n",
      "LOG: -536.4632697294463\n",
      "LOG: -536.3861878569168\n",
      "Log doesnot change: stop in 13 iteration\n",
      "'FITTED'\n",
      "'Parametrs'\n",
      "(\"TransitionsProbability: {'F': array([0.59177165, 0.40822835]), 'U': \"\n",
      " 'array([0.46981661, 0.53018339])}')\n",
      "(\"diceValueProbability: {'F': [0.3129839960550045, 0.3129670694098222, \"\n",
      " '0.29453775450504427, 0.0009963520608497866, 1.9273268605317846e-07, '\n",
      " \"0.07851463523659329], 'U': [9.265300278819077e-10, 1.928167424810493e-05, \"\n",
      " '0.02101168551249892, 0.355377867608472, 0.3565125695229003, '\n",
      " '0.26707859475535056]}')\n"
     ]
    }
   ],
   "source": [
    "class BaumWelchTrainig(parametrs, PosteriorDecoding):\n",
    "    def __init__(self, data):\n",
    "        \n",
    "        super().__init__(data)\n",
    "        \n",
    "        self.epselon = 0.1\n",
    "        self.iterationNumber = 100\n",
    "            \n",
    "    def __call__(self):\n",
    "        if self.isFitted == False: self.initializationBaumWelch()\n",
    "        pprint.pprint('FITTED')\n",
    "        pprint.pprint('Parametrs')\n",
    "        pprint.pprint('TransitionsProbability: {}'.format(self.transitionsProbability))\n",
    "        pprint.pprint('diceValueProbability: {}'.format(self.diceValueProbability))\n",
    "    \n",
    "    def initializationBaumWelch(self):\n",
    "        prLog = 1000000000\n",
    "        for step in range(self.iterationNumber):\n",
    "            self.f = []\n",
    "            self.b = []\n",
    "            self.pathProbability = .0\n",
    "            self.initialization()\n",
    "            # Change paramets\n",
    "            self.changeParametrs()\n",
    "            \n",
    "            currentLog = self.logLikelihood()\n",
    "            print(\"LOG: {}\".format(currentLog))\n",
    "            \n",
    "            if abs(currentLog - prLog) < self.epselon:\n",
    "                print('Log doesnot change: stop in {} iteration'.format(step))\n",
    "                break\n",
    "            prLog = currentLog\n",
    "        else:\n",
    "            print('Stop: max iterations')\n",
    "    \n",
    "    def logLikelihood(self):\n",
    "        return np.log(self.pathProbability)\n",
    "    \n",
    "    def changeParametrs(self):\n",
    "        # Add A\n",
    "        A = {}\n",
    "        for fromI, fromState in enumerate(self.states):\n",
    "            A[fromState] = {}\n",
    "            for newI, newState in enumerate(self.states):\n",
    "                sum_step = [\n",
    "                    self.f[i][fromI] * self.b[i+1][newI] * \n",
    "                    self.diceValueProbability[newState][self.data[i+1] - 1] \n",
    "                    for i in range(self.L-1)\n",
    "                ]\n",
    "                probability = sum(sum_step) * self.transitionsProbability[fromState][newI]#/self.pathProbability\n",
    "                A[fromState][newState] = probability\n",
    "        # Add B\n",
    "        B = {}\n",
    "        for index, state in enumerate(self.states):\n",
    "            B[state] = [.0,.0,.0,.0,.0,.0]\n",
    "            for i,value in enumerate(self.data):\n",
    "                B[state][value - 1] =+ self.f[i][index] * self.b[i][index]\n",
    "        \n",
    "        #pprint.pprint(A)\n",
    "        #pprint.pprint(B)\n",
    "        # change\n",
    "        fair = A['F']['F'] + A['F']['U']\n",
    "        unfair = A['U']['F'] + A['U']['U']\n",
    "        \n",
    "        self.transitionsProbability = {\n",
    "            'F': np.array([A['F']['F'] /fair  , A['F']['U']/fair]), # to F, to U\n",
    "            'U': np.array([A['U']['F'] /unfair, A['U']['U']/unfair]) # to F, to U\n",
    "        }\n",
    "        \n",
    "        fair = sum(B['F'])\n",
    "        unfair = sum(B['U'])\n",
    "        \n",
    "        self.diceValueProbability = {\n",
    "            'F': [value/fair for value in B['F']],\n",
    "            'U': [value/unfair for value in B['U']]\n",
    "        }\n",
    "                \n",
    "        #pprint.pprint(self.transitionsProbability)\n",
    "        #pprint.pprint(self.diceValueProbability)\n",
    "        \n",
    "# Без фиксации \n",
    "trainig = BaumWelchTrainig(dataset300)\n",
    "trainig()"
   ]
  },
  {
   "cell_type": "code",
   "execution_count": 60,
   "metadata": {},
   "outputs": [
    {
     "name": "stdout",
     "output_type": "stream",
     "text": [
      "LOG: -517.8419711362919\n",
      "LOG: -534.415260413031\n",
      "LOG: -536.3871444434196\n",
      "LOG: -537.7465037261874\n",
      "LOG: -540.1220363199653\n",
      "LOG: -544.3121752894928\n",
      "LOG: -549.9365315130508\n",
      "LOG: -555.9263246859064\n",
      "LOG: -562.3010638923363\n",
      "LOG: -568.8509750238082\n",
      "LOG: -572.4457775202576\n",
      "LOG: -573.1216403009314\n",
      "LOG: -573.2092009764121\n",
      "Log doesnot change: stop in 12 iteration\n",
      "'FITTED'\n",
      "'Parametrs'\n",
      "\"TransitionsProbability: {'F': array([0.8, 0.2]), 'U': array([0.1, 0.9])}\"\n",
      "(\"diceValueProbability: {'F': [0.9998560681677676, 3.873142264591978e-05, \"\n",
      " '1.1272755176695537e-05, 9.34599672254389e-05, 8.026707683215597e-12, '\n",
      " \"4.6767915753688916e-07], 'U': [1.6403272798347313e-09, 0.19999801031711645, \"\n",
      " '0.2000035029992424, 0.1999870627174586, 0.2000057579381191, '\n",
      " '0.20000566438773615]}')\n"
     ]
    }
   ],
   "source": [
    "class BaumWelchTrainig(parametrs, PosteriorDecoding):\n",
    "    def __init__(self, data):\n",
    "        \n",
    "        super().__init__(data)\n",
    "        \n",
    "        self.epselon = 0.1\n",
    "        self.iterationNumber = 100\n",
    "            \n",
    "    def __call__(self):\n",
    "        if self.isFitted == False: self.initializationBaumWelch()\n",
    "        pprint.pprint('FITTED')\n",
    "        pprint.pprint('Parametrs')\n",
    "        pprint.pprint('TransitionsProbability: {}'.format(self.transitionsProbability))\n",
    "        pprint.pprint('diceValueProbability: {}'.format(self.diceValueProbability))\n",
    "    \n",
    "    def initializationBaumWelch(self):\n",
    "        prLog = 1000000000\n",
    "        for step in range(self.iterationNumber):\n",
    "            self.f = []\n",
    "            self.b = []\n",
    "            self.pathProbability = .0\n",
    "            self.initialization()\n",
    "            # Change paramets\n",
    "            self.changeParametrs()\n",
    "            \n",
    "            currentLog = self.logLikelihood()\n",
    "            print(\"LOG: {}\".format(currentLog))\n",
    "            \n",
    "            if abs(currentLog - prLog) < self.epselon:\n",
    "                print('Log doesnot change: stop in {} iteration'.format(step))\n",
    "                break\n",
    "            prLog = currentLog\n",
    "        else:\n",
    "            print('Stop: max iterations')\n",
    "    \n",
    "    def logLikelihood(self):\n",
    "        return np.log(self.pathProbability)\n",
    "    \n",
    "    def changeParametrs(self):\n",
    "        # Add A\n",
    "        A = {}\n",
    "        for fromI, fromState in enumerate(self.states):\n",
    "            A[fromState] = {}\n",
    "            for newI, newState in enumerate(self.states):\n",
    "                sum_step = [\n",
    "                    self.f[i][fromI] * self.b[i+1][newI] * \n",
    "                    self.diceValueProbability[newState][self.data[i+1] - 1] \n",
    "                    for i in range(self.L-1)\n",
    "                ]\n",
    "                probability = sum(sum_step) * self.transitionsProbability[fromState][newI]#/self.pathProbability\n",
    "                A[fromState][newState] = probability\n",
    "        # Add B\n",
    "        B = {}\n",
    "        for index, state in enumerate(self.states):\n",
    "            B[state] = [.0,.0,.0,.0,.0,.0]\n",
    "            for i,value in enumerate(self.data):\n",
    "                B[state][value - 1] =+ self.f[i][index] * self.b[i][index]\n",
    "        \n",
    "        #pprint.pprint(A)\n",
    "        #pprint.pprint(B)\n",
    "        # change\n",
    "        fair = A['F']['F'] + A['F']['U']\n",
    "        unfair = A['U']['F'] + A['U']['U']\n",
    "        \n",
    "        #self.transitionsProbability = {\n",
    "        #    'F': np.array([A['F']['F'] /fair  , A['F']['U']/fair]), # to F, to U\n",
    "        #    'U': np.array([A['U']['F'] /unfair, A['U']['U']/unfair]) # to F, to U\n",
    "        #}\n",
    "        \n",
    "        fair = sum(B['F'])\n",
    "        unfair = sum(B['U'])\n",
    "        \n",
    "        self.diceValueProbability = {\n",
    "            'F': [value/fair for value in B['F']],\n",
    "            'U': [value/unfair for value in B['U']]\n",
    "        }\n",
    "                \n",
    "        #pprint.pprint(self.transitionsProbability)\n",
    "        #pprint.pprint(self.diceValueProbability)\n",
    "\n",
    "# С фиксированными transitionsProbability\n",
    "        \n",
    "trainig = BaumWelchTrainig(dataset300)\n",
    "trainig()"
   ]
  },
  {
   "cell_type": "code",
   "execution_count": 61,
   "metadata": {},
   "outputs": [
    {
     "name": "stdout",
     "output_type": "stream",
     "text": [
      "LOG: -517.8419711362919\n",
      "LOG: -517.6787770316014\n",
      "LOG: -517.5143345832246\n",
      "LOG: -517.3504965929739\n",
      "LOG: -517.1896448186171\n",
      "LOG: -517.0343896070598\n",
      "LOG: -516.8873843242153\n",
      "LOG: -516.7511408915354\n",
      "LOG: -516.6278333912202\n",
      "LOG: -516.5191041631603\n",
      "LOG: -516.4259001179893\n",
      "Log doesnot change: stop in 10 iteration\n",
      "'FITTED'\n",
      "'Parametrs'\n",
      "(\"TransitionsProbability: {'F': array([0.89927012, 0.10072988]), 'U': \"\n",
      " 'array([0.04590009, 0.95409991])}')\n",
      "(\"diceValueProbability: {'F': [0.16666666666666666, 0.16666666666666666, \"\n",
      " \"0.16666666666666666, 0.25, 0.16666666666666666, 0.08333333333333333], 'U': \"\n",
      " '[0.1, 0.2, 0.05, 0.15, 0.1, 0.4]}')\n"
     ]
    }
   ],
   "source": [
    "class BaumWelchTrainig(parametrs, PosteriorDecoding):\n",
    "    def __init__(self, data):\n",
    "        \n",
    "        super().__init__(data)\n",
    "        \n",
    "        self.epselon = 0.1\n",
    "        self.iterationNumber = 100\n",
    "            \n",
    "    def __call__(self):\n",
    "        if self.isFitted == False: self.initializationBaumWelch()\n",
    "        pprint.pprint('FITTED')\n",
    "        pprint.pprint('Parametrs')\n",
    "        pprint.pprint('TransitionsProbability: {}'.format(self.transitionsProbability))\n",
    "        pprint.pprint('diceValueProbability: {}'.format(self.diceValueProbability))\n",
    "    \n",
    "    def initializationBaumWelch(self):\n",
    "        prLog = 1000000000\n",
    "        for step in range(self.iterationNumber):\n",
    "            self.f = []\n",
    "            self.b = []\n",
    "            self.pathProbability = .0\n",
    "            self.initialization()\n",
    "            # Change paramets\n",
    "            self.changeParametrs()\n",
    "            \n",
    "            currentLog = self.logLikelihood()\n",
    "            print(\"LOG: {}\".format(currentLog))\n",
    "            \n",
    "            if abs(currentLog - prLog) < self.epselon:\n",
    "                print('Log doesnot change: stop in {} iteration'.format(step))\n",
    "                break\n",
    "            prLog = currentLog\n",
    "        else:\n",
    "            print('Stop: max iterations')\n",
    "    \n",
    "    def logLikelihood(self):\n",
    "        return np.log(self.pathProbability)\n",
    "    \n",
    "    def changeParametrs(self):\n",
    "        # Add A\n",
    "        A = {}\n",
    "        for fromI, fromState in enumerate(self.states):\n",
    "            A[fromState] = {}\n",
    "            for newI, newState in enumerate(self.states):\n",
    "                sum_step = [\n",
    "                    self.f[i][fromI] * self.b[i+1][newI] * \n",
    "                    self.diceValueProbability[newState][self.data[i+1] - 1] \n",
    "                    for i in range(self.L-1)\n",
    "                ]\n",
    "                probability = sum(sum_step) * self.transitionsProbability[fromState][newI]#/self.pathProbability\n",
    "                A[fromState][newState] = probability\n",
    "        # Add B\n",
    "        B = {}\n",
    "        for index, state in enumerate(self.states):\n",
    "            B[state] = [.0,.0,.0,.0,.0,.0]\n",
    "            for i,value in enumerate(self.data):\n",
    "                B[state][value - 1] =+ self.f[i][index] * self.b[i][index]\n",
    "        \n",
    "        #pprint.pprint(A)\n",
    "        #pprint.pprint(B)\n",
    "        # change\n",
    "        fair = A['F']['F'] + A['F']['U']\n",
    "        unfair = A['U']['F'] + A['U']['U']\n",
    "        \n",
    "        self.transitionsProbability = {\n",
    "            'F': np.array([A['F']['F'] /fair  , A['F']['U']/fair]), # to F, to U\n",
    "            'U': np.array([A['U']['F'] /unfair, A['U']['U']/unfair]) # to F, to U\n",
    "        }\n",
    "        \n",
    "        fair = sum(B['F'])\n",
    "        unfair = sum(B['U'])\n",
    "        \n",
    "        #self.diceValueProbability = {\n",
    "        #    'F': [value/fair for value in B['F']],\n",
    "        #    'U': [value/unfair for value in B['U']]\n",
    "        #}\n",
    "                \n",
    "        #pprint.pprint(self.transitionsProbability)\n",
    "        #pprint.pprint(self.diceValueProbability)\n",
    "\n",
    "# С фиксированными diceValueProbability\n",
    "        \n",
    "trainig = BaumWelchTrainig(dataset300)\n",
    "trainig()"
   ]
  },
  {
   "cell_type": "markdown",
   "metadata": {},
   "source": [
    "( Ошибка в diceValueProbability, так как при фиксированных transitionsProbability логарифм увеличвается)"
   ]
  },
  {
   "cell_type": "markdown",
   "metadata": {},
   "source": [
    "После тренировке на 300 бросках, алгоритм смог равномерно раскидать выпадающие значения на кубиках, а так же смог уловить общую тенденцию в переходах между кубиками (проще остаться с этим же кубиком, чем перейти), и в общих чертах смог выделить нечестный кубик."
   ]
  },
  {
   "cell_type": "code",
   "execution_count": 37,
   "metadata": {
    "scrolled": false
   },
   "outputs": [
    {
     "name": "stdout",
     "output_type": "stream",
     "text": [
      "LOG: -inf\n",
      "LOG: nan\n",
      "LOG: nan\n",
      "LOG: nan\n",
      "LOG: nan\n",
      "LOG: nan\n",
      "LOG: nan\n"
     ]
    },
    {
     "name": "stderr",
     "output_type": "stream",
     "text": [
      "C:\\ProgramData\\Anaconda3\\lib\\site-packages\\ipykernel_launcher.py:35: RuntimeWarning: invalid value encountered in double_scalars\n",
      "C:\\ProgramData\\Anaconda3\\lib\\site-packages\\ipykernel_launcher.py:66: RuntimeWarning: invalid value encountered in double_scalars\n",
      "C:\\ProgramData\\Anaconda3\\lib\\site-packages\\ipykernel_launcher.py:67: RuntimeWarning: invalid value encountered in double_scalars\n",
      "C:\\ProgramData\\Anaconda3\\lib\\site-packages\\ipykernel_launcher.py:74: RuntimeWarning: invalid value encountered in double_scalars\n",
      "C:\\ProgramData\\Anaconda3\\lib\\site-packages\\ipykernel_launcher.py:75: RuntimeWarning: invalid value encountered in double_scalars\n",
      "C:\\ProgramData\\Anaconda3\\lib\\site-packages\\ipykernel_launcher.py:37: RuntimeWarning: divide by zero encountered in log\n"
     ]
    },
    {
     "name": "stdout",
     "output_type": "stream",
     "text": [
      "LOG: nan\n",
      "LOG: nan\n",
      "LOG: nan\n",
      "LOG: nan\n",
      "LOG: nan\n",
      "LOG: nan\n",
      "LOG: nan\n",
      "LOG: nan\n",
      "LOG: nan\n",
      "LOG: nan\n",
      "LOG: nan\n",
      "LOG: nan\n",
      "LOG: nan\n",
      "LOG: nan\n",
      "LOG: nan\n",
      "LOG: nan\n",
      "LOG: nan\n",
      "LOG: nan\n",
      "LOG: nan\n",
      "LOG: nan\n",
      "LOG: nan\n",
      "LOG: nan\n",
      "LOG: nan\n",
      "LOG: nan\n",
      "LOG: nan\n",
      "LOG: nan\n",
      "LOG: nan\n",
      "LOG: nan\n",
      "LOG: nan\n",
      "LOG: nan\n",
      "LOG: nan\n",
      "LOG: nan\n",
      "LOG: nan\n",
      "LOG: nan\n",
      "LOG: nan\n",
      "LOG: nan\n",
      "LOG: nan\n",
      "LOG: nan\n",
      "LOG: nan\n",
      "LOG: nan\n",
      "LOG: nan\n",
      "LOG: nan\n",
      "LOG: nan\n",
      "LOG: nan\n",
      "LOG: nan\n",
      "LOG: nan\n",
      "LOG: nan\n",
      "LOG: nan\n",
      "LOG: nan\n",
      "LOG: nan\n",
      "LOG: nan\n",
      "LOG: nan\n",
      "LOG: nan\n",
      "LOG: nan\n",
      "LOG: nan\n",
      "LOG: nan\n",
      "LOG: nan\n",
      "LOG: nan\n",
      "LOG: nan\n",
      "LOG: nan\n",
      "LOG: nan\n",
      "LOG: nan\n",
      "LOG: nan\n",
      "LOG: nan\n",
      "LOG: nan\n",
      "LOG: nan\n",
      "LOG: nan\n",
      "LOG: nan\n",
      "LOG: nan\n",
      "LOG: nan\n",
      "LOG: nan\n",
      "LOG: nan\n",
      "LOG: nan\n",
      "LOG: nan\n",
      "LOG: nan\n",
      "LOG: nan\n",
      "LOG: nan\n",
      "LOG: nan\n",
      "LOG: nan\n",
      "LOG: nan\n",
      "LOG: nan\n",
      "LOG: nan\n",
      "LOG: nan\n",
      "LOG: nan\n",
      "LOG: nan\n",
      "LOG: nan\n",
      "LOG: nan\n",
      "LOG: nan\n",
      "LOG: nan\n",
      "LOG: nan\n",
      "LOG: nan\n",
      "LOG: nan\n",
      "LOG: nan\n",
      "Stop: max iterations\n",
      "'FITTED'\n",
      "'Parametrs'\n",
      "\"TransitionsProbability: {'F': array([nan, nan]), 'U': array([nan, nan])}\"\n",
      "(\"diceValueProbability: {'F': [nan, nan, nan, nan, nan, nan], 'U': [nan, nan, \"\n",
      " 'nan, nan, nan, nan]}')\n"
     ]
    }
   ],
   "source": [
    "trainig = BaumWelchTrainig(dataset1000)\n",
    "trainig()"
   ]
  },
  {
   "cell_type": "markdown",
   "metadata": {},
   "source": [
    "На 1000 бросках происходит накопление ошибки, что ведет к переполнению переменных.\n",
    "Сделаем нормированную версию алгоритма"
   ]
  },
  {
   "cell_type": "code",
   "execution_count": 38,
   "metadata": {},
   "outputs": [],
   "source": [
    "def multiply(array):\n",
    "    result = 1\n",
    "    for i in array:\n",
    "        result *= i\n",
    "    return result"
   ]
  },
  {
   "cell_type": "code",
   "execution_count": 39,
   "metadata": {},
   "outputs": [],
   "source": [
    "class BaumWelchTrainigScaled(parametrs, PosteriorDecodingScaled):\n",
    "    def __init__(self, data):\n",
    "\n",
    "        PosteriorDecoding.__init__(self, data)\n",
    "        parametrs.__init__(self, data)\n",
    "\n",
    "        self.epselon = 0.1\n",
    "        self.iterationNumber = 100\n",
    "            \n",
    "    def __call__(self):\n",
    "        if self.isFitted == False: self.initializationBaumWelch()\n",
    "        pprint.pprint('FITTED')\n",
    "        pprint.pprint('Parametrs')\n",
    "        pprint.pprint('TransitionsProbability: {}'.format(self.transitionsProbability))\n",
    "        pprint.pprint('diceValueProbability: {}'.format(self.diceValueProbability))\n",
    "    \n",
    "    def initializationBaumWelch(self):\n",
    "        prLog = 0\n",
    "        for step in range(self.iterationNumber):\n",
    "            self.scaledConstF = []\n",
    "            self.scaledConstB = []\n",
    "            \n",
    "            self.f = []\n",
    "            self.b = []\n",
    "            \n",
    "            self.initialization()\n",
    "            currentLog = self.logLikelihood()\n",
    "            \n",
    "            # Change paramets\n",
    "            print(currentLog)\n",
    "            \n",
    "            if prLog > currentLog:\n",
    "                print('Log decreased: {} iteration'.format(step))\n",
    "            #    break\n",
    "            if abs(currentLog - prLog) < self.epselon:\n",
    "                print('Log doesnot change: stop in {} iteration'.format(step))\n",
    "                break\n",
    "            prLog = currentLog\n",
    "            self.changeParametrs()\n",
    "            \n",
    "        else:\n",
    "            print('Stop: max iterations')\n",
    "    \n",
    "    \n",
    "    def logLikelihood(self):\n",
    "        return np.log(self.pathProbability*multiply(self.scaledConstF))\n",
    "\n",
    "    def coeff(self,currentI):\n",
    "        # трюк чтобы не терять точность\n",
    "        ###\n",
    "        coeff_num = 1\n",
    "        for backCoeff, forwardCoeff in zip(self.scaledConstB[currentI+1:],self.scaledConstF[currentI:]):\n",
    "            coeff_num *= backCoeff/forwardCoeff\n",
    "        return coeff_num\n",
    "    \n",
    "    def changeParametrs(self):\n",
    "        # Add A\n",
    "        A = {}\n",
    "        for fromI, fromState in enumerate(self.states):\n",
    "            A[fromState] = {}\n",
    "            for newI, newState in enumerate(self.states):\n",
    "                sum_step = [\n",
    "                    self.f[i][fromI] * self.b[i+1][newI] * \n",
    "                    self.diceValueProbability[newState][self.data[i+1] - 1] * self.coeff(i)\n",
    "                    for i in range(self.L-1)\n",
    "                ]\n",
    "                probability = sum(sum_step) * self.transitionsProbability[fromState][newI]/self.pathProbability\n",
    "                A[fromState][newState] = probability\n",
    "        # Add B\n",
    "        \n",
    "        \n",
    "        B = {}\n",
    "        for index, state in enumerate(self.states):\n",
    "            B[state] = [.0,.0,.0,.0,.0,.0]\n",
    "            for i,value in enumerate(self.data):\n",
    "                B[state][value - 1] =+ self.f[i][index] * self.b[i][index] * multiply(self.scaledConstF[:i + 1]) * multiply(self.scaledConstB[i:])\n",
    "        \n",
    "        #pprint.pprint(A)\n",
    "        #pprint.pprint(B)\n",
    "        # change\n",
    "        fair = A['F']['F'] + A['F']['U']\n",
    "        unfair = A['U']['F'] + A['U']['U']\n",
    "        \n",
    "        self.transitionsProbability = {\n",
    "            'F': np.array([A['F']['F'] /fair  , A['F']['U']/fair]), # to F, to U\n",
    "            'U': np.array([A['U']['F'] /unfair, A['U']['U']/unfair]) # to F, to U\n",
    "        }\n",
    "        \n",
    "        fair = sum(B['F'])\n",
    "        unfair = sum(B['U'])\n",
    "        \n",
    "        self.diceValueProbability = {\n",
    "            'F': [value/fair for value in B['F']],\n",
    "            'U': [value/unfair for value in B['U']]\n",
    "        }\n",
    "        \n",
    "        #pprint.pprint(self.transitionsProbability)\n",
    "        #pprint.pprint(self.diceValueProbability)"
   ]
  },
  {
   "cell_type": "code",
   "execution_count": 40,
   "metadata": {},
   "outputs": [
    {
     "name": "stdout",
     "output_type": "stream",
     "text": [
      "BaseAlgo init\n",
      "Backward init\n",
      "Forward init\n",
      "-506.62704862537726\n",
      "Log decreased: 0 iteration\n",
      "-542.7589082042418\n",
      "Log decreased: 1 iteration\n",
      "-533.3617637668184\n",
      "-532.6305552727736\n",
      "-535.6886408726838\n",
      "Log decreased: 4 iteration\n",
      "-537.4046139738906\n",
      "Log decreased: 5 iteration\n",
      "-537.7609993137664\n",
      "Log decreased: 6 iteration\n",
      "-537.8581655739412\n",
      "Log decreased: 7 iteration\n",
      "Log doesnot change: stop in 7 iteration\n",
      "'FITTED'\n",
      "'Parametrs'\n",
      "(\"TransitionsProbability: {'F': array([9.99440584e-01, 5.59416291e-04]), 'U': \"\n",
      " 'array([0.94178534, 0.05821466])}')\n",
      "(\"diceValueProbability: {'F': [0.1668534847051443, 0.16685336695105907, \"\n",
      " '0.1668522345970403, 0.1666847942294742, 0.16591925477954395, '\n",
      " \"0.16683686473773815], 'U': [1.0836823950327798e-05, 0.00011588238028969114, \"\n",
      " '0.001126027868412226, 0.15049550863855848, 0.8334146386387831, '\n",
      " '0.014837105650006188]}')\n"
     ]
    }
   ],
   "source": [
    "trainig = BaumWelchTrainigScaled(dataset300)\n",
    "trainig()"
   ]
  },
  {
   "cell_type": "code",
   "execution_count": 41,
   "metadata": {},
   "outputs": [
    {
     "name": "stdout",
     "output_type": "stream",
     "text": [
      "BaseAlgo init\n",
      "Backward init\n",
      "Forward init\n",
      "-inf\n",
      "Log decreased: 0 iteration\n"
     ]
    },
    {
     "name": "stderr",
     "output_type": "stream",
     "text": [
      "C:\\ProgramData\\Anaconda3\\lib\\site-packages\\ipykernel_launcher.py:46: RuntimeWarning: divide by zero encountered in log\n",
      "C:\\ProgramData\\Anaconda3\\lib\\site-packages\\ipykernel_launcher.py:93: RuntimeWarning: invalid value encountered in double_scalars\n",
      "C:\\ProgramData\\Anaconda3\\lib\\site-packages\\ipykernel_launcher.py:94: RuntimeWarning: invalid value encountered in double_scalars\n"
     ]
    },
    {
     "name": "stdout",
     "output_type": "stream",
     "text": [
      "nan\n",
      "nan\n",
      "nan\n",
      "nan\n",
      "nan\n",
      "nan\n",
      "nan\n",
      "nan\n",
      "nan\n",
      "nan\n",
      "nan\n",
      "nan\n",
      "nan\n",
      "nan\n",
      "nan\n",
      "nan\n",
      "nan\n",
      "nan\n",
      "nan\n",
      "nan\n",
      "nan\n",
      "nan\n",
      "nan\n",
      "nan\n",
      "nan\n",
      "nan\n",
      "nan\n",
      "nan\n",
      "nan\n",
      "nan\n",
      "nan\n",
      "nan\n",
      "nan\n",
      "nan\n",
      "nan\n",
      "nan\n",
      "nan\n",
      "nan\n",
      "nan\n",
      "nan\n",
      "nan\n",
      "nan\n",
      "nan\n",
      "nan\n",
      "nan\n",
      "nan\n",
      "nan\n",
      "nan\n",
      "nan\n",
      "nan\n",
      "nan\n",
      "nan\n",
      "nan\n",
      "nan\n",
      "nan\n",
      "nan\n",
      "nan\n",
      "nan\n",
      "nan\n",
      "nan\n",
      "nan\n",
      "nan\n",
      "nan\n",
      "nan\n",
      "nan\n",
      "nan\n",
      "nan\n",
      "nan\n",
      "nan\n",
      "nan\n",
      "nan\n",
      "nan\n",
      "nan\n",
      "nan\n",
      "nan\n",
      "nan\n",
      "nan\n",
      "nan\n",
      "nan\n",
      "nan\n",
      "nan\n",
      "nan\n",
      "nan\n",
      "nan\n",
      "nan\n",
      "nan\n",
      "nan\n",
      "nan\n",
      "nan\n",
      "nan\n",
      "nan\n",
      "nan\n",
      "nan\n",
      "nan\n",
      "nan\n",
      "nan\n",
      "nan\n",
      "nan\n",
      "nan\n",
      "Stop: max iterations\n",
      "'FITTED'\n",
      "'Parametrs'\n",
      "\"TransitionsProbability: {'F': array([nan, nan]), 'U': array([nan, nan])}\"\n",
      "(\"diceValueProbability: {'F': [nan, nan, nan, nan, nan, nan], 'U': [nan, nan, \"\n",
      " 'nan, nan, nan, nan]}')\n"
     ]
    }
   ],
   "source": [
    "trainig = BaumWelchTrainigScaled(dataset1000)\n",
    "trainig()"
   ]
  },
  {
   "cell_type": "markdown",
   "metadata": {},
   "source": [
    "Нормировка не очень помогла -  на каком-то шаге все равно произошло переполнение.  \n",
    "Попробуем разбить 10 000 состояний на некоторе количество состояний по 300"
   ]
  },
  {
   "cell_type": "code",
   "execution_count": 42,
   "metadata": {},
   "outputs": [
    {
     "name": "stdout",
     "output_type": "stream",
     "text": [
      "Croupier init\n"
     ]
    }
   ],
   "source": [
    "dataset300_10 = []\n",
    "\n",
    "casino = Croupier()\n",
    "for j in range(10):\n",
    "    dataset300_10.append([])\n",
    "    for i in range(300):\n",
    "        data, _ = casino()\n",
    "        dataset300_10[j].append(data)"
   ]
  },
  {
   "cell_type": "code",
   "execution_count": 43,
   "metadata": {},
   "outputs": [],
   "source": [
    "class parametrsMany(parametrs):\n",
    "    def __init__(self, data):\n",
    "        super().__init__(data)\n",
    "        print('Special parametrs init')\n",
    "        self.number = len(data)\n",
    "        self.L = len(data[0])"
   ]
  },
  {
   "cell_type": "code",
   "execution_count": 44,
   "metadata": {},
   "outputs": [],
   "source": [
    "class specialForward(parametrsMany):\n",
    "    def __init__(self, data):\n",
    "        super().__init__(data)\n",
    "        print('Special Foeward init')\n",
    "        \n",
    "    \n",
    "    def stepForward(self, J, index):\n",
    "        self.f[J].append([])\n",
    "        previuosState = self.f[J][-2]\n",
    "        for i,state in enumerate(self.states):\n",
    "            transitionProbability = np.array([val[i] for val in self.transitionsProbability.values()])\n",
    "            observedProbability = self.diceValueProbability[state][self.data[J][index] - 1]\n",
    "            #print(observedProbability)\n",
    "            #print(previuosState)\n",
    "            #print(J, \" : \",index,\" : \", transitionProbability)\n",
    "            probability = observedProbability * sum(previuosState * transitionProbability)\n",
    "            self.f[J][-1].append(probability)\n",
    "            \n",
    "    def initializationForward(self):\n",
    "        self.f = [[] for i in range(self.number)]\n",
    "        self.pathProbability = []\n",
    "        for J in range(self.number):\n",
    "            self.f[J].append([self.startProbability[state] for state in self.states] * \n",
    "                          np.array([self.diceValueProbability[state][self.data[J][0] - 1] for state in self.states]))\n",
    "            for i in range(1,self.L):\n",
    "                self.stepForward(J,i)\n",
    "            self.pathProbability.append(sum(self.f[J][-1]))"
   ]
  },
  {
   "cell_type": "code",
   "execution_count": 45,
   "metadata": {},
   "outputs": [],
   "source": [
    "class specialBackward(parametrsMany):\n",
    "    def __init__(self, data):\n",
    "        super().__init__(data)\n",
    "        print('Special Backward init')\n",
    "    \n",
    "    def stepBackward(self, J, index):\n",
    "        self.b[J].append([])\n",
    "        observedProbability =  np.array([val[self.data[J][index]-1] for val in self.diceValueProbability.values()])\n",
    "        nextState = self.b[J][-2]\n",
    "        for state in self.states: # first fair then unfair\n",
    "            transitionProbability = self.transitionsProbability[state]            \n",
    "            probability = sum(transitionProbability * observedProbability * nextState)\n",
    "            self.b[J][-1].append(probability)\n",
    "    \n",
    "    def initializationBackward(self):\n",
    "        self.b = [[] for i in range(self.number)]\n",
    "        for J in range(self.number):\n",
    "            self.b[J].append([1 for state in self.states])\n",
    "            #Recursion\n",
    "            for i in range(self.L-1,0,-1):\n",
    "                self.stepBackward(J,i)\n",
    "\n",
    "            # Finish # перевернуть b\n",
    "            self.b[J] = self.b[J][::-1]"
   ]
  },
  {
   "cell_type": "code",
   "execution_count": 46,
   "metadata": {},
   "outputs": [],
   "source": [
    "class BaumWelchTrainigMany(specialForward, specialBackward):\n",
    "    def __init__(self, data):\n",
    "        \n",
    "        super().__init__(data)\n",
    "        \n",
    "        self.epselon = 0.1\n",
    "        self.iterationNumber = 100\n",
    "            \n",
    "    def __call__(self):\n",
    "        if self.isFitted == False: self.initializationBaumWelch()\n",
    "        pprint.pprint('FITTED')\n",
    "        pprint.pprint('Parametrs')\n",
    "        pprint.pprint('TransitionsProbability: {}'.format(self.transitionsProbability))\n",
    "        pprint.pprint('diceValueProbability: {}'.format(self.diceValueProbability))\n",
    "    \n",
    "    def initializationBaumWelch(self):\n",
    "        prLog = 1000000000\n",
    "        for step in range(self.iterationNumber):\n",
    "            \n",
    "            self.initializationForward()\n",
    "            self.initializationBackward()\n",
    "            \n",
    "            currentLog = self.logLikelihood()\n",
    "            # Change paramets\n",
    "            print(currentLog)\n",
    "            \n",
    "            if prLog > currentLog:\n",
    "                print('Log decreased: {} iteration'.format(step))\n",
    "            #    break\n",
    "            if abs(currentLog - prLog) < self.epselon:\n",
    "                print('Log doesnot change: stop in {} iteration'.format(step))\n",
    "                break\n",
    "            prLog = currentLog\n",
    "            self.changeParametrs()\n",
    "        else:\n",
    "            print('Stop: max iterations')\n",
    "    \n",
    "    \n",
    "    def logLikelihood(self):\n",
    "        return sum(np.log(self.pathProbability))\n",
    "    \n",
    "    def changeParametrs(self):\n",
    "        # Add A\n",
    "        A = {}\n",
    "        for fromI, fromState in enumerate(self.states):\n",
    "            A[fromState] = {}\n",
    "            for newI, newState in enumerate(self.states):\n",
    "                A[fromState][newState] = 0.0\n",
    "                for J in range(self.number):\n",
    "                    sum_step = [\n",
    "                        self.f[J][i][fromI] * self.b[J][i+1][newI] * \n",
    "                        self.diceValueProbability[newState][self.data[J][i+1] - 1] \n",
    "                        for i in range(self.L-1)\n",
    "                    ]\n",
    "                    probability = sum(sum_step) * self.transitionsProbability[fromState][newI]/self.pathProbability[J]\n",
    "                    A[fromState][newState] += probability\n",
    "                A[fromState][newState] /= self.number\n",
    "        # Add B\n",
    "        B = {}\n",
    "        \n",
    "        for index, state in enumerate(self.states):\n",
    "            B[state] = [.0,.0,.0,.0,.0,.0]\n",
    "            for J in range(self.number):\n",
    "                for i,value in enumerate(self.data[J]):\n",
    "                    B[state][value - 1] =+ self.f[J][i][index] * self.b[J][i][index] / self.number\n",
    "        \n",
    "        \n",
    "        #pprint.pprint(A)\n",
    "        #pprint.pprint(B)\n",
    "        # change\n",
    "        fair = A['F']['F'] + A['F']['U']\n",
    "        unfair = A['U']['F'] + A['U']['U']\n",
    "        \n",
    "        self.transitionsProbability = {\n",
    "            'F': np.array([A['F']['F'] /fair  , A['F']['U']/fair]), # to F, to U\n",
    "            'U': np.array([A['U']['F'] /unfair, A['U']['U']/unfair]) # to F, to U\n",
    "        }\n",
    "        \n",
    "        fair = sum(B['F'])\n",
    "        unfair = sum(B['U'])\n",
    "        \n",
    "        self.diceValueProbability = {\n",
    "            'F': [value/fair for value in B['F']],\n",
    "            'U': [value/unfair for value in B['U']]\n",
    "        }\n",
    "        # Выводить вероятность последовательности\n",
    "        \n",
    "        \n",
    "        #pprint.pprint(self.transitionsProbability)\n",
    "        #pprint.pprint(self.diceValueProbability)"
   ]
  },
  {
   "cell_type": "code",
   "execution_count": 47,
   "metadata": {},
   "outputs": [
    {
     "name": "stdout",
     "output_type": "stream",
     "text": [
      "Special parametrs init\n",
      "Special Backward init\n",
      "Special Foeward init\n",
      "-5190.928886555929\n",
      "Log decreased: 0 iteration\n",
      "-5425.771776771757\n",
      "Log decreased: 1 iteration\n",
      "-5382.3482528035565\n",
      "-5376.696188606738\n",
      "-5372.181912804044\n",
      "-5374.204188492216\n",
      "Log decreased: 5 iteration\n",
      "-5374.199917031911\n",
      "Log doesnot change: stop in 6 iteration\n",
      "'FITTED'\n",
      "'Parametrs'\n",
      "(\"TransitionsProbability: {'F': array([0.90344977, 0.09655023]), 'U': \"\n",
      " 'array([0.050468, 0.949532])}')\n",
      "(\"diceValueProbability: {'F': [0.15554355378337825, 0.17417942266061334, \"\n",
      " '0.19259386205843598, 0.15136734964239795, 0.15211179298180189, '\n",
      " \"0.17420401887337256], 'U': [0.1722684080235775, 0.16288314703531426, \"\n",
      " '0.15360940075390295, 0.17437159763397692, 0.17399668648401626, '\n",
      " '0.16287076006921203]}')\n"
     ]
    }
   ],
   "source": [
    "trainig = BaumWelchTrainigMany(dataset300_10)\n",
    "trainig()"
   ]
  },
  {
   "cell_type": "markdown",
   "metadata": {},
   "source": [
    "Результаты занятны: в этом случае алгоритм счтает что вероятность перехода на первый кубик составляет 10 процентов, и первый кубик используется только для генерации одного числа - в этом случае 3."
   ]
  },
  {
   "cell_type": "code",
   "execution_count": null,
   "metadata": {},
   "outputs": [],
   "source": []
  }
 ],
 "metadata": {
  "kernelspec": {
   "display_name": "Python 3",
   "language": "python",
   "name": "python3"
  },
  "language_info": {
   "codemirror_mode": {
    "name": "ipython",
    "version": 3
   },
   "file_extension": ".py",
   "mimetype": "text/x-python",
   "name": "python",
   "nbconvert_exporter": "python",
   "pygments_lexer": "ipython3",
   "version": "3.6.4"
  }
 },
 "nbformat": 4,
 "nbformat_minor": 2
}
