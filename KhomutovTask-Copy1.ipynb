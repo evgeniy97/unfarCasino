{
 "cells": [
  {
   "cell_type": "code",
   "execution_count": 8,
   "metadata": {},
   "outputs": [],
   "source": [
    "import numpy as np\n",
    "import matplotlib.pyplot as plt\n",
    "from simpleGenerator import Croupier"
   ]
  },
  {
   "cell_type": "markdown",
   "metadata": {},
   "source": [
    "Импортируем класс Croupier, который отвечает за генерацию данных и создадим экземпляр класса с заданными значениями вероятности для нечестного кубика, а так же вероятности перехода с честного кубика на нечестный и на себя самого, и вероятности перехода с нечестного кубика на себя и на честный. Проверим что получаем выпавшие знаечение кубика, а так же метку кубика"
   ]
  },
  {
   "cell_type": "code",
   "execution_count": 9,
   "metadata": {
    "scrolled": true
   },
   "outputs": [
    {
     "name": "stdout",
     "output_type": "stream",
     "text": [
      "(3, 'F')\n",
      "(3, 'F')\n",
      "(6, 'F')\n",
      "(5, 'F')\n",
      "(1, 'F')\n",
      "(4, 'F')\n",
      "(2, 'F')\n",
      "(1, 'F')\n",
      "(1, 'F')\n",
      "(2, 'F')\n"
     ]
    }
   ],
   "source": [
    "casino = Croupier()\n",
    "for i in range(10):\n",
    "    print(casino())"
   ]
  },
  {
   "cell_type": "markdown",
   "metadata": {},
   "source": [
    "Сгенерируем датасеты размером 1 000, 10 000 и 100 000"
   ]
  },
  {
   "cell_type": "code",
   "execution_count": 10,
   "metadata": {},
   "outputs": [],
   "source": [
    "dataset300 = []\n",
    "dataset300Labels = []\n",
    "\n",
    "casino = Croupier()\n",
    "\n",
    "for i in range(300):\n",
    "    data, label = casino()\n",
    "    dataset300.append(data)\n",
    "    dataset300Labels.append(label)"
   ]
  },
  {
   "cell_type": "code",
   "execution_count": 11,
   "metadata": {},
   "outputs": [
    {
     "data": {
      "text/plain": [
       "[<matplotlib.lines.Line2D at 0x2118d0b8208>]"
      ]
     },
     "execution_count": 11,
     "metadata": {},
     "output_type": "execute_result"
    },
    {
     "data": {
      "image/png": "[encoded data removed]",
      "text/plain": [
       "<matplotlib.figure.Figure at 0x2118acd9dd8>"
      ]
     },
     "metadata": {},
     "output_type": "display_data"
    }
   ],
   "source": [
    "lab = [0 if l =='F' else 1 for l in dataset300Labels ]\n",
    "plt.plot(lab)"
   ]
  },
  {
   "cell_type": "markdown",
   "metadata": {},
   "source": [
    "Определим базовый класс алгоритма"
   ]
  },
  {
   "cell_type": "code",
   "execution_count": 12,
   "metadata": {},
   "outputs": [],
   "source": [
    "class baseAlgo():\n",
    "    def __init__(self, data):\n",
    "        self.data = data\n",
    "        self.L = len(data)\n",
    "        \n",
    "        self.states = ['F','U'] # F for Fair state, U for Unfair state\n",
    "        self.transitionsProbability = {\n",
    "            'F': np.array([0.95,0.05]), # to F, to U\n",
    "            'U': np.array([0.1,0.9]) # to F, to U\n",
    "        }\n",
    "        \n",
    "        self.startProbability = {\n",
    "            'F': 2/3,\n",
    "            'U': 1/3\n",
    "        }\n",
    "        \n",
    "        self.diceValues = [1,2,3,4,5,6]\n",
    "        self.diceValueProbability = {\n",
    "            'F': [1/6 for i in range(6)],\n",
    "            'U': [.1,.1,.1,.1,.1,.5]\n",
    "        }"
   ]
  },
  {
   "cell_type": "code",
   "execution_count": 28,
   "metadata": {},
   "outputs": [],
   "source": [
    "class algorithmViterbi(baseAlgo):\n",
    "    def __init__(self, data):\n",
    "        baseAlgo.__init__(self, data)\n",
    "        \n",
    "        self.v = []\n",
    "        self.ptr = []\n",
    "        \n",
    "        self.path = None\n",
    "        self.probability = None\n",
    "        \n",
    "        \n",
    "    def step(self,index):\n",
    "        self.v.append([])\n",
    "        self.ptr.append([])\n",
    "        for state in self.states:\n",
    "            observedProbability = self.diceValueProbability[state][self.data[index] - 1]\n",
    "            probability = observedProbability*np.max( self.v[index-1] * self.transitionsProbability[state])\n",
    "            ptr = 'F' if np.argmax(self.v[index-1] * self.transitionsProbability[state]) == 0 else 'U'\n",
    "            self.v[-1].append(probability)\n",
    "            self.ptr[-1].append(ptr)\n",
    "            \n",
    "    \n",
    "    def initialization(self):\n",
    "        self.v.append([])\n",
    "        self.ptr.append(['F','U'])\n",
    "        for state in self.states:\n",
    "            observedProbability = self.diceValueProbability[state][self.data[0] - 1]\n",
    "            probability = observedProbability*self.startProbability[state]\n",
    "            self.v[0].append(probability)\n",
    "        \n",
    "        for i in range(1, self.L): \n",
    "            self.step(i)\n",
    "        \n",
    "        self.probability = max(self.v[-1])\n",
    "        self.path = [ 'F' if np.argmax(self.v[-1]) == 0 else 'U' ]\n",
    "        \n",
    "        for i in range(self.L-1,0,-1):\n",
    "            self.path.append(self.ptr[i][0 if self.path[-1] == 'F' else 1])\n",
    "        \n",
    "        self.path = self.path[::-1]\n",
    "    \n",
    "    def probability(self):\n",
    "        if self.probability != None: return self.probability\n",
    "    \n",
    "    def __call__(self):\n",
    "        if self.path == None: self.initialization()\n",
    "        return self.path\n",
    "        "
   ]
  },
  {
   "cell_type": "code",
   "execution_count": 29,
   "metadata": {},
   "outputs": [
    {
     "data": {
      "text/plain": [
       "[<matplotlib.lines.Line2D at 0x2118d33d048>]"
      ]
     },
     "execution_count": 29,
     "metadata": {},
     "output_type": "execute_result"
    },
    {
     "data": {
      "image/png": "[encoded data removed]",
      "text/plain": [
       "<matplotlib.figure.Figure at 0x2118a91c898>"
      ]
     },
     "metadata": {},
     "output_type": "display_data"
    }
   ],
   "source": [
    "hackCasinoViterbi = algorithmViterbi(dataset300)\n",
    "result = hackCasinoViterbi()\n",
    "# hackCasinoViterbi.probability()\n",
    "# print(result)\n",
    "res = [0 if l =='F' else 1 for l in result]\n",
    "res.append(0)\n",
    "plt.plot(lab)\n",
    "plt.plot(res)"
   ]
  },
  {
   "cell_type": "code",
   "execution_count": null,
   "metadata": {},
   "outputs": [],
   "source": []
  }
 ],
 "metadata": {
  "kernelspec": {
   "display_name": "Python 3",
   "language": "python",
   "name": "python3"
  },
  "language_info": {
   "codemirror_mode": {
    "name": "ipython",
    "version": 3
   },
   "file_extension": ".py",
   "mimetype": "text/x-python",
   "name": "python",
   "nbconvert_exporter": "python",
   "pygments_lexer": "ipython3",
   "version": "3.6.4"
  }
 },
 "nbformat": 4,
 "nbformat_minor": 2
}
