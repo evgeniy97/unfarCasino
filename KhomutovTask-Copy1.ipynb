{
 "cells": [
  {
   "cell_type": "code",
   "execution_count": 1,
   "metadata": {},
   "outputs": [],
   "source": [
    "import numpy as np\n",
    "import matplotlib.pyplot as plt\n",
    "from simpleGenerator import Croupier"
   ]
  },
  {
   "cell_type": "markdown",
   "metadata": {},
   "source": [
    "Импортируем класс Croupier, который отвечает за генерацию данных и создадим экземпляр класса с заданными значениями вероятности для нечестного кубика, а так же вероятности перехода с честного кубика на нечестный и на себя самого, и вероятности перехода с нечестного кубика на себя и на честный. Проверим что получаем выпавшие знаечение кубика, а так же метку кубика"
   ]
  },
  {
   "cell_type": "code",
   "execution_count": 2,
   "metadata": {
    "scrolled": true
   },
   "outputs": [
    {
     "name": "stdout",
     "output_type": "stream",
     "text": [
      "(2, 'F')\n",
      "(1, 'U')\n",
      "(2, 'U')\n",
      "(6, 'U')\n",
      "(2, 'U')\n",
      "(6, 'U')\n",
      "(6, 'U')\n",
      "(1, 'U')\n",
      "(2, 'U')\n",
      "(1, 'U')\n"
     ]
    }
   ],
   "source": [
    "casino = Croupier()\n",
    "for i in range(10):\n",
    "    print(casino())"
   ]
  },
  {
   "cell_type": "markdown",
   "metadata": {},
   "source": [
    "Сгенерируем датасеты размером 1 000, 10 000 и 100 000"
   ]
  },
  {
   "cell_type": "code",
   "execution_count": 3,
   "metadata": {},
   "outputs": [],
   "source": [
    "dataset300 = []\n",
    "dataset300Labels = []\n",
    "\n",
    "casino = Croupier()\n",
    "\n",
    "for i in range(300):\n",
    "    data, label = casino()\n",
    "    dataset300.append(data)\n",
    "    dataset300Labels.append(label)"
   ]
  },
  {
   "cell_type": "code",
   "execution_count": 15,
   "metadata": {},
   "outputs": [],
   "source": [
    "dataset1000 = []\n",
    "dataset1000Labels = []\n",
    "\n",
    "casino = Croupier()\n",
    "\n",
    "for i in range(1000):\n",
    "    data, label = casino()\n",
    "    dataset1000.append(data)\n",
    "    dataset1000Labels.append(label)"
   ]
  },
  {
   "cell_type": "code",
   "execution_count": 16,
   "metadata": {},
   "outputs": [
    {
     "data": {
      "text/plain": [
       "[<matplotlib.lines.Line2D at 0x25c83191d68>]"
      ]
     },
     "execution_count": 16,
     "metadata": {},
     "output_type": "execute_result"
    },
    {
     "data": {
      "image/png": "[encoded data removed]",
      "text/plain": [
       "<matplotlib.figure.Figure at 0x25c8313f128>"
      ]
     },
     "metadata": {},
     "output_type": "display_data"
    }
   ],
   "source": [
    "lab300 = [0 if l =='F' else 1 for l in dataset300Labels ]\n",
    "plt.plot(lab)"
   ]
  },
  {
   "cell_type": "markdown",
   "metadata": {},
   "source": [
    "Определим базовый класс алгоритма"
   ]
  },
  {
   "cell_type": "code",
   "execution_count": 5,
   "metadata": {},
   "outputs": [],
   "source": [
    "class baseAlgo():\n",
    "    def __init__(self, data):\n",
    "        self.data = data\n",
    "        self.L = len(data)\n",
    "        \n",
    "        self.states = ['F','U'] # F for Fair state, U for Unfair state\n",
    "        self.transitionsProbability = {\n",
    "            'F': np.array([0.95,0.05]), # to F, to U\n",
    "            'U': np.array([0.1,0.9]) # to F, to U\n",
    "        }\n",
    "        \n",
    "        self.startProbability = {\n",
    "            'F': 2/3,\n",
    "            'U': 1/3\n",
    "        }\n",
    "        \n",
    "        self.diceValues = [1,2,3,4,5,6]\n",
    "        self.diceValueProbability = {\n",
    "            'F': [1/6 for i in range(6)],\n",
    "            'U': [.1,.1,.1,.1,.1,.5]\n",
    "        }"
   ]
  },
  {
   "cell_type": "code",
   "execution_count": 30,
   "metadata": {},
   "outputs": [],
   "source": [
    "class algorithmViterbi(baseAlgo):\n",
    "    def __init__(self, data):\n",
    "        baseAlgo.__init__(self, data)\n",
    "        \n",
    "        self.v = []\n",
    "        self.ptr = []\n",
    "        \n",
    "        self.path = None\n",
    "        self.probability = None\n",
    "        \n",
    "        \n",
    "    def step(self,index):\n",
    "        self.v.append([])\n",
    "        self.ptr.append([])\n",
    "        for state in self.states:\n",
    "            observedProbability = self.diceValueProbability[state][self.data[index] - 1]\n",
    "            probability = observedProbability*np.max( self.v[index-1] * self.transitionsProbability[state])\n",
    "            ptr = 'F' if np.argmax(self.v[index-1] * self.transitionsProbability[state]) == 0 else 'U'\n",
    "            self.v[-1].append(probability)\n",
    "            self.ptr[-1].append(ptr)\n",
    "            \n",
    "    \n",
    "    def initialization(self):\n",
    "        self.v.append([])\n",
    "        self.ptr.append(['F','U'])\n",
    "        for state in self.states:\n",
    "            observedProbability = self.diceValueProbability[state][self.data[0] - 1]\n",
    "            probability = observedProbability*self.startProbability[state]\n",
    "            self.v[0].append(probability)\n",
    "        \n",
    "        for i in range(1, self.L): \n",
    "            self.step(i)\n",
    "        \n",
    "        self.probability = max(self.v[-1])\n",
    "        self.path = [ 'F' if np.argmax(self.v[-1]) == 0 else 'U' ]\n",
    "        \n",
    "        for i in range(self.L-1,0,-1):\n",
    "            self.path.append(self.ptr[i][0 if self.path[-1] == 'F' else 1])\n",
    "        \n",
    "        self.path = self.path[::-1]\n",
    "    \n",
    "    def returnProbability(self):\n",
    "        if self.probability != None: return self.probability\n",
    "    \n",
    "    def __call__(self):\n",
    "        if self.path == None: self.initialization()\n",
    "        return self.path\n",
    "        "
   ]
  },
  {
   "cell_type": "code",
   "execution_count": 35,
   "metadata": {},
   "outputs": [
    {
     "name": "stdout",
     "output_type": "stream",
     "text": [
      "RESULT: 0.86\n",
      "Probability: 2.5616090878881863e-235\n"
     ]
    },
    {
     "data": {
      "image/png": "[encoded data removed]",
      "text/plain": [
       "<matplotlib.figure.Figure at 0x25c86446278>"
      ]
     },
     "metadata": {},
     "output_type": "display_data"
    }
   ],
   "source": [
    "hackCasinoViterbi = algorithmViterbi(dataset300)\n",
    "result = hackCasinoViterbi()\n",
    "res = [0 if l =='F' else 1 for l in result]\n",
    "res.append(0)\n",
    "plt.plot(lab)\n",
    "plt.plot(res)\n",
    "print('RESULT: {}'.format( sum([ l == r for l,r in zip(lab300,res)])/len(lab300)))\n",
    "print('Probability: {}'.format(hackCasinoViterbi.returnProbability()))"
   ]
  },
  {
   "cell_type": "code",
   "execution_count": 36,
   "metadata": {},
   "outputs": [
    {
     "name": "stdout",
     "output_type": "stream",
     "text": [
      "RESULT: 0.687\n",
      "Probability: 0.0\n"
     ]
    },
    {
     "data": {
      "image/png": "[encoded data removed]",
      "text/plain": [
       "<matplotlib.figure.Figure at 0x25c8641c2b0>"
      ]
     },
     "metadata": {},
     "output_type": "display_data"
    }
   ],
   "source": [
    "hackCasinoViterbi = algorithmViterbi(dataset1000)\n",
    "result = hackCasinoViterbi()\n",
    "lab1000 = [0 if l =='F' else 1 for l in dataset1000Labels ]\n",
    "res = [0 if l =='F' else 1 for l in result]\n",
    "res.append(0)\n",
    "plt.plot(lab1000)\n",
    "plt.plot(res)\n",
    "print('RESULT: {}'.format( sum([ l == r for l,r in zip(lab1000,res)])/len(lab1000)))\n",
    "print('Probability: {}'.format(hackCasinoViterbi.returnProbability()))"
   ]
  },
  {
   "cell_type": "code",
   "execution_count": 65,
   "metadata": {},
   "outputs": [],
   "source": [
    "class baseAlgoLog():\n",
    "    def __init__(self, data):\n",
    "        self.data = data\n",
    "        self.L = len(data)\n",
    "        \n",
    "        self.states = ['F','U'] # F for Fair state, U for Unfair state\n",
    "        self.transitionsProbability = {\n",
    "            'F': np.log([0.95,0.05]), # to F, to U\n",
    "            'U': np.log([0.1,0.9]) # to F, to U\n",
    "        }\n",
    "        \n",
    "        self.startProbability = {\n",
    "            'F': np.log(2/3),\n",
    "            'U': np.log(1/3)\n",
    "        }\n",
    "        \n",
    "        self.diceValues = [1,2,3,4,5,6]\n",
    "        self.diceValueProbability = {\n",
    "            'F': np.log([1/6 for i in range(6)]),\n",
    "            'U': np.log([.1,.1,.1,.1,.1,.5])\n",
    "        }"
   ]
  },
  {
   "cell_type": "code",
   "execution_count": 66,
   "metadata": {},
   "outputs": [],
   "source": [
    "class algorithmViterbiLog(baseAlgoLog):\n",
    "    def __init__(self, data):\n",
    "        baseAlgoLog.__init__(self, data)\n",
    "        \n",
    "        self.v = []\n",
    "        self.ptr = []\n",
    "        \n",
    "        self.path = None\n",
    "        self.probability = None\n",
    "        \n",
    "        \n",
    "    def step(self,index):\n",
    "        self.v.append([])\n",
    "        self.ptr.append([])\n",
    "        for state in self.states:\n",
    "            observedProbability = self.diceValueProbability[state][self.data[index] - 1]\n",
    "            probability = observedProbability + np.max( self.v[index-1] + self.transitionsProbability[state])\n",
    "            ptr = 'F' if np.argmax(self.v[index-1] + self.transitionsProbability[state]) == 0 else 'U'\n",
    "            self.v[-1].append(probability)\n",
    "            self.ptr[-1].append(ptr)\n",
    "            \n",
    "    \n",
    "    def initialization(self):\n",
    "        self.v.append([])\n",
    "        self.ptr.append(['F','U'])\n",
    "        for state in self.states:\n",
    "            observedProbability = self.diceValueProbability[state][self.data[0] - 1]\n",
    "            probability = observedProbability + self.startProbability[state]\n",
    "            self.v[0].append(probability)\n",
    "        \n",
    "        for i in range(1, self.L): \n",
    "            self.step(i)\n",
    "        \n",
    "        self.probability = np.e**max(self.v[-1])\n",
    "        self.path = [ 'F' if np.argmax(self.v[-1]) == 0 else 'U' ]\n",
    "        \n",
    "        for i in range(self.L-1,0,-1):\n",
    "            self.path.append(self.ptr[i][0 if self.path[-1] == 'F' else 1])\n",
    "        \n",
    "        self.path = self.path[::-1]\n",
    "    \n",
    "    def returnProbability(self):\n",
    "        if self.probability != None: return self.probability\n",
    "    \n",
    "    def __call__(self):\n",
    "        if self.path == None: self.initialization()\n",
    "        return self.path\n",
    "        "
   ]
  },
  {
   "cell_type": "code",
   "execution_count": 67,
   "metadata": {
    "scrolled": true
   },
   "outputs": [
    {
     "name": "stdout",
     "output_type": "stream",
     "text": [
      "RESULT: 0.86\n",
      "Probability: 2.5616090878884953e-235\n"
     ]
    },
    {
     "data": {
      "image/png": "[encoded data removed]",
      "text/plain": [
       "<matplotlib.figure.Figure at 0x25c82ba1ac8>"
      ]
     },
     "metadata": {},
     "output_type": "display_data"
    }
   ],
   "source": [
    "hackCasinoViterbiLog = algorithmViterbiLog(dataset300)\n",
    "result = hackCasinoViterbiLog()\n",
    "res = [0 if l =='F' else 1 for l in result]\n",
    "res.append(0)\n",
    "plt.plot(lab)\n",
    "plt.plot(res)\n",
    "print('RESULT: {}'.format( sum([ l == r for l,r in zip(lab300,res)])/len(lab300)))\n",
    "print('Probability: {}'.format(hackCasinoViterbiLog.returnProbability()))"
   ]
  },
  {
   "cell_type": "code",
   "execution_count": 69,
   "metadata": {},
   "outputs": [
    {
     "name": "stdout",
     "output_type": "stream",
     "text": [
      "RESULT: 0.748\n",
      "Probability: 2.5616090878884953e-235\n"
     ]
    },
    {
     "data": {
      "image/png": "[encoded data removed]",
      "text/plain": [
       "<matplotlib.figure.Figure at 0x25c82c0fba8>"
      ]
     },
     "metadata": {},
     "output_type": "display_data"
    }
   ],
   "source": [
    "hackCasinoViterbi = algorithmViterbiLog(dataset1000)\n",
    "result = hackCasinoViterbi()\n",
    "lab1000 = [0 if l =='F' else 1 for l in dataset1000Labels ]\n",
    "res = [0 if l =='F' else 1 for l in result]\n",
    "res.append(0)\n",
    "plt.plot(lab1000)\n",
    "plt.plot(res)\n",
    "print('RESULT: {}'.format( sum([ l == r for l,r in zip(lab1000,res)])/len(lab1000)))\n",
    "print('Probability: {}'.format(hackCasinoViterbiLog.returnProbability()))"
   ]
  },
  {
   "cell_type": "code",
   "execution_count": 70,
   "metadata": {},
   "outputs": [],
   "source": [
    "class baseAlgo():\n",
    "    def __init__(self, data):\n",
    "        self.data = data\n",
    "        self.L = len(data)\n",
    "        \n",
    "        self.states = ['F','U'] # F for Fair state, U for Unfair state\n",
    "        self.transitionsProbability = {\n",
    "            'F': np.array([0.95,0.05]), # to F, to U\n",
    "            'U': np.array([0.1,0.9]) # to F, to U\n",
    "        }\n",
    "        \n",
    "        self.startProbability = {\n",
    "            'F': 2/3,\n",
    "            'U': 1/3\n",
    "        }\n",
    "        \n",
    "        self.diceValues = [1,2,3,4,5,6]\n",
    "        self.diceValueProbability = {\n",
    "            'F': [1/6 for i in range(6)],\n",
    "            'U': [.1,.1,.1,.1,.1,.5]\n",
    "        }"
   ]
  },
  {
   "cell_type": "code",
   "execution_count": 93,
   "metadata": {},
   "outputs": [],
   "source": [
    "class forwardAlgorithm(baseAlgo):\n",
    "    def __init__(self, data):\n",
    "        baseAlgo.__init__(self, data)\n",
    "        \n",
    "        self.f = []\n",
    "        self.pathProbability = None\n",
    "    \n",
    "    def step(self, index):\n",
    "        self.f.append([])\n",
    "        for state in self.states:\n",
    "            transitionProbability = self.transitionsProbability[state]\n",
    "            observedProbability = self.diceValueProbability[state][self.data[index] - 1]\n",
    "            previuosState = self.f[index-1]\n",
    "            \"\"\"\n",
    "            observedProbability: вероятсность наблюдения при текущем состояние\n",
    "            transitionProbability: вероятность перехода с кубика на кубик\n",
    "            \"\"\"\n",
    "            probability = observedProbability * sum(previuosState * transitionProbability)\n",
    "            self.f[-1].append(probability)\n",
    "    \n",
    "    def __call__(self):\n",
    "        if self.pathProbability == None: self.initialization()\n",
    "        return self.pathProbability\n",
    "    \n",
    "    def initialization(self):\n",
    "        # Init\n",
    "        self.f.append([self.startProbability[state] for state in self.states]) # Не уверен\n",
    "        # Recursion\n",
    "        for i in range(1,self.L):\n",
    "            self.step(i)\n",
    "        self.pathProbability = sum(self.f[-1])"
   ]
  },
  {
   "cell_type": "code",
   "execution_count": 94,
   "metadata": {},
   "outputs": [
    {
     "data": {
      "text/plain": [
       "1.3542476897034294e-222"
      ]
     },
     "execution_count": 94,
     "metadata": {},
     "output_type": "execute_result"
    }
   ],
   "source": [
    "forwardHack = forwardAlgorithm(dataset300)\n",
    "forwardHack()"
   ]
  },
  {
   "cell_type": "code",
   "execution_count": 146,
   "metadata": {},
   "outputs": [],
   "source": [
    "class backwardAlgorithm(baseAlgo):\n",
    "    def __init__(self, data):\n",
    "        baseAlgo.__init__(self, data)\n",
    "        \n",
    "        self.b = []\n",
    "        self.pathProbability = None\n",
    "    \n",
    "    def step(self, index):\n",
    "        self.b.append([])\n",
    "        for state in self.states: # first fair then unfair\n",
    "            transitionProbability = self.transitionsProbability[state]\n",
    "            observedProbability = self.diceValueProbability[state][self.data[index] - 1]\n",
    "            nextState = self.b[-2]\n",
    "            \n",
    "            probability = sum(transitionProbability * observedProbability * nextState)\n",
    "            self.b[-1].append(probability)\n",
    "    \n",
    "    def __call__(self):\n",
    "        if self.pathProbability == None: self.initialization()\n",
    "        return self.pathProbability\n",
    "    \n",
    "    def initialization(self):\n",
    "        \n",
    "        self.b.append([1 for state in self.states])\n",
    "        #Recursion\n",
    "        for i in range(self.L-1,1,-1): # С двойки?\n",
    "            self.step(i)\n",
    "            \n",
    "        # Finish # перевернуть b\n",
    "        self.b = self.b[::-1]\n",
    "        self.pathProbability = sum([\n",
    "            self.transitionsProbability[state]*self.diceValueProbability[state][self.data[0] - 1] \n",
    "            for state in self.states] * np.array(self.b[0]))\n",
    "        self.pathProbability = sum(self.pathProbability)"
   ]
  },
  {
   "cell_type": "code",
   "execution_count": 147,
   "metadata": {},
   "outputs": [
    {
     "data": {
      "text/plain": [
       "4.225111988619696e-222"
      ]
     },
     "execution_count": 147,
     "metadata": {},
     "output_type": "execute_result"
    }
   ],
   "source": [
    "backwardHack = backwardAlgorithm(dataset300)\n",
    "backwardHack()"
   ]
  },
  {
   "cell_type": "code",
   "execution_count": null,
   "metadata": {},
   "outputs": [],
   "source": [
    "class PosteriorDecoding(baseAlgo):\n",
    "    def __init__(self, data):\n",
    "        baseAlgo.__init__(self, data)\n",
    "        \n",
    "    def step(self, init):\n",
    "        pass\n",
    "    \n",
    "    def __call__(self):\n",
    "        pass\n",
    "    \n",
    "    def initialization(self):\n",
    "        pass"
   ]
  },
  {
   "cell_type": "code",
   "execution_count": null,
   "metadata": {},
   "outputs": [],
   "source": []
  },
  {
   "cell_type": "code",
   "execution_count": null,
   "metadata": {},
   "outputs": [],
   "source": []
  },
  {
   "cell_type": "code",
   "execution_count": null,
   "metadata": {},
   "outputs": [],
   "source": []
  },
  {
   "cell_type": "code",
   "execution_count": null,
   "metadata": {},
   "outputs": [],
   "source": []
  },
  {
   "cell_type": "code",
   "execution_count": null,
   "metadata": {},
   "outputs": [],
   "source": []
  },
  {
   "cell_type": "code",
   "execution_count": null,
   "metadata": {},
   "outputs": [],
   "source": []
  },
  {
   "cell_type": "code",
   "execution_count": null,
   "metadata": {},
   "outputs": [],
   "source": []
  },
  {
   "cell_type": "code",
   "execution_count": null,
   "metadata": {},
   "outputs": [],
   "source": []
  },
  {
   "cell_type": "code",
   "execution_count": null,
   "metadata": {},
   "outputs": [],
   "source": []
  },
  {
   "cell_type": "code",
   "execution_count": null,
   "metadata": {},
   "outputs": [],
   "source": []
  },
  {
   "cell_type": "code",
   "execution_count": null,
   "metadata": {},
   "outputs": [],
   "source": [
    "class BaumWelchTrainig():\n",
    "    def __init__(self):\n",
    "        pass"
   ]
  }
 ],
 "metadata": {
  "kernelspec": {
   "display_name": "Python 3",
   "language": "python",
   "name": "python3"
  },
  "language_info": {
   "codemirror_mode": {
    "name": "ipython",
    "version": 3
   },
   "file_extension": ".py",
   "mimetype": "text/x-python",
   "name": "python",
   "nbconvert_exporter": "python",
   "pygments_lexer": "ipython3",
   "version": "3.6.4"
  }
 },
 "nbformat": 4,
 "nbformat_minor": 2
}
